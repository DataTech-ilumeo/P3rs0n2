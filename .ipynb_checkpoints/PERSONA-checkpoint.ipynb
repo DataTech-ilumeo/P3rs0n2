{
 "cells": [
  {
   "cell_type": "markdown",
   "metadata": {},
   "source": [
    "<h1 style='color:#ef9709'>PERSONAS - SÉRIE HISTÓRICA</h1>"
   ]
  },
  {
   "cell_type": "markdown",
   "metadata": {},
   "source": [
    "<h4 style='color:blue'>Última atualização</h4>\n",
    "\n",
    "<table style=\"float:left\">\n",
    "  <tr>\n",
    "    <th style=\"text-align:center\">Data</th>\n",
    "    <th style=\"text-align:center\">Autor</th> \n",
    "  </tr>\n",
    "  <tr>\n",
    "    <td style=\"text-align:left\">08/03/2019</td>\n",
    "    <td style=\"text-align:left\">Kevin Nakasaki</td> \n",
    "  </tr>\n",
    "</table>"
   ]
  },
  {
   "cell_type": "markdown",
   "metadata": {},
   "source": [
    "<h2>1. Preparação</h2>"
   ]
  },
  {
   "cell_type": "markdown",
   "metadata": {},
   "source": [
    "Primeiro é necessário importar as bibliotecas:"
   ]
  },
  {
   "cell_type": "code",
   "execution_count": null,
   "metadata": {},
   "outputs": [],
   "source": [
    "import numpy as np\n",
    "import pandas as pd"
   ]
  },
  {
   "cell_type": "markdown",
   "metadata": {},
   "source": [
    "Cria-se as variáveis para no futuro criar os \"txt\" finais, que serão importados no SQL Server:"
   ]
  },
  {
   "cell_type": "code",
   "execution_count": null,
   "metadata": {},
   "outputs": [],
   "source": [
    "# Mudar para 1 quando for gerar as bases\n",
    "while True:\n",
    "    try:\n",
    "        OPT_GERAR_VW_BASE = int(input(\"Você quer gerar VW_BASE? 1-Sim; 0-Não\\n\"))       \n",
    "    except ValueError:\n",
    "        print(\"O valor inserido não é um número.\")\n",
    "        continue\n",
    "    else:\n",
    "        if OPT_GERAR_VW_BASE not in range(0,2):\n",
    "            print(\"Coloque 1-Sim; 0-Não\")\n",
    "        else:\n",
    "            break\n",
    "\n",
    "while True:\n",
    "    try:\n",
    "        OPT_GERAR_VW_BASE_METRICAS = int(input(\"Você quer gerar VW_BASE_METRICAS? 1-Sim; 0-Não\\n\"))       \n",
    "    except ValueError:\n",
    "        print(\"O valor inserido não é um número.\")\n",
    "        continue\n",
    "    else:\n",
    "        if OPT_GERAR_VW_BASE_METRICAS not in range(0,2):\n",
    "            print(\"Coloque 1-Sim; 0-Não\")\n",
    "        else:\n",
    "            break\n",
    "\n",
    "while True:\n",
    "    try:\n",
    "        OPT_GERAR_VW_COMP = int(input(\"Você quer gerar VW_COMPARATIVO? 1-Sim; 0-Não\\n\"))       \n",
    "    except ValueError:\n",
    "        print(\"O valor inserido não é um número.\")\n",
    "        continue\n",
    "    else:\n",
    "        if OPT_GERAR_VW_COMP not in range(0,2):\n",
    "            print(\"Coloque 1-Sim; 0-Não\")\n",
    "        else:\n",
    "            break"
   ]
  },
  {
   "cell_type": "markdown",
   "metadata": {},
   "source": [
    "---"
   ]
  },
  {
   "cell_type": "markdown",
   "metadata": {},
   "source": [
    "<h3 style=color:red>1.1 Informe o número do flight atual</h3>"
   ]
  },
  {
   "cell_type": "code",
   "execution_count": null,
   "metadata": {},
   "outputs": [],
   "source": [
    "#Colocar o número do flight atual\n",
    "while True:\n",
    "    try:\n",
    "        FLIGHT_ATUAL = int(input(\"Qual é o número do flight atual? Insira um valor maior que 21!\\n\"))       \n",
    "    except ValueError:\n",
    "        print(\"O valor inserido não é um número.\")\n",
    "        continue\n",
    "    else:\n",
    "        if FLIGHT_ATUAL < 22:\n",
    "            print(\"Insira um valor maior que 21!\")\n",
    "        else:\n",
    "            break"
   ]
  },
  {
   "cell_type": "markdown",
   "metadata": {},
   "source": [
    "---"
   ]
  },
  {
   "cell_type": "markdown",
   "metadata": {},
   "source": [
    "Cria-se uma variável que será usada para o caminho da pasta raíz do projeto; um atalho para buscar os próximos arquivos:"
   ]
  },
  {
   "cell_type": "code",
   "execution_count": null,
   "metadata": {},
   "outputs": [],
   "source": [
    "# Se houver acentuação incorrerá em erro\n",
    "PATH_R = r'C:\\Users\\Kevin Nakasaki\\Ilumeo Brasil\\Data Technology - Projetos\\PERSONA\\Importacao\\SERIE'\n",
    "PATH_W = r'C:\\Users\\Kevin Nakasaki\\Ilumeo Brasil\\Data Technology - Projetos\\PERSONA\\Importacao'"
   ]
  },
  {
   "cell_type": "code",
   "execution_count": null,
   "metadata": {},
   "outputs": [],
   "source": [
    "PATH_FL = r'C:\\Users\\Kevin Nakasaki\\Ilumeo Brasil\\Data Technology - Projetos\\PERSONA\\Importacao\\%s' % FLIGHT_ATUAL\n",
    "PATH_FLX = r'C:\\Users\\Kevin Nakasaki\\Ilumeo Brasil\\Data Technology - Projetos\\PERSONA\\Importacao\\%s' % str(int(FLIGHT_ATUAL)-1)"
   ]
  },
  {
   "cell_type": "markdown",
   "metadata": {},
   "source": [
    "Define a função 'loadDF' que têm três argumentos:\n",
    "- file = nome do arquivo\n",
    "- enc = tipo de codificação (por padrão é 'utf-8')\n",
    "- sep = tipo do separador dos valores no arquivo (por padrão é ',')\n",
    "\n",
    "A função lê o arquivo (precisa ser \"txt\") e o aloca na variável em que for chamado:"
   ]
  },
  {
   "cell_type": "code",
   "execution_count": null,
   "metadata": {},
   "outputs": [],
   "source": [
    "def loadDF(file, enc=\"UTF-8\", sep=','): return pd.read_csv(PATH_R + r'\\{0}.txt'.format(file), encoding=enc, sep=sep)"
   ]
  },
  {
   "cell_type": "markdown",
   "metadata": {},
   "source": [
    "Define a função 'writeDF' que têm quatro argumentos:\n",
    "- dfr = nome do DataFrame ('df' alguma coisa) que é definido nesse script\n",
    "- file = nome do arquivo \"txt\" em que o DataFrame vai ser escrito\n",
    "- enc = tipo de codificação (por padrão é 'utf-8')\n",
    "- sep = tipo do separador dos valores no arquivo (por padrão é ',')\n",
    "\n",
    "A função escreve o DataFrame criado no python em um arquivo \"txt\":"
   ]
  },
  {
   "cell_type": "code",
   "execution_count": null,
   "metadata": {},
   "outputs": [],
   "source": [
    "def writeDF(dfr, file, enc=\"UTF-8\", sep=','): return dfr.to_csv(PATH_W + r'\\{0}{1}.txt'.format(file, FLIGHT_ATUAL), header=True, encoding=enc, sep=\",\", float_format=\"%.3f\")"
   ]
  },
  {
   "cell_type": "code",
   "execution_count": null,
   "metadata": {},
   "outputs": [],
   "source": [
    "def writeDF_FL(dfr, file, enc=\"UTF-8\", sep=','): return dfr.to_csv(PATH_FL + r'\\{0}{1}.txt'.format(file, FLIGHT_ATUAL), header=True, encoding=enc, sep=\"\\t\", float_format=\"%.3f\", index=False)"
   ]
  },
  {
   "cell_type": "markdown",
   "metadata": {},
   "source": [
    "---"
   ]
  },
  {
   "cell_type": "markdown",
   "metadata": {},
   "source": [
    "<h2 style='color:red'>2. Leitura do arquivo da série histórica</h2>"
   ]
  },
  {
   "cell_type": "markdown",
   "metadata": {},
   "source": [
    "Lê o \"txt\" da série histórica que será alocado na variável do DF de Base:"
   ]
  },
  {
   "cell_type": "code",
   "execution_count": null,
   "metadata": {
    "scrolled": false
   },
   "outputs": [],
   "source": [
    "# Se houver acentuação incorrerá em erro\n",
    "if FLIGHT_ATUAL == 22:\n",
    "    df = pd.read_csv(PATH_R + '\\SERIE_HISTORICA_FL21.txt', sep='\\t', encoding= 'ISO-8859-1')\n",
    "else:\n",
    "    df = pd.read_csv(PATH_FLX + '\\SERIE_HISTORICA_FL{}.txt'.format(str(int(FLIGHT_ATUAL)-1)), sep='\\t', encoding= 'UTF-8')"
   ]
  },
  {
   "cell_type": "markdown",
   "metadata": {},
   "source": [
    "---"
   ]
  },
  {
   "cell_type": "markdown",
   "metadata": {},
   "source": [
    "<h2>3. Append do último flight</h2>"
   ]
  },
  {
   "cell_type": "markdown",
   "metadata": {},
   "source": [
    "Junta o último flight à série histórica:"
   ]
  },
  {
   "cell_type": "markdown",
   "metadata": {},
   "source": [
    "<h4 style='color:blue'>Histórico de flights</h4>\n",
    "\n",
    "<table style=\"float:left\">\n",
    "  <tr>\n",
    "    <th style=\"text-align:center\">Data</th>\n",
    "    <th style=\"text-align:center\">Flight</th> \n",
    "  </tr>\n",
    "  <tr>\n",
    "    <td style=\"text-align:center\">09/10/2018</td>\n",
    "    <td style=\"text-align:center\">22</td> \n",
    "  </tr>\n",
    "  <tr>\n",
    "    <td style=\"text-align:center\">12/11/2018</td>\n",
    "    <td style=\"text-align:center\">23</td> \n",
    "  </tr>\n",
    "  <tr>\n",
    "    <td style=\"text-align:center\">08/03/2018</td>\n",
    "    <td style=\"text-align:center\">24</td> \n",
    "  </tr>\n",
    "</table>"
   ]
  },
  {
   "cell_type": "code",
   "execution_count": null,
   "metadata": {},
   "outputs": [],
   "source": [
    "fl = pd.read_csv(PATH_FL + '\\BASE_FL{0}.txt'.format(FLIGHT_ATUAL), sep='\\t', encoding= 'ISO-8859-1')"
   ]
  },
  {
   "cell_type": "code",
   "execution_count": null,
   "metadata": {
    "scrolled": true
   },
   "outputs": [],
   "source": [
    "# Exceção para inserir a coluna 'ID' no dataframe para fazer o join com a base da 'série histórica'.\n",
    "\n",
    "try:\n",
    "    fl.insert(0, 'ID', range(0, len(fl)))\n",
    "except:\n",
    "    pass\n",
    "\n",
    "fl = fl.reset_index(drop=True)"
   ]
  },
  {
   "cell_type": "code",
   "execution_count": null,
   "metadata": {},
   "outputs": [],
   "source": [
    "fl.columns"
   ]
  },
  {
   "cell_type": "code",
   "execution_count": null,
   "metadata": {},
   "outputs": [],
   "source": [
    "# Verifica a quantidade de colunas do dataframe\n",
    "len(fl.columns)"
   ]
  },
  {
   "cell_type": "markdown",
   "metadata": {},
   "source": [
    "O bloco de código abaixo junta a base da \"série histórica\" atual, com o último flight citado:"
   ]
  },
  {
   "cell_type": "code",
   "execution_count": null,
   "metadata": {},
   "outputs": [],
   "source": [
    "df = df.append(fl, ignore_index=True, sort=False)\n",
    "df[\"ID\"] = (df.index)+1\n",
    "\n",
    "# Variável para gerar o arquivo para a próxima série histórica que vai se tornar o DF de Base dos outros flights\n",
    "OPT_GERAR_PROX_SERIE_HISTORICA = 1"
   ]
  },
  {
   "cell_type": "markdown",
   "metadata": {},
   "source": [
    "<h3 style='color:black'>3.1. Gerar arquivo da próxima série histórica com o flight atual já adicionado</h3>"
   ]
  },
  {
   "cell_type": "code",
   "execution_count": null,
   "metadata": {},
   "outputs": [],
   "source": [
    "if OPT_GERAR_PROX_SERIE_HISTORICA == 1:\n",
    "    writeDF_FL(df, 'SERIE_HISTORICA_FL')\n",
    "    print('Nova série histórica gerada com sucesso!')"
   ]
  },
  {
   "cell_type": "markdown",
   "metadata": {},
   "source": [
    "---"
   ]
  },
  {
   "cell_type": "markdown",
   "metadata": {},
   "source": [
    "<h2 style='color:black'>4. Manipulação do DF de Base</h2>"
   ]
  },
  {
   "cell_type": "markdown",
   "metadata": {},
   "source": [
    "Exceção para verificar se existem todas as colunas no DataFrame e deletar a coluna 'IP'.\n",
    "Se retornar um erro, o bloco de código passa sem executar nada:"
   ]
  },
  {
   "cell_type": "code",
   "execution_count": null,
   "metadata": {
    "scrolled": true
   },
   "outputs": [],
   "source": [
    "try:\n",
    "    df = df[pd.Series(['CELEBRIDADE', 'ID', 'FLIGHT', 'ESTADO', 'IDADE', 'ESTADO_CIVIL',\n",
    "       'TEM_FILHOS', 'RENDA', 'ESCOLARIDADE', 'SEXO', 'AWARENESS', 'NOME',\n",
    "       'OPINIAO', 'LEMBRANCA_DE_MARCA', 'GOSTO_MUITO', 'ME_IDENTIFICO',\n",
    "       'TENHO_RESPEITO', 'PRESTO_ATENCAO', 'CONFIO',\n",
    "       'MUITO_BOM_NAQUILO_QUE_FAZ', 'INTELIGENTE', 'DETERMINADO', 'HONESTO',\n",
    "       'ENGRAÇADO', 'LINDO', 'SEDUTOR', 'DO_POVO', 'CARA_DO_BRASIL',\n",
    "       'INOVADOR', 'GOSTA_DE_DESAFIOS', 'TENHO_VISTO_NA_MIDIA',\n",
    "       'BOA_PARA_PROPAGANDA', 'COMPRARIA_PRODUTOS_QUE_ANUNCIASSE',\n",
    "       'BOA_PARA_PROPAGANDA_PROJETOS_SOCIAIS',\n",
    "       'ME_ENVOLVERIA_COM_PROJETOS_SOCIAIS_QUE_ANUNCIASSE',\n",
    "       'INDICARIA_PARA_AMIGOS_MARCAS',\n",
    "       'COMENTARIA_COM_AMIGOS_PROJETOS_SOCIAIS_QUE_ANUNCIASSE'])]\n",
    "\n",
    "    del df['IP', 'PALAVRAS', 'LEMB_MARCAS']\n",
    "except:\n",
    "    pass"
   ]
  },
  {
   "cell_type": "markdown",
   "metadata": {},
   "source": [
    "Cria um item no DataFrame 'df' chamado 'IX' e o configura para ser igual ao 'ID'. Em seguida o configura para ser o índice do dicionário:"
   ]
  },
  {
   "cell_type": "code",
   "execution_count": null,
   "metadata": {},
   "outputs": [],
   "source": [
    "df[\"IX\"] = df[\"ID\"]\n",
    "df = df.set_index(\"IX\")"
   ]
  },
  {
   "cell_type": "markdown",
   "metadata": {},
   "source": [
    "---"
   ]
  },
  {
   "cell_type": "markdown",
   "metadata": {},
   "source": [
    "<h2 style='color:black'>5. Tratamento de METADADOS</h2>"
   ]
  },
  {
   "cell_type": "code",
   "execution_count": null,
   "metadata": {},
   "outputs": [],
   "source": [
    "meta = loadDF(\"METADADOS\", enc=\"UTF-8\")\n",
    "meta[\"COLUNA2\"] = meta[\"COLUNA\"]\n",
    "meta = meta.set_index(\"COLUNA2\")"
   ]
  },
  {
   "cell_type": "markdown",
   "metadata": {},
   "source": [
    "---"
   ]
  },
  {
   "cell_type": "markdown",
   "metadata": {},
   "source": [
    "<h2 style='color:black'>6. Tratamento de FOTOS</h2>"
   ]
  },
  {
   "cell_type": "markdown",
   "metadata": {},
   "source": [
    "Define o DataFrame 'df_fotos' utilizando a função 'loadDF' e já configura a coluna 'CELEBRIDADE' como índice:"
   ]
  },
  {
   "cell_type": "code",
   "execution_count": null,
   "metadata": {
    "scrolled": true
   },
   "outputs": [],
   "source": [
    "df_fotos = loadDF('\\FOTOS', enc= 'ISO-8859-1', sep='\\t').set_index('CELEBRIDADE')\n",
    "df_fotos"
   ]
  },
  {
   "cell_type": "code",
   "execution_count": null,
   "metadata": {},
   "outputs": [],
   "source": [
    "#Verificar se está vindo certo (provisório: 04/01/2019)\n",
    "df_fotos[df_fotos.index == 'Eduardo Moscovis']"
   ]
  },
  {
   "cell_type": "markdown",
   "metadata": {},
   "source": [
    "---"
   ]
  },
  {
   "cell_type": "markdown",
   "metadata": {},
   "source": [
    "<h2 style='color:black'>7. Tratamento de CATEGORIAS</h2>"
   ]
  },
  {
   "cell_type": "markdown",
   "metadata": {},
   "source": [
    "Define o DataFrame 'df_categorias' utilizando a função 'loadDF':"
   ]
  },
  {
   "cell_type": "code",
   "execution_count": null,
   "metadata": {},
   "outputs": [],
   "source": [
    "#df_categorias = loadDF('\\CATEGORIAS', enc= 'ISO-8859-1', sep='\\t')"
   ]
  },
  {
   "cell_type": "markdown",
   "metadata": {},
   "source": [
    "<h3 style='color:black'>7.1 Verificação - CELEBRIDADES x CATEGORIAS</h3>"
   ]
  },
  {
   "cell_type": "code",
   "execution_count": null,
   "metadata": {},
   "outputs": [],
   "source": [
    "#df4 = df_categorias.reset_index().set_index('CELEBRIDADE')\n",
    "#df5 = df.copy()\n",
    "#\n",
    "##Join entre BASE e CATEGORIAS\n",
    "#df5 = df5.reset_index().set_index('CELEBRIDADE').join(df4).reset_index().set_index('IX')\n",
    "#\n",
    "##Mostra quais CELEBRIDADES não estão classificadas\n",
    "#df6 = df5[ df5['CATEGORIA'].isna()]\n",
    "#\n",
    "##Cria um arquivo se houver CELEBRIDADES NÃO CATEGORIZADAS\n",
    "#if df6.shape[:1] == (0,):\n",
    "#    print(df6)\n",
    "#else:\n",
    "#    writeDF(df6, 'COMP_CATEG')"
   ]
  },
  {
   "cell_type": "code",
   "execution_count": null,
   "metadata": {},
   "outputs": [],
   "source": [
    "#<h3 style='color:black'>7.2 Tratamento do DataFrame de Categorias</h3>\n",
    "\n",
    "#Atualiza o DataFrame 'df_categorias' resetando o índice do DataFrame. **Por não ter o argumento *drop=True*, \n",
    "#o índice antigo se transforma numa nova coluna no DataFrame**.\n",
    "#Em seguida cria um DataFrame no qual o índice é a coluna 'CELEBRIDADE' e a coluna do DataFrame é a 'CATEGORIA', \n",
    "#agrupando tudo através da função *lambda* definida, ao invés do padrão que é *numpy.mean* \n",
    "#(**verificar com o Danilo para quê isso foi feito**):\n",
    "\n",
    "#df_categorias = df_categorias  \\\n",
    "#    .reset_index() \\\n",
    "#    .pivot_table(index='CELEBRIDADE' ,columns=['CATEGORIA'], aggfunc=lambda x : x)"
   ]
  },
  {
   "cell_type": "markdown",
   "metadata": {},
   "source": [
    "---"
   ]
  },
  {
   "cell_type": "markdown",
   "metadata": {},
   "source": [
    "<h2 style='color:black'>8. Join entre BASE e FOTOS</h2>"
   ]
  },
  {
   "cell_type": "markdown",
   "metadata": {},
   "source": [
    "O código abaixo executa os seguintes passos:\n",
    "1. Reseta o índice do DataFrame 'df' (que puxou o arquivo 'SERIE_HISTORICA_FL21')\n",
    "2. Configura como novo índice a coluna 'CELEBRIDADE'\n",
    "3. Junta o 'df' com 'df_fotos' utilizando os seus índices (de ambos são a coluna 'CELEBRIDADE')\n",
    "4. Reseta o índice de 'df' novamente (já que já foi utilizado para o *join*)\n",
    "5. Configura novamente o índice para a coluna 'IX'"
   ]
  },
  {
   "cell_type": "code",
   "execution_count": null,
   "metadata": {},
   "outputs": [],
   "source": [
    "df = df.reset_index().set_index('CELEBRIDADE').join(df_fotos).reset_index().set_index('IX')"
   ]
  },
  {
   "cell_type": "markdown",
   "metadata": {},
   "source": [
    "A função *option_context()* é utilizada para permitir que todas as colunas sejam mostradas no *print()*, para conferir se o *join* foi realizado corretamente.\n",
    "\n",
    "A função *head()* retorna, por padrão, as primeiras 5 linhas do DataFrame para verificar os tipos de dados que o DataFrame contém."
   ]
  },
  {
   "cell_type": "code",
   "execution_count": null,
   "metadata": {
    "scrolled": true
   },
   "outputs": [],
   "source": [
    "# Verificação de print() sem o option_context()\n",
    "print(df.head())"
   ]
  },
  {
   "cell_type": "code",
   "execution_count": null,
   "metadata": {
    "scrolled": true
   },
   "outputs": [],
   "source": [
    "with pd.option_context('display.max_rows', None, 'display.max_columns', 100):\n",
    "    print(df.head())"
   ]
  },
  {
   "cell_type": "code",
   "execution_count": null,
   "metadata": {},
   "outputs": [],
   "source": [
    "#Verificar se está vindo certo (provisório: 04/01/2019)\n",
    "df[df[\"CELEBRIDADE\"] == 'Eduardo Moscovis']"
   ]
  },
  {
   "cell_type": "markdown",
   "metadata": {},
   "source": [
    "---"
   ]
  },
  {
   "cell_type": "markdown",
   "metadata": {},
   "source": [
    "<h2 style='color:black'>9. Verificação - Problemas na BASE</h2>"
   ]
  },
  {
   "cell_type": "code",
   "execution_count": null,
   "metadata": {},
   "outputs": [],
   "source": [
    "#Verificação - CELEBRIDADES x FOTOS\n",
    "#VERIF_FOTOS = 1\n",
    "#df3 = df[ df[\"FOTO_P\"].isna() ]\n",
    "#print(df3[\"CELEBRIDADE\"].unique(), \"Coluna FOTO_P\")\n",
    "#df3 = df[ df[\"FOTO_M\"].isna() ]\n",
    "#print(df3[\"CELEBRIDADE\"].unique(), \"Coluna FOTO_M\")\n",
    "#df3 = df[ df[\"FOTO_G\"].isna() ]\n",
    "#print(df3[\"CELEBRIDADE\"].unique(), \"Coluna FOTO_G\")\n",
    "#\n",
    "#if VERIF_FOTOS == 1:\n",
    "#    writeDF(df3, 'VERIF_FOTOS')\n",
    "#    print(\"Arquivo exportado\")"
   ]
  },
  {
   "cell_type": "code",
   "execution_count": null,
   "metadata": {},
   "outputs": [],
   "source": [
    "# with pd.option_context('display.max_rows', None, 'display.max_columns', 10):\n",
    "    # print(pd.Series(df[\"CELEBRIDADE\"].unique()))\n",
    "    # print(pd.Series(df[\"FLIGHT\"].unique()))\n",
    "    # print(pd.Series(df[\"ESTADO\"].unique()))\n",
    "    # print(pd.Series(sorted(df[\"IDADE\"].unique())))\n",
    "    # print(pd.Series(sorted(df[\"ESTADO_CIVIL\"].unique())))\n",
    "    # print(pd.Series(sorted(df[\"TEM_FILHOS\"].unique())))\n",
    "    # print(pd.Series(sorted(df[\"RENDA\"].unique())))\n",
    "    # print(pd.Series(sorted(df[\"ESCOLARIDADE\"].unique())))\n",
    "    # print(pd.Series(sorted(df[\"SEXO\"].unique())))\n",
    "    # print(pd.Series(sorted(df[\"AWARENESS\"].unique())))"
   ]
  },
  {
   "cell_type": "markdown",
   "metadata": {},
   "source": [
    "Cria a *Series* 'df2' como sendo o resultado do *subset* (no SQL = SELECT) de todos os Estados com valores maiores que 27.\n",
    "\n",
    "Em seguida printa o *subset* do *Series* 'df2' puxando todos os valores distintos na coluna 'FLIGHT' (no SQL = SELECT DISTINCT FLIGHT FROM df2):"
   ]
  },
  {
   "cell_type": "code",
   "execution_count": null,
   "metadata": {},
   "outputs": [],
   "source": [
    "# FLIGHT 18 TÁ CAGADO, fizeram alguma bosta na coluna de Estado. Tem que esperar o Gui arrumar\n",
    "df2 = df[ df[\"ESTADO\"] > 27 ]\n",
    "print(df2[\"FLIGHT\"].unique())"
   ]
  },
  {
   "cell_type": "markdown",
   "metadata": {},
   "source": [
    "A função *isnull()* (também conhecida como *isna()*) retorna 'True' para cada valor nulo na coluna. Foi utilizado para buscar por valores nulos no DataFrame (aparentemente esperava-se que tudo estivesse preenchido)."
   ]
  },
  {
   "cell_type": "code",
   "execution_count": null,
   "metadata": {},
   "outputs": [],
   "source": [
    "# FLIGHT 9 TÁ CAGADO, fizeram alguma bosta nas colunas de perfil demográfico, pois estão vazias\n",
    "df2 =  df [ pd.isnull(df[\"IDADE\"]) ]\n",
    "print(df2[\"FLIGHT\"].unique())\n",
    "df2 =  df [ pd.isnull(df[\"ESTADO_CIVIL\"]) ]\n",
    "print(df2[\"FLIGHT\"].unique())\n",
    "df2 =  df [ pd.isnull(df[\"TEM_FILHOS\"]) ]\n",
    "print(df2[\"FLIGHT\"].unique())\n",
    "df2 =  df [ pd.isnull(df[\"RENDA\"]) ]\n",
    "print(df2[\"FLIGHT\"].unique())\n",
    "df2 =  df [ pd.isnull(df[\"ESCOLARIDADE\"]) ]\n",
    "print(df2[\"FLIGHT\"].unique())\n",
    "df2 =  df [ pd.isnull(df[\"SEXO\"]) ]\n",
    "print(df2[\"FLIGHT\"].unique())"
   ]
  },
  {
   "cell_type": "markdown",
   "metadata": {},
   "source": [
    "Faz a mesma verificação por valores nulos só que dessa vez criando uma cópia do resultado e o associando em 'df2':"
   ]
  },
  {
   "cell_type": "code",
   "execution_count": null,
   "metadata": {},
   "outputs": [],
   "source": [
    "# FLIGHTS 8, 11, 12 possuem a coluna de 'AWARENESS' vazio\n",
    "df2 =  df [ pd.isnull(df[\"AWARENESS\"]) ].copy()"
   ]
  },
  {
   "cell_type": "markdown",
   "metadata": {},
   "source": [
    "Printa as quantidades de celebridades em 'df2' agrupando pela coluna 'FLIGHT':"
   ]
  },
  {
   "cell_type": "code",
   "execution_count": null,
   "metadata": {},
   "outputs": [],
   "source": [
    "print(df2.groupby(\"FLIGHT\")[\"CELEBRIDADE\"].count() )"
   ]
  },
  {
   "cell_type": "markdown",
   "metadata": {},
   "source": [
    "Cria a variável 'ls_cols' e associa a ela uma lista criada a partir da coluna 'AWARENESS':"
   ]
  },
  {
   "cell_type": "code",
   "execution_count": null,
   "metadata": {
    "scrolled": true
   },
   "outputs": [],
   "source": [
    "ls_cols = list([\"AWARENESS\"])"
   ]
  },
  {
   "cell_type": "markdown",
   "metadata": {},
   "source": [
    "Adiciona o conteúdo das listas 'ls_cols' e a lista gerada a partir de 'pd.Series(df.columns)[13:-3]', criando uma única lista em 'ls_cols'.\n",
    "\n",
    "O item *.columns* faz com que sejam \"puxados\" somente os *labels* das colunas que no caso são as escalas:"
   ]
  },
  {
   "cell_type": "code",
   "execution_count": null,
   "metadata": {},
   "outputs": [],
   "source": [
    "ls_cols.extend(pd.Series(df.columns)[13:-3])"
   ]
  },
  {
   "cell_type": "markdown",
   "metadata": {},
   "source": [
    "Cria um DataFrame com a *Series* da lista 'ls_cols':"
   ]
  },
  {
   "cell_type": "code",
   "execution_count": null,
   "metadata": {},
   "outputs": [],
   "source": [
    "df2 = df [ pd.Series(ls_cols) ]"
   ]
  },
  {
   "cell_type": "markdown",
   "metadata": {},
   "source": [
    "Printa um sumário com as principais estatísticas excluindo-se os valores *NaN*:"
   ]
  },
  {
   "cell_type": "code",
   "execution_count": null,
   "metadata": {
    "scrolled": true
   },
   "outputs": [],
   "source": [
    "print(df2.describe())"
   ]
  },
  {
   "cell_type": "code",
   "execution_count": null,
   "metadata": {},
   "outputs": [],
   "source": [
    "# As escalas ME_ENVOLVERIA_COM_PROJETOS_SOCIAIS_QUE_ANUNCIASSE e INDICARIA_PARA_AMIGOS_MARCAS não foram respondidas no flight 8"
   ]
  },
  {
   "cell_type": "markdown",
   "metadata": {},
   "source": [
    "**Legenda de AWARENESS na tabela: 1 - Sei; 2 - Não Sei**\n",
    "\n",
    "Busca no DataFrame 'df' quais são as CELEBRIDADES que são conhecidas e que os respondentes preencheram no campo 'GOSTO_MUITO'."
   ]
  },
  {
   "cell_type": "code",
   "execution_count": null,
   "metadata": {},
   "outputs": [],
   "source": [
    "df2 = df[ df[\"AWARENESS\"] == 1 &  pd.notnull( df[\"GOSTO_MUITO\"]) ]"
   ]
  },
  {
   "cell_type": "markdown",
   "metadata": {},
   "source": [
    "Cria uma *Series* dos *labels* do DataFrame 'df2' para verificar o DataFrame contém todas as colunas necessárias:"
   ]
  },
  {
   "cell_type": "code",
   "execution_count": null,
   "metadata": {
    "scrolled": true
   },
   "outputs": [],
   "source": [
    "print(pd.Series(df2.columns))"
   ]
  },
  {
   "cell_type": "markdown",
   "metadata": {},
   "source": [
    "Busca por colunas que possuem valores nulos e seus respectivos 'FLIGHTS':"
   ]
  },
  {
   "cell_type": "code",
   "execution_count": null,
   "metadata": {
    "scrolled": true
   },
   "outputs": [],
   "source": [
    "print( df2 [ pd.isnull(df2[\"GOSTO_MUITO\"]) ][\"FLIGHT\"].unique() )\n",
    "print( df2 [ pd.isnull(df2[\"ME_IDENTIFICO\"]) ][\"FLIGHT\"].unique() )\n",
    "print( df2 [ pd.isnull(df2[\"TENHO_RESPEITO\"]) ][\"FLIGHT\"].unique() )\n",
    "print( df2 [ pd.isnull(df2[\"PRESTO_ATENCAO\"]) ][\"FLIGHT\"].unique() )\n",
    "print( df2 [ pd.isnull(df2[\"CONFIO\"]) ][\"FLIGHT\"].unique() )\n",
    "print( df2 [ pd.isnull(df2[\"MUITO_BOM_NAQUILO_QUE_FAZ\"]) ][\"FLIGHT\"].unique() )\n",
    "print( df2 [ pd.isnull(df2[\"INTELIGENTE\"]) ][\"FLIGHT\"].unique() )\n",
    "print( df2 [ pd.isnull(df2[\"DETERMINADO\"]) ][\"FLIGHT\"].unique() )\n",
    "print( df2 [ pd.isnull(df2[\"HONESTO\"]) ][\"FLIGHT\"].unique() )\n",
    "print( df2 [ pd.isnull(df2[\"ENGRAÇADO\"]) ][\"FLIGHT\"].unique() )\n",
    "print( df2 [ pd.isnull(df2[\"LINDO\"]) ][\"FLIGHT\"].unique() )\n",
    "print( df2 [ pd.isnull(df2[\"SEDUTOR\"]) ][\"FLIGHT\"].unique() )\n",
    "print( df2 [ pd.isnull(df2[\"DO_POVO\"]) ][\"FLIGHT\"].unique() )\n",
    "print( df2 [ pd.isnull(df2[\"CARA_DO_BRASIL\"]) ][\"FLIGHT\"].unique() )\n",
    "print( df2 [ pd.isnull(df2[\"INOVADOR\"]) ][\"FLIGHT\"].unique() )\n",
    "print( df2 [ pd.isnull(df2[\"GOSTA_DE_DESAFIOS\"]) ][\"FLIGHT\"].unique() )\n",
    "print( df2 [ pd.isnull(df2[\"TENHO_VISTO_NA_MIDIA\"]) ][\"FLIGHT\"].unique() )\n",
    "print( df2 [ pd.isnull(df2[\"BOA_PARA_PROPAGANDA\"]) ][\"FLIGHT\"].unique() )\n",
    "print( df2 [ pd.isnull(df2[\"COMPRARIA_PRODUTOS_QUE_ANUNCIASSE\"]) ][\"FLIGHT\"].unique() )\n",
    "print( df2 [ pd.isnull(df2[\"BOA_PARA_PROPAGANDA_PROJETOS_SOCIAIS\"]) ][\"FLIGHT\"].unique() )\n",
    "print( df2 [ pd.isnull(df2[\"ME_ENVOLVERIA_COM_PROJETOS_SOCIAIS_QUE_ANUNCIASSE\"]) ][\"FLIGHT\"].unique() )\n",
    "print( df2 [ pd.isnull(df2[\"INDICARIA_PARA_AMIGOS_MARCAS\"]) ][\"FLIGHT\"].unique() )\n",
    "print( df2 [ pd.isnull(df2[\"COMENTARIA_COM_AMIGOS_PROJETOS_SOCIAIS_QUE_ANUNCIASSE\"]) ][\"FLIGHT\"].unique() )\n",
    "\n",
    "print (\"\\n\\n\")"
   ]
  },
  {
   "cell_type": "markdown",
   "metadata": {},
   "source": [
    "**Legenda de AWARENESS na tabela: 1 - Sei; 2 - Não Sei**\n",
    "\n",
    "Cria uma condição em que é necessário que as colunas sejam nulas e que o 'AWARENESS' seja igual a 1, para printar a quantidade de CELEBRIDADES agrupadas por 'FLIGHT' em que essas condições sejam verdadeiras:"
   ]
  },
  {
   "cell_type": "code",
   "execution_count": null,
   "metadata": {},
   "outputs": [],
   "source": [
    "df3 = df2[ pd.isnull(df2[\"ME_ENVOLVERIA_COM_PROJETOS_SOCIAIS_QUE_ANUNCIASSE\"]) & df2[\"AWARENESS\"] == 1  ]\n",
    "print (df3.groupby('FLIGHT')[\"CELEBRIDADE\"].count())\n",
    "\n",
    "df3 = df2[ pd.isnull(df2[\"INDICARIA_PARA_AMIGOS_MARCAS\"]) & df2[\"AWARENESS\"] == 1  ]\n",
    "print (df3.groupby('FLIGHT')[\"CELEBRIDADE\"].count())\n",
    "\n",
    "print (\"\\n\\n\")"
   ]
  },
  {
   "cell_type": "markdown",
   "metadata": {},
   "source": [
    "**Verificar com Danilo por que foi feito pelo 'df' e não pelo 'df2' igual aos outros**"
   ]
  },
  {
   "cell_type": "code",
   "execution_count": null,
   "metadata": {},
   "outputs": [],
   "source": [
    "# FLIGHT 17 possui 1 registro que apesar de ter marcado que conhece o artista, não respondeu nenhuma escala\n",
    "df2 =  df [ df[\"AWARENESS\"] == 1 & pd.isnull(df[\"GOSTO_MUITO\"]) ]\n",
    "print(df2.groupby('FLIGHT')['CELEBRIDADE'].count())\n",
    "\n",
    "print (\"\\n\\n\") \n",
    "\n",
    "df2 = df[ df[\"FLIGHT\"] == 8 ]\n",
    "print(df2.groupby(\"AWARENESS\")[\"CELEBRIDADE\"].count() )"
   ]
  },
  {
   "cell_type": "markdown",
   "metadata": {},
   "source": [
    "---"
   ]
  },
  {
   "cell_type": "markdown",
   "metadata": {},
   "source": [
    "<h2 style='color:black'>10. Tabelas auxiliares</h2>"
   ]
  },
  {
   "cell_type": "code",
   "execution_count": null,
   "metadata": {},
   "outputs": [],
   "source": [
    "df_escolaridade = loadDF('ESCOLARIDADE')\n",
    "df_estado_civil = loadDF('ESTADOCIVIL')\n",
    "df_idade = loadDF('IDADE')\n",
    "df_idade2 = loadDF('IDADE_FL8_14')\n",
    "df_renda = loadDF('RENDA')\n",
    "df_uf = loadDF('UF')"
   ]
  },
  {
   "cell_type": "markdown",
   "metadata": {},
   "source": [
    "Cria um dicionário para fazer a mesma função que as tabelas auxiliares que são importadas no SQL Server:"
   ]
  },
  {
   "cell_type": "code",
   "execution_count": null,
   "metadata": {},
   "outputs": [],
   "source": [
    "dictAux = {     \"ESCOLARIDADE\" : df_escolaridade.set_index('COD_ESCOLARIDADE')\n",
    "              , \"ESTADOCIVIL\"  : df_estado_civil.set_index('COD_ESTADOCIVIL')\n",
    "              , \"IDADE\"        : df_idade.set_index('COD_IDADE')\n",
    "              , \"IDADE_FL8_14\" : df_idade2.set_index('COD_IDADE')\n",
    "              , \"RENDA\"        : df_renda.set_index('COD_RENDA')\n",
    "              , \"UF\"           : df_uf.set_index('COD_ESTADO')\n",
    "          }"
   ]
  },
  {
   "cell_type": "markdown",
   "metadata": {},
   "source": [
    "---"
   ]
  },
  {
   "cell_type": "markdown",
   "metadata": {},
   "source": [
    "<h2 style='color:red'>11. Views para o PowerBI</h2>"
   ]
  },
  {
   "cell_type": "markdown",
   "metadata": {},
   "source": [
    "<h3 style='color:blue'>11.1. VW_BASE</h3>"
   ]
  },
  {
   "cell_type": "markdown",
   "metadata": {},
   "source": [
    "Cria uma cópia do DataFrame 'df' e o nomeia como 'df_base'.\n",
    "\n",
    "Em seguida faz os *joins* para buscar as informações do dicionário auxiliar (semelhante a buscar informações das tabelas auxiliares).\n",
    "\n",
    "A função *where()* é semelhante à um *if* no excel, em que se determinada condição for satisfeita, executar a primeira opção, caso contrário executar a segunda (*where(condition, True, False)*):"
   ]
  },
  {
   "cell_type": "code",
   "execution_count": null,
   "metadata": {
    "scrolled": true
   },
   "outputs": [],
   "source": [
    "#Necessário colocar um IF para verificar se é um flight > que 15 para fazer o join com o arquivo \"IDADE\", \n",
    "#caso contrário faz o join com o arquivo \"IDADE_FL8_14\"\n",
    "\n",
    "df_base = df.copy()\n",
    "\n",
    "df_base = df_base.set_index('ESCOLARIDADE').join(dictAux[\"ESCOLARIDADE\"])\n",
    "df_base = df_base.set_index('ESTADO_CIVIL').join(dictAux[\"ESTADOCIVIL\"])\n",
    "df_base = df_base.set_index('IDADE').join(dictAux[\"IDADE\"])\n",
    "df_base = df_base.set_index('RENDA').join(dictAux[\"RENDA\"])\n",
    "df_base = df_base.set_index('ESTADO').join(dictAux[\"UF\"])\n",
    "# df_base[\"ESCOLARIDADE\"] = df[\"ESCOLARIDADE\"]\n",
    "# df_base[\"ESTADO_CIVIL\"] = df[\"ESTADO_CIVIL\"]\n",
    "# df_base[\"IDADE\"] = df[\"IDADE\"]\n",
    "# df_base[\"RENDA\"] = df[\"RENDA\"]\n",
    "# df_base[\"ESTADO\"] = df[\"ESTADO\"]\n",
    "\n",
    "# Correção realizada: 1 - Feminino ; 2 - Masculino\n",
    "df_base[\"SEXO\"] = np.where(df[\"SEXO\"] == 1, \"Feminino\", \"Masculino\")\n",
    "df_base[\"TEM_FILHOS\"] = np.where(df[\"TEM_FILHOS\"] == 1, \"Sim\", \"Não\")"
   ]
  },
  {
   "cell_type": "code",
   "execution_count": null,
   "metadata": {},
   "outputs": [],
   "source": [
    "df_base.columns"
   ]
  },
  {
   "cell_type": "markdown",
   "metadata": {},
   "source": [
    "Deleta as colunas de 'df_base' que estão com os valores antigos, usados para puxar os valores no *join* e renomeia as colunas que vieram das \"tabelas auxiliares\" para fazer o papel das colunas deletadas:"
   ]
  },
  {
   "cell_type": "code",
   "execution_count": null,
   "metadata": {},
   "outputs": [],
   "source": [
    "# del df_base[\"ESTADO\"]\n",
    "# del df_base[\"RENDA\"]\n",
    "# del df_base[\"ESCOLARIDADE\"]\n",
    "# del df_base[\"IDADE\"]\n",
    "\n",
    "df_base.rename( columns ={ \n",
    "    \"UF_NOME\" : \"ESTADO\" ,\n",
    "    \"RENDA_DESC2\": \"RENDA\",\n",
    "    \"ESCOLARIDADE_DESC2\" : \"ESCOLARIDADE\",\n",
    "    \"ESTADOCIVIL_DESC\": \"ESTADOCIVIL\",\n",
    "    \"IDADE_INT\": \"IDADE\"\n",
    "}, inplace=True)"
   ]
  },
  {
   "cell_type": "markdown",
   "metadata": {},
   "source": [
    "Bloco para gerar o arquivo que será usado na importação no SQL Server.\n",
    "\n",
    "Ordena pela coluna 'ID' de forma ascendente e a configura para ser índice (key).\n",
    "Em seguida usa a função 'writeDF' para escrever o DataFrame no arquivo \"VW_BASE.txt\":"
   ]
  },
  {
   "cell_type": "code",
   "execution_count": null,
   "metadata": {},
   "outputs": [],
   "source": [
    "if OPT_GERAR_VW_BASE == 1:\n",
    "    df_base = df_base        \\\n",
    "        .sort_values(by=['ID'], ascending=True)        \\\n",
    "        .set_index(\"ID\")\n",
    "\n",
    "    writeDF(df_base, 'VW_BASE')\n",
    "        \n",
    "    print(\"Arquivo gerado\")"
   ]
  },
  {
   "cell_type": "markdown",
   "metadata": {},
   "source": [
    "---"
   ]
  },
  {
   "cell_type": "markdown",
   "metadata": {},
   "source": [
    "<h3 style='color:blue'>11.2. VW_BASE_METRICAS (FULL)</h3>"
   ]
  },
  {
   "cell_type": "code",
   "execution_count": null,
   "metadata": {},
   "outputs": [],
   "source": [
    "df_awareness = df.copy()\n",
    "\n",
    "df_awareness['AW'] = np.where( df_awareness['AWARENESS'] == 1, 'S', 'N' )"
   ]
  },
  {
   "cell_type": "code",
   "execution_count": null,
   "metadata": {},
   "outputs": [],
   "source": [
    "df_aw = df.copy()\n",
    "\n",
    "df_aw['AW'] = np.where( df_aw['AWARENESS'] == 1, 1, 0 )"
   ]
  },
  {
   "cell_type": "code",
   "execution_count": null,
   "metadata": {},
   "outputs": [],
   "source": [
    "df_awareness = df_awareness.groupby(['FLIGHT','CELEBRIDADE','AW'], as_index=False).count()\n",
    "df_awareness = df_awareness[ pd.Series(['CELEBRIDADE','FLIGHT','AW', 'ID']) ].pivot_table('ID',['CELEBRIDADE','FLIGHT'],'AW')\n",
    "df_awareness[\"AWARENESS\"] = df_awareness['S'] / (df_awareness['S'] + df_awareness['N'])\n",
    "df_awareness[\"AWARENESS_NIVEL\"] = np.where( df_awareness['AWARENESS'] >= 0.70, 'Alto', 'Baixo' )\n",
    "\n",
    "cols = [\n",
    "    'ID',\n",
    "    'CELEBRIDADE',\n",
    "    'FLIGHT',\n",
    "    'GOSTO_MUITO',\n",
    "    'ME_IDENTIFICO',\n",
    "    'TENHO_RESPEITO',\n",
    "    'PRESTO_ATENCAO',\n",
    "    'CONFIO',\n",
    "    'MUITO_BOM_NAQUILO_QUE_FAZ',\n",
    "    'INTELIGENTE',\n",
    "    'DETERMINADO',\n",
    "    'HONESTO',\n",
    "    'ENGRAÇADO',\n",
    "    'LINDO',\n",
    "    'SEDUTOR',\n",
    "    'DO_POVO',\n",
    "    'CARA_DO_BRASIL',\n",
    "    'INOVADOR',\n",
    "    'GOSTA_DE_DESAFIOS',\n",
    "    'TENHO_VISTO_NA_MIDIA',\n",
    "    'BOA_PARA_PROPAGANDA',\n",
    "    'COMPRARIA_PRODUTOS_QUE_ANUNCIASSE',\n",
    "    'BOA_PARA_PROPAGANDA_PROJETOS_SOCIAIS',\n",
    "    'ME_ENVOLVERIA_COM_PROJETOS_SOCIAIS_QUE_ANUNCIASSE',\n",
    "    'INDICARIA_PARA_AMIGOS_MARCAS',\n",
    "    'COMENTARIA_COM_AMIGOS_PROJETOS_SOCIAIS_QUE_ANUNCIASSE',\n",
    "]\n",
    "\n",
    "df_metricas = df.copy()\n",
    "\n",
    "df_metricas = df_metricas[ pd.Series(cols) ]    \\\n",
    "    .melt(id_vars=['ID', 'CELEBRIDADE', 'FLIGHT' ],  value_name= 'VALOR', var_name='METRICA')     \\\n",
    "    .set_index(\"METRICA\")     \\\n",
    "    .join(meta)\n",
    "    \n",
    "df_metricas[\"TOP2\"] = np.where( df_metricas[\"VALOR\"] >= 6 , 1 , 0 )\n",
    "df_metricas[\"BOT2\"] = np.where( (df_metricas[\"VALOR\"] <= 2) & (df_metricas[\"VALOR\"] > 0) , 1 , 0 )\n",
    "\n",
    "del df_metricas[\"PERGUNTA\"]\n",
    "del df_metricas[\"COLUNA\"]\n",
    "\n",
    "df_metricas = df_metricas     \\\n",
    "        .set_index(['CELEBRIDADE','FLIGHT'])     \\\n",
    "        .join(df_awareness)     \\\n",
    "        .set_index(\"ID\")     \\\n",
    "        .join( df[ pd.Series([ \"FOTO_G\" , \"FOTO_M\" , \"FOTO_P\", 'CELEBRIDADE', 'FLIGHT' ]) ]  )\n",
    "\n",
    "# Criação dos cálculos de positivo geral e negativo geral e merge desses dados no arquivo VW_BASE_METRICAS\n",
    "df_metr1 = df_metricas.groupby(['CELEBRIDADE', 'FLIGHT', 'S', 'N', 'METRICA']).sum()\n",
    "df_metr1.head(10)\n",
    "\n",
    "df_metr1 = df_metr1.reset_index().set_index('CELEBRIDADE')\n",
    "\n",
    "# Cálculo do positivo por celebridade\n",
    "df_metr1['POSITIVO_G'] = df_metr1['TOP2']/df_metr1['S']\n",
    "\n",
    "# Cálculo do negativo por celebridade\n",
    "df_metr1['NEGATIVO_G'] = df_metr1['BOT2']/df_metr1['S']\n",
    "\n",
    "df_metr2 = df_metr1[['FLIGHT', 'METRICA', 'POSITIVO_G', 'NEGATIVO_G']]\n",
    "\n",
    "df_metr2 = df_metr2.groupby(['FLIGHT', 'METRICA']).mean().sort_index(ascending=False)"
   ]
  },
  {
   "cell_type": "code",
   "execution_count": null,
   "metadata": {},
   "outputs": [],
   "source": [
    "# Join no df_metricas\n",
    "df_metricas = df_metricas.join(df_metr2, how='inner', on=['FLIGHT', 'METRICA'])\n",
    "df_metricas.index"
   ]
  },
  {
   "cell_type": "code",
   "execution_count": null,
   "metadata": {},
   "outputs": [],
   "source": [
    "if OPT_GERAR_VW_BASE_METRICAS == 1:\n",
    "    \n",
    "    df_metricas = df_metricas.reset_index()    \n",
    "    df_metricas.rename( columns ={ \"index\" : \"ID\"}, inplace=True)    \n",
    "    df_metricas = df_metricas.set_index(\"ID\")\n",
    "    writeDF(df_metricas, 'VW_BASE_METRICAS')\n",
    "    #Arquivo para calcular o awareness de forma correta, separado por respondentes\n",
    "    writeDF(df_aw, 'VW_AW')\n",
    "    \n",
    "    print(\"Arquivo exportado\")"
   ]
  },
  {
   "cell_type": "markdown",
   "metadata": {},
   "source": [
    "-----"
   ]
  },
  {
   "cell_type": "markdown",
   "metadata": {},
   "source": [
    "<h3 style='color:purple'>VW_COMPARATIVO (passo-a-passo)</h3>"
   ]
  },
  {
   "cell_type": "code",
   "execution_count": null,
   "metadata": {},
   "outputs": [],
   "source": [
    "#df_latest_flight = df.groupby('CELEBRIDADE').max()['FLIGHT'].reset_index().set_index(['CELEBRIDADE','FLIGHT'])"
   ]
  },
  {
   "cell_type": "code",
   "execution_count": null,
   "metadata": {},
   "outputs": [],
   "source": [
    "#df_comp = df_metricas \\\n",
    "#    .join(df['AWARENESS'], rsuffix='_SN') "
   ]
  },
  {
   "cell_type": "code",
   "execution_count": null,
   "metadata": {},
   "outputs": [],
   "source": [
    "#Visualização\n",
    "#df_comp[df_comp['CELEBRIDADE'] == 'Ana Vilela']"
   ]
  },
  {
   "cell_type": "code",
   "execution_count": null,
   "metadata": {},
   "outputs": [],
   "source": [
    "#df_count_total = df \\\n",
    "#        .groupby(['FLIGHT','CELEBRIDADE'], as_index=False)['ID'] \\\n",
    "#        .count()\n",
    "#df_count_total.rename( columns ={ \"ID\": \"COUNT\"}, inplace=True)    \n",
    "#df_count_aw = df[ df['AWARENESS']==1 ] \\\n",
    "#        .groupby(['FLIGHT','CELEBRIDADE'], as_index=False)['ID'] \\\n",
    "#        .count()\n",
    "#df_count_aw.rename( columns ={ \"ID\": \"COUNT\"}, inplace=True)    "
   ]
  },
  {
   "cell_type": "code",
   "execution_count": null,
   "metadata": {},
   "outputs": [],
   "source": [
    "#df_count = df_count_total \\\n",
    "#        .set_index(['FLIGHT','CELEBRIDADE']) \\\n",
    "#        .join(df_count_aw.set_index(['FLIGHT','CELEBRIDADE']), rsuffix='_AW')"
   ]
  },
  {
   "cell_type": "code",
   "execution_count": null,
   "metadata": {},
   "outputs": [],
   "source": [
    "#Visualização\n",
    "#df_count.index"
   ]
  },
  {
   "cell_type": "code",
   "execution_count": null,
   "metadata": {},
   "outputs": [],
   "source": [
    "#del df_count_total\n",
    "#del df_count_aw"
   ]
  },
  {
   "cell_type": "code",
   "execution_count": null,
   "metadata": {},
   "outputs": [],
   "source": [
    "#df_comp[df_comp['CELEBRIDADE'] == 'Ana Vilela']"
   ]
  },
  {
   "cell_type": "code",
   "execution_count": null,
   "metadata": {},
   "outputs": [],
   "source": [
    "#df_comp = df_comp[ df_comp['AWARENESS_SN'] == 1 ] \\\n",
    "#        .groupby(['FLIGHT','CELEBRIDADE', 'FOTO_M','FOTO_P','FOTO_G','AWARENESS', 'AWARENESS_NIVEL', 'CONSTRUCTO','METRICA'], as_index=False) \\\n",
    "#        .agg({ \"TOP2\" : \"sum\", \"BOT2\" : \"sum\" })"
   ]
  },
  {
   "cell_type": "code",
   "execution_count": null,
   "metadata": {},
   "outputs": [],
   "source": [
    "#Visualização --> No passo acima algumas celebridades do flight 23 somem...\n",
    "#verificacao1 = df_comp[df_comp['FLIGHT'] == 23]"
   ]
  },
  {
   "cell_type": "code",
   "execution_count": null,
   "metadata": {},
   "outputs": [],
   "source": [
    "#Visualização --> No passo acima algumas celebridades do flight 23 somem porque algumas das celebridades não têm as fotos,\n",
    "# aí ao fazer o groupby utilizando as colunas de fotos, e por estas estarem com valores NaN, as linhas somem.\n",
    "#verificacao1['CELEBRIDADE'].unique()"
   ]
  },
  {
   "cell_type": "code",
   "execution_count": null,
   "metadata": {},
   "outputs": [],
   "source": [
    "#df_comp = df_comp \\\n",
    "#        .reset_index()  \\\n",
    "#        .set_index(['FLIGHT','CELEBRIDADE']) \\\n",
    "#        .join(df_count)"
   ]
  },
  {
   "cell_type": "code",
   "execution_count": null,
   "metadata": {},
   "outputs": [],
   "source": [
    "#df_comp['TOP2'] = df_comp['TOP2'] / df_comp['COUNT_AW']\n",
    "#df_comp['BOT2'] = df_comp['BOT2'] / df_comp['COUNT_AW']"
   ]
  },
  {
   "cell_type": "code",
   "execution_count": null,
   "metadata": {},
   "outputs": [],
   "source": [
    "#df_comp = df_comp \\\n",
    "#    .reset_index() \\\n",
    "#    .set_index(['CELEBRIDADE','FLIGHT']) \\\n",
    "#    .join( df_latest_flight, how='inner' )"
   ]
  },
  {
   "cell_type": "code",
   "execution_count": null,
   "metadata": {},
   "outputs": [],
   "source": [
    "#df_comp = df_comp \\\n",
    "#    .reset_index() \\\n",
    "#    .set_index(['CONSTRUCTO','METRICA'])"
   ]
  },
  {
   "cell_type": "code",
   "execution_count": null,
   "metadata": {},
   "outputs": [],
   "source": [
    "#del df_comp['COUNT']\n",
    "#del df_comp['COUNT_AW']"
   ]
  },
  {
   "cell_type": "code",
   "execution_count": null,
   "metadata": {},
   "outputs": [],
   "source": [
    "#df_compf = df_comp.join(df_comp, lsuffix = '_1', rsuffix = '_2')"
   ]
  },
  {
   "cell_type": "markdown",
   "metadata": {},
   "source": [
    "<h3 style='color:blue'>11.3. VW_COMPARATIVO (FULL)</h3>"
   ]
  },
  {
   "cell_type": "code",
   "execution_count": null,
   "metadata": {},
   "outputs": [],
   "source": [
    "# Comparativo pelo último flight (21)\n",
    "df_latest_flight = df.groupby('CELEBRIDADE').max()['FLIGHT'].reset_index().set_index(['CELEBRIDADE','FLIGHT'])\n",
    "\n",
    "df_comp = df_metricas \\\n",
    "    .join(df['AWARENESS'], rsuffix='_SN') \n",
    "\n",
    "df_count_total = df \\\n",
    "        .groupby(['FLIGHT','CELEBRIDADE'], as_index=False)['ID'] \\\n",
    "        .count()\n",
    "df_count_total.rename( columns ={ \"ID\": \"COUNT\"}, inplace=True)    \n",
    "df_count_aw = df[ df['AWARENESS']==1 ] \\\n",
    "        .groupby(['FLIGHT','CELEBRIDADE'], as_index=False)['ID'] \\\n",
    "        .count()\n",
    "df_count_aw.rename( columns ={ \"ID\": \"COUNT\"}, inplace=True)    \n",
    "\n",
    "df_count = df_count_total \\\n",
    "        .set_index(['FLIGHT','CELEBRIDADE']) \\\n",
    "        .join(df_count_aw.set_index(['FLIGHT','CELEBRIDADE']), rsuffix='_AW')\n",
    "\n",
    "del df_count_total\n",
    "del df_count_aw\n",
    "\n",
    "df_comp = df_comp[ df_comp['AWARENESS_SN'] == 1 ] \\\n",
    "        .groupby(['FLIGHT','CELEBRIDADE', 'FOTO_M','FOTO_P','FOTO_G','AWARENESS', 'AWARENESS_NIVEL', 'CONSTRUCTO','METRICA'], as_index=False) \\\n",
    "        .agg({ \"TOP2\" : \"sum\", \"BOT2\" : \"sum\" })\n",
    "\n",
    "df_comp = df_comp \\\n",
    "        .reset_index()  \\\n",
    "        .set_index(['FLIGHT','CELEBRIDADE']) \\\n",
    "        .join(df_count)\n",
    "\n",
    "df_comp['TOP2'] = df_comp['TOP2'] / df_comp['COUNT_AW']\n",
    "df_comp['BOT2'] = df_comp['BOT2'] / df_comp['COUNT_AW']\n",
    "\n",
    "df_comp = df_comp \\\n",
    "    .reset_index() \\\n",
    "    .set_index(['CELEBRIDADE','FLIGHT']) \\\n",
    "    .join( df_latest_flight, how='inner' )\n",
    "\n",
    "df_comp = df_comp \\\n",
    "    .reset_index() \\\n",
    "    .set_index(['CONSTRUCTO','METRICA'])\n",
    "\n",
    "del df_comp['COUNT']\n",
    "del df_comp['COUNT_AW']\n",
    "\n",
    "df_compf = df_comp.join(df_comp, lsuffix = '_1', rsuffix = '_2')"
   ]
  },
  {
   "cell_type": "code",
   "execution_count": null,
   "metadata": {},
   "outputs": [],
   "source": [
    "if OPT_GERAR_VW_COMP == 1:\n",
    "    \n",
    "    writeDF(df_compf, 'VW_COMPARATIVO')\n",
    "    \n",
    "    print(\"Arquivo exportado\")"
   ]
  },
  {
   "cell_type": "markdown",
   "metadata": {},
   "source": [
    "---"
   ]
  },
  {
   "cell_type": "markdown",
   "metadata": {},
   "source": [
    "<h2 style='color:orange'>12. Verificação - Diversos</h2>"
   ]
  },
  {
   "cell_type": "markdown",
   "metadata": {},
   "source": [
    "<h4 style='color:orange'>(Verificação) Pegar somente a quantidade de 'S' de cada 'CELEBRIDADE':</h4>"
   ]
  },
  {
   "cell_type": "code",
   "execution_count": null,
   "metadata": {
    "scrolled": true
   },
   "outputs": [],
   "source": [
    "idc = df_awareness.index\n",
    "print(idc)"
   ]
  },
  {
   "cell_type": "code",
   "execution_count": null,
   "metadata": {},
   "outputs": [],
   "source": [
    "print(df_awareness.loc[['Alessandra Negrini', '21']])"
   ]
  },
  {
   "cell_type": "markdown",
   "metadata": {},
   "source": [
    "---"
   ]
  }
 ],
 "metadata": {
  "kernelspec": {
   "display_name": "Python 3",
   "language": "python",
   "name": "python3"
  },
  "language_info": {
   "codemirror_mode": {
    "name": "ipython",
    "version": 3
   },
   "file_extension": ".py",
   "mimetype": "text/x-python",
   "name": "python",
   "nbconvert_exporter": "python",
   "pygments_lexer": "ipython3",
   "version": "3.7.2"
  }
 },
 "nbformat": 4,
 "nbformat_minor": 2
}
