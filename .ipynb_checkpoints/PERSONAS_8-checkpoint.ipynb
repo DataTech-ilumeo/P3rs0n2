{
 "cells": [
  {
   "cell_type": "markdown",
   "metadata": {},
   "source": [
    "<h1 style='color:#ef9709'>PERSONAS - SÉRIE HISTÓRICA</h1>"
   ]
  },
  {
   "cell_type": "markdown",
   "metadata": {},
   "source": [
    "<h4 style='color:blue'>Última atualização</h4>\n",
    "\n",
    "<table style=\"float:left\">\n",
    "  <tr>\n",
    "    <th style=\"text-align:center\">Data</th>\n",
    "    <th style=\"text-align:center\">Autor</th> \n",
    "  </tr>\n",
    "  <tr>\n",
    "    <td style=\"text-align:left\">21/11/2018</td>\n",
    "    <td style=\"text-align:left\">Kevin Nakasaki</td> \n",
    "  </tr>\n",
    "</table>"
   ]
  },
  {
   "cell_type": "markdown",
   "metadata": {},
   "source": [
    "<h2>1. Preparação</h2>"
   ]
  },
  {
   "cell_type": "markdown",
   "metadata": {},
   "source": [
    "Primeiro é necessário importar as bibliotecas:"
   ]
  },
  {
   "cell_type": "code",
   "execution_count": 1,
   "metadata": {},
   "outputs": [],
   "source": [
    "import numpy as np\n",
    "import pandas as pd"
   ]
  },
  {
   "cell_type": "markdown",
   "metadata": {},
   "source": [
    "Cria-se as variáveis para no futuro criar os \"txt\" finais, que serão importados no SQL Server:"
   ]
  },
  {
   "cell_type": "code",
   "execution_count": 2,
   "metadata": {},
   "outputs": [
    {
     "name": "stdout",
     "output_type": "stream",
     "text": [
      "Você quer gerar VW_BASE? 1-Sim; 0-Não\n",
      "1\n",
      "Você quer gerar VW_BASE_METRICAS? 1-Sim; 0-Não\n",
      "1\n",
      "Você quer gerar VW_COMPARATIVO? 1-Sim; 0-Não\n",
      "1\n"
     ]
    }
   ],
   "source": [
    "# Mudar para 1 quando for gerar as bases\n",
    "while True:\n",
    "    try:\n",
    "        OPT_GERAR_VW_BASE = int(input(\"Você quer gerar VW_BASE? 1-Sim; 0-Não\\n\"))       \n",
    "    except ValueError:\n",
    "        print(\"O valor inserido não é um número.\")\n",
    "        continue\n",
    "    else:\n",
    "        if OPT_GERAR_VW_BASE not in range(0,2):\n",
    "            print(\"Coloque 1-Sim; 0-Não\")\n",
    "        else:\n",
    "            break\n",
    "\n",
    "while True:\n",
    "    try:\n",
    "        OPT_GERAR_VW_BASE_METRICAS = int(input(\"Você quer gerar VW_BASE_METRICAS? 1-Sim; 0-Não\\n\"))       \n",
    "    except ValueError:\n",
    "        print(\"O valor inserido não é um número.\")\n",
    "        continue\n",
    "    else:\n",
    "        if OPT_GERAR_VW_BASE_METRICAS not in range(0,2):\n",
    "            print(\"Coloque 1-Sim; 0-Não\")\n",
    "        else:\n",
    "            break\n",
    "\n",
    "while True:\n",
    "    try:\n",
    "        OPT_GERAR_VW_COMP = int(input(\"Você quer gerar VW_COMPARATIVO? 1-Sim; 0-Não\\n\"))       \n",
    "    except ValueError:\n",
    "        print(\"O valor inserido não é um número.\")\n",
    "        continue\n",
    "    else:\n",
    "        if OPT_GERAR_VW_COMP not in range(0,2):\n",
    "            print(\"Coloque 1-Sim; 0-Não\")\n",
    "        else:\n",
    "            break"
   ]
  },
  {
   "cell_type": "markdown",
   "metadata": {},
   "source": [
    "---"
   ]
  },
  {
   "cell_type": "markdown",
   "metadata": {},
   "source": [
    "<h3 style=color:red>1.1 Informe o número do flight atual</h3>"
   ]
  },
  {
   "cell_type": "code",
   "execution_count": 3,
   "metadata": {},
   "outputs": [
    {
     "name": "stdout",
     "output_type": "stream",
     "text": [
      "Qual é o número do flight atual? Insira um valor maior que 21!\n",
      "23\n"
     ]
    }
   ],
   "source": [
    "#Colocar o número do flight atual\n",
    "while True:\n",
    "    try:\n",
    "        FLIGHT_ATUAL = int(input(\"Qual é o número do flight atual? Insira um valor maior que 21!\\n\"))       \n",
    "    except ValueError:\n",
    "        print(\"O valor inserido não é um número.\")\n",
    "        continue\n",
    "    else:\n",
    "        if FLIGHT_ATUAL < 22:\n",
    "            print(\"Insira um valor maior que 21!\")\n",
    "        else:\n",
    "            break"
   ]
  },
  {
   "cell_type": "markdown",
   "metadata": {},
   "source": [
    "---"
   ]
  },
  {
   "cell_type": "markdown",
   "metadata": {},
   "source": [
    "Cria-se uma variável que será usada para o caminho da pasta raíz do projeto; um atalho para buscar os próximos arquivos:"
   ]
  },
  {
   "cell_type": "code",
   "execution_count": 4,
   "metadata": {},
   "outputs": [],
   "source": [
    "# Se houver acentuação incorrerá em erro\n",
    "PATH_R = r'C:\\Users\\Kevin Nakasaki\\OneDrive - Ilumeo Brasil\\DT_PROJETOS\\PERSONA - SERIE HISTORICA\\Importacao\\SERIE'\n",
    "PATH_W = r'C:\\Users\\Kevin Nakasaki\\OneDrive - Ilumeo Brasil\\DT_PROJETOS\\PERSONA - SERIE HISTORICA\\Importacao'\n",
    "PATH_FL = r'C:\\Users\\Kevin Nakasaki\\OneDrive - Ilumeo Brasil\\DT_PROJETOS\\PERSONA - SERIE HISTORICA\\Importacao\\%s' % FLIGHT_ATUAL\n",
    "PATH_FLX = r'C:\\Users\\Kevin Nakasaki\\OneDrive - Ilumeo Brasil\\DT_PROJETOS\\PERSONA - SERIE HISTORICA\\Importacao\\%s' % str(int(FLIGHT_ATUAL)-1)"
   ]
  },
  {
   "cell_type": "markdown",
   "metadata": {},
   "source": [
    "Define a função 'loadDF' que têm três argumentos:\n",
    "- file = nome do arquivo\n",
    "- enc = tipo de codificação (por padrão é 'utf-8')\n",
    "- sep = tipo do separador dos valores no arquivo (por padrão é ',')\n",
    "\n",
    "A função lê o arquivo (precisa ser \"txt\") e o aloca na variável em que for chamado:"
   ]
  },
  {
   "cell_type": "code",
   "execution_count": 5,
   "metadata": {},
   "outputs": [],
   "source": [
    "def loadDF(file, enc=\"UTF-8\", sep=','): return pd.read_csv(PATH_R + r'\\{0}.txt'.format(file), encoding=enc, sep=sep)"
   ]
  },
  {
   "cell_type": "markdown",
   "metadata": {},
   "source": [
    "Define a função 'writeDF' que têm quatro argumentos:\n",
    "- dfr = nome do DataFrame ('df' alguma coisa) que é definido nesse script\n",
    "- file = nome do arquivo \"txt\" em que o DataFrame vai ser escrito\n",
    "- enc = tipo de codificação (por padrão é 'utf-8')\n",
    "- sep = tipo do separador dos valores no arquivo (por padrão é ',')\n",
    "\n",
    "A função escreve o DataFrame criado no python em um arquivo \"txt\":"
   ]
  },
  {
   "cell_type": "code",
   "execution_count": 6,
   "metadata": {},
   "outputs": [],
   "source": [
    "def writeDF(dfr, file, enc=\"UTF-8\", sep=','): return dfr.to_csv(PATH_W + r'\\{0}{1}.txt'.format(file, FLIGHT_ATUAL), header=True, encoding=enc, sep=\",\", float_format=\"%.3f\")"
   ]
  },
  {
   "cell_type": "code",
   "execution_count": 7,
   "metadata": {},
   "outputs": [],
   "source": [
    "def writeDF_FL(dfr, file, enc=\"UTF-8\", sep=','): return dfr.to_csv(PATH_FL + r'\\{0}{1}.txt'.format(file, FLIGHT_ATUAL), header=True, encoding=enc, sep=\"\\t\", float_format=\"%.3f\", index=False)"
   ]
  },
  {
   "cell_type": "markdown",
   "metadata": {},
   "source": [
    "---"
   ]
  },
  {
   "cell_type": "markdown",
   "metadata": {},
   "source": [
    "<h2 style='color:red'>2. Leitura do arquivo da série histórica</h2>"
   ]
  },
  {
   "cell_type": "markdown",
   "metadata": {},
   "source": [
    "Lê o \"txt\" da série histórica que será alocado na variável do DF de Base:"
   ]
  },
  {
   "cell_type": "code",
   "execution_count": 8,
   "metadata": {
    "scrolled": false
   },
   "outputs": [],
   "source": [
    "# Se houver acentuação incorrerá em erro\n",
    "if FLIGHT_ATUAL == 22:\n",
    "    df = pd.read_csv(PATH_R + '\\SERIE_HISTORICA_FL21.txt', sep='\\t', encoding= 'ISO-8859-1')\n",
    "else:\n",
    "    df = pd.read_csv(PATH_FLX + '\\SERIE_HISTORICA_FL{}.txt'.format(str(int(FLIGHT_ATUAL)-1)), sep='\\t', encoding= 'UTF-8')"
   ]
  },
  {
   "cell_type": "markdown",
   "metadata": {},
   "source": [
    "---"
   ]
  },
  {
   "cell_type": "markdown",
   "metadata": {},
   "source": [
    "<h2>3. Append do último flight</h2>"
   ]
  },
  {
   "cell_type": "markdown",
   "metadata": {},
   "source": [
    "Junta o último flight à série histórica:"
   ]
  },
  {
   "cell_type": "markdown",
   "metadata": {},
   "source": [
    "<h4 style='color:blue'>Histórico de flights</h4>\n",
    "\n",
    "<table style=\"float:left\">\n",
    "  <tr>\n",
    "    <th style=\"text-align:center\">Data</th>\n",
    "    <th style=\"text-align:center\">Flight</th> \n",
    "  </tr>\n",
    "  <tr>\n",
    "    <td style=\"text-align:center\">09/10/2018</td>\n",
    "    <td style=\"text-align:center\">22</td> \n",
    "  </tr>\n",
    "  <tr>\n",
    "    <td style=\"text-align:center\">12/11/2018</td>\n",
    "    <td style=\"text-align:center\">23</td> \n",
    "  </tr>\n",
    "</table>"
   ]
  },
  {
   "cell_type": "code",
   "execution_count": 9,
   "metadata": {},
   "outputs": [],
   "source": [
    "fl = pd.read_csv(PATH_FL + '\\BASE_FL{0}.txt'.format(FLIGHT_ATUAL), sep='\\t', encoding= 'ISO-8859-1')"
   ]
  },
  {
   "cell_type": "code",
   "execution_count": 10,
   "metadata": {
    "scrolled": true
   },
   "outputs": [],
   "source": [
    "# Exceção para inserir a coluna 'ID' no dataframe para fazer o join com a base da 'série histórica'.\n",
    "\n",
    "try:\n",
    "    fl.insert(0, 'ID', range(0, len(fl)))\n",
    "except:\n",
    "    pass\n",
    "\n",
    "fl = fl.reset_index(drop=True)"
   ]
  },
  {
   "cell_type": "code",
   "execution_count": 11,
   "metadata": {},
   "outputs": [
    {
     "data": {
      "text/plain": [
       "Index(['ID', 'FLIGHT', 'CELEBRIDADE', 'IP', 'ESTADO', 'IDADE', 'ESTADO_CIVIL',\n",
       "       'TEM_FILHOS', 'RENDA', 'ESCOLARIDADE', 'SEXO', 'AWARENESS', 'NOME',\n",
       "       'OPINIAO', 'LEMBRANCA_DE_MARCA', 'GOSTO_MUITO', 'ME_IDENTIFICO',\n",
       "       'TENHO_RESPEITO', 'PRESTO_ATENCAO', 'CONFIO',\n",
       "       'MUITO_BOM_NAQUILO_QUE_FAZ', 'INTELIGENTE', 'DETERMINADO', 'HONESTO',\n",
       "       'ENGRAÇADO', 'LINDO', 'SEDUTOR', 'DO_POVO', 'CARA_DO_BRASIL',\n",
       "       'INOVADOR', 'GOSTA_DE_DESAFIOS', 'TENHO_VISTO_NA_MIDIA',\n",
       "       'BOA_PARA_PROPAGANDA', 'COMPRARIA_PRODUTOS_QUE_ANUNCIASSE',\n",
       "       'BOA_PARA_PROPAGANDA_PROJETOS_SOCIAIS',\n",
       "       'ME_ENVOLVERIA_COM_PROJETOS_SOCIAIS_QUE_ANUNCIASSE',\n",
       "       'INDICARIA_PARA_AMIGOS_MARCAS',\n",
       "       'COMENTARIA_COM_AMIGOS_PROJETOS_SOCIAIS_QUE_ANUNCIASSE'],\n",
       "      dtype='object')"
      ]
     },
     "execution_count": 11,
     "metadata": {},
     "output_type": "execute_result"
    }
   ],
   "source": [
    "fl.columns"
   ]
  },
  {
   "cell_type": "code",
   "execution_count": 12,
   "metadata": {},
   "outputs": [
    {
     "data": {
      "text/plain": [
       "38"
      ]
     },
     "execution_count": 12,
     "metadata": {},
     "output_type": "execute_result"
    }
   ],
   "source": [
    "# Verifica a quantidade de colunas do dataframe\n",
    "len(fl.columns)"
   ]
  },
  {
   "cell_type": "markdown",
   "metadata": {},
   "source": [
    "O bloco de código abaixo junta a base da \"série histórica\" atual, com o último flight citado:"
   ]
  },
  {
   "cell_type": "code",
   "execution_count": 13,
   "metadata": {},
   "outputs": [],
   "source": [
    "df = df.append(fl, ignore_index=True, sort=False)\n",
    "df[\"ID\"] = (df.index)+1\n",
    "\n",
    "# Variável para gerar o arquivo para a próxima série histórica que vai se tornar o DF de Base dos outros flights\n",
    "OPT_GERAR_PROX_SERIE_HISTORICA = 1"
   ]
  },
  {
   "cell_type": "markdown",
   "metadata": {},
   "source": [
    "<h3 style='color:black'>3.1. Gerar arquivo da próxima série histórica com o flight atual já adicionado</h3>"
   ]
  },
  {
   "cell_type": "code",
   "execution_count": 14,
   "metadata": {},
   "outputs": [
    {
     "name": "stdout",
     "output_type": "stream",
     "text": [
      "Nova série histórica gerada com sucesso!\n"
     ]
    }
   ],
   "source": [
    "if OPT_GERAR_PROX_SERIE_HISTORICA == 1:\n",
    "    writeDF_FL(df, 'SERIE_HISTORICA_FL')\n",
    "    print('Nova série histórica gerada com sucesso!')"
   ]
  },
  {
   "cell_type": "markdown",
   "metadata": {},
   "source": [
    "---"
   ]
  },
  {
   "cell_type": "markdown",
   "metadata": {},
   "source": [
    "<h2 style='color:black'>4. Manipulação do DF de Base</h2>"
   ]
  },
  {
   "cell_type": "markdown",
   "metadata": {},
   "source": [
    "Exceção para verificar se existem todas as colunas no DataFrame e deletar a coluna 'IP'.\n",
    "Se retornar um erro, o bloco de código passa sem executar nada:"
   ]
  },
  {
   "cell_type": "code",
   "execution_count": 15,
   "metadata": {
    "scrolled": true
   },
   "outputs": [],
   "source": [
    "try:\n",
    "    df = df[pd.Series(['CELEBRIDADE', 'ID', 'FLIGHT', 'ESTADO', 'IDADE', 'ESTADO_CIVIL',\n",
    "       'TEM_FILHOS', 'RENDA', 'ESCOLARIDADE', 'SEXO', 'AWARENESS', 'NOME',\n",
    "       'OPINIAO', 'LEMBRANCA_DE_MARCA', 'GOSTO_MUITO', 'ME_IDENTIFICO',\n",
    "       'TENHO_RESPEITO', 'PRESTO_ATENCAO', 'CONFIO',\n",
    "       'MUITO_BOM_NAQUILO_QUE_FAZ', 'INTELIGENTE', 'DETERMINADO', 'HONESTO',\n",
    "       'ENGRAÇADO', 'LINDO', 'SEDUTOR', 'DO_POVO', 'CARA_DO_BRASIL',\n",
    "       'INOVADOR', 'GOSTA_DE_DESAFIOS', 'TENHO_VISTO_NA_MIDIA',\n",
    "       'BOA_PARA_PROPAGANDA', 'COMPRARIA_PRODUTOS_QUE_ANUNCIASSE',\n",
    "       'BOA_PARA_PROPAGANDA_PROJETOS_SOCIAIS',\n",
    "       'ME_ENVOLVERIA_COM_PROJETOS_SOCIAIS_QUE_ANUNCIASSE',\n",
    "       'INDICARIA_PARA_AMIGOS_MARCAS',\n",
    "       'COMENTARIA_COM_AMIGOS_PROJETOS_SOCIAIS_QUE_ANUNCIASSE'])]\n",
    "\n",
    "    del df['IP', 'PALAVRAS', 'LEMB_MARCAS']\n",
    "except:\n",
    "    pass"
   ]
  },
  {
   "cell_type": "markdown",
   "metadata": {},
   "source": [
    "Cria um item no DataFrame 'df' chamado 'IX' e o configura para ser igual ao 'ID'. Em seguida o configura para ser o índice do dicionário:"
   ]
  },
  {
   "cell_type": "code",
   "execution_count": 16,
   "metadata": {},
   "outputs": [],
   "source": [
    "df[\"IX\"] = df[\"ID\"]\n",
    "df = df.set_index(\"IX\")"
   ]
  },
  {
   "cell_type": "markdown",
   "metadata": {},
   "source": [
    "---"
   ]
  },
  {
   "cell_type": "markdown",
   "metadata": {},
   "source": [
    "<h2 style='color:black'>5. Tratamento de METADADOS</h2>"
   ]
  },
  {
   "cell_type": "code",
   "execution_count": 17,
   "metadata": {},
   "outputs": [],
   "source": [
    "meta = loadDF(\"METADADOS\", enc=\"UTF-8\")\n",
    "meta[\"COLUNA2\"] = meta[\"COLUNA\"]\n",
    "meta = meta.set_index(\"COLUNA2\")"
   ]
  },
  {
   "cell_type": "markdown",
   "metadata": {},
   "source": [
    "---"
   ]
  },
  {
   "cell_type": "markdown",
   "metadata": {},
   "source": [
    "<h2 style='color:black'>6. Tratamento de FOTOS</h2>"
   ]
  },
  {
   "cell_type": "markdown",
   "metadata": {},
   "source": [
    "Define o DataFrame 'df_fotos' utilizando a função 'loadDF' e já configura a coluna 'CELEBRIDADE' como índice:"
   ]
  },
  {
   "cell_type": "code",
   "execution_count": 18,
   "metadata": {
    "scrolled": true
   },
   "outputs": [
    {
     "data": {
      "text/html": [
       "<div>\n",
       "<style scoped>\n",
       "    .dataframe tbody tr th:only-of-type {\n",
       "        vertical-align: middle;\n",
       "    }\n",
       "\n",
       "    .dataframe tbody tr th {\n",
       "        vertical-align: top;\n",
       "    }\n",
       "\n",
       "    .dataframe thead th {\n",
       "        text-align: right;\n",
       "    }\n",
       "</style>\n",
       "<table border=\"1\" class=\"dataframe\">\n",
       "  <thead>\n",
       "    <tr style=\"text-align: right;\">\n",
       "      <th></th>\n",
       "      <th>FOTO_P</th>\n",
       "      <th>FOTO_M</th>\n",
       "      <th>FOTO_G</th>\n",
       "    </tr>\n",
       "    <tr>\n",
       "      <th>CELEBRIDADE</th>\n",
       "      <th></th>\n",
       "      <th></th>\n",
       "      <th></th>\n",
       "    </tr>\n",
       "  </thead>\n",
       "  <tbody>\n",
       "    <tr>\n",
       "      <th>Zizi Possi</th>\n",
       "      <td>p/150x150_33.jpg</td>\n",
       "      <td>m/599x350_33.jpg</td>\n",
       "      <td>g/1349x899_31.jpg</td>\n",
       "    </tr>\n",
       "    <tr>\n",
       "      <th>Sasha Meneghel</th>\n",
       "      <td>p/150x150_1.png</td>\n",
       "      <td>m/599x350_1.png</td>\n",
       "      <td>g/1349x899_1.png</td>\n",
       "    </tr>\n",
       "    <tr>\n",
       "      <th>Sérgio Malheiros</th>\n",
       "      <td>p/150x150_31.jpg</td>\n",
       "      <td>m/599x350_31.jpg</td>\n",
       "      <td>g/1349x899_29.jpg</td>\n",
       "    </tr>\n",
       "    <tr>\n",
       "      <th>Rouge</th>\n",
       "      <td>p/150x150_27.jpg</td>\n",
       "      <td>m/599x350_27.jpg</td>\n",
       "      <td>g/1349x899_25.jpg</td>\n",
       "    </tr>\n",
       "    <tr>\n",
       "      <th>Sabrina Petraglia</th>\n",
       "      <td>p/150x150_29.jpg</td>\n",
       "      <td>m/599x350_29.jpg</td>\n",
       "      <td>g/1349x899_27.jpg</td>\n",
       "    </tr>\n",
       "    <tr>\n",
       "      <th>Ricardo Pereira</th>\n",
       "      <td>p/150x150_25.jpg</td>\n",
       "      <td>m/599x350_25.jpg</td>\n",
       "      <td>g/1349x899_23.jpg</td>\n",
       "    </tr>\n",
       "    <tr>\n",
       "      <th>Pâmela Tomé</th>\n",
       "      <td>p/150x150_23.jpg</td>\n",
       "      <td>m/599x350_23.jpg</td>\n",
       "      <td>g/1349x899_21.jpg</td>\n",
       "    </tr>\n",
       "    <tr>\n",
       "      <th>Mariana Ferrão</th>\n",
       "      <td>p/Mariana_FerrYo_P_1.jpg</td>\n",
       "      <td>m/Mariana_FerrYo_599x350.jpg</td>\n",
       "      <td>g/Mariana_FerrYo_1349x899.jpg</td>\n",
       "    </tr>\n",
       "    <tr>\n",
       "      <th>Nadja Haddad</th>\n",
       "      <td>p/150x150_21.jpg</td>\n",
       "      <td>m/599x350_21.jpg</td>\n",
       "      <td>g/1349x899_19.jpg</td>\n",
       "    </tr>\n",
       "    <tr>\n",
       "      <th>Marco Luque</th>\n",
       "      <td>p/150x150_19.jpg</td>\n",
       "      <td>m/599x350_19.jpg</td>\n",
       "      <td>g/1349x899_17.jpg</td>\n",
       "    </tr>\n",
       "    <tr>\n",
       "      <th>Manu Gavassi</th>\n",
       "      <td>p/150x150_17.jpg</td>\n",
       "      <td>m/599x350_17.jpg</td>\n",
       "      <td>g/1349x899_15.jpg</td>\n",
       "    </tr>\n",
       "    <tr>\n",
       "      <th>Livia Andrade</th>\n",
       "      <td>p/150x150_15.jpg</td>\n",
       "      <td>m/599x350_15.jpg</td>\n",
       "      <td>g/1349x899_13.jpg</td>\n",
       "    </tr>\n",
       "    <tr>\n",
       "      <th>José de Abreu</th>\n",
       "      <td>p/150x150_11.jpg</td>\n",
       "      <td>m/599x350_11.jpg</td>\n",
       "      <td>g/1349x899_9.jpg</td>\n",
       "    </tr>\n",
       "    <tr>\n",
       "      <th>Karina Bacchi</th>\n",
       "      <td>p/150x150_13.jpg</td>\n",
       "      <td>m/599x350_13.jpg</td>\n",
       "      <td>g/1349x899_11.jpg</td>\n",
       "    </tr>\n",
       "    <tr>\n",
       "      <th>Helen Ganzarolli</th>\n",
       "      <td>p/150x150_9.jpg</td>\n",
       "      <td>m/599x350_9.jpg</td>\n",
       "      <td>g/1349x899_7.jpg</td>\n",
       "    </tr>\n",
       "    <tr>\n",
       "      <th>Fabrício Boliveira</th>\n",
       "      <td>p/150x150_7.jpg</td>\n",
       "      <td>m/599x350_7.jpg</td>\n",
       "      <td>g/1349x899_5.jpg</td>\n",
       "    </tr>\n",
       "    <tr>\n",
       "      <th>Duda Nagle</th>\n",
       "      <td>p/150x150_5.jpg</td>\n",
       "      <td>m/599x350_5.jpg</td>\n",
       "      <td>g/1349x899_3.jpg</td>\n",
       "    </tr>\n",
       "    <tr>\n",
       "      <th>Chandelly Braz</th>\n",
       "      <td>p/150x150_3.jpg</td>\n",
       "      <td>m/599x350_3.jpg</td>\n",
       "      <td>g/1349x350_1.jpg</td>\n",
       "    </tr>\n",
       "    <tr>\n",
       "      <th>Cacau Protásio</th>\n",
       "      <td>p/150x150_1.jpg</td>\n",
       "      <td>m/599x350_1.jpg</td>\n",
       "      <td>g/1349x899_1.jpg</td>\n",
       "    </tr>\n",
       "    <tr>\n",
       "      <th>Alice Wegmann</th>\n",
       "      <td>p/Alice_Wegmann_P_1.jpg</td>\n",
       "      <td>m/Alice_Wegmann_M_1.jpg</td>\n",
       "      <td>g/Alice_Wegmann_G_1.jpg</td>\n",
       "    </tr>\n",
       "    <tr>\n",
       "      <th>Claudia Ohana</th>\n",
       "      <td>p/Claudia_Ohana_P.jpg</td>\n",
       "      <td>m/Claudia_Ohana_M.jpg</td>\n",
       "      <td>g/Claudia_Ohana_G.jpg</td>\n",
       "    </tr>\n",
       "    <tr>\n",
       "      <th>Daniel de Oliveira</th>\n",
       "      <td>p/Daniel_de_Oliveira_P_1.jpg</td>\n",
       "      <td>m/Daniel_de_Oliveira_M_1.jpg</td>\n",
       "      <td>g/Daniel_de_Oliveira_G_1.jpg</td>\n",
       "    </tr>\n",
       "    <tr>\n",
       "      <th>Francisco Cuoco</th>\n",
       "      <td>p/Francisco_Cuoco_P.jpg</td>\n",
       "      <td>m/Francisco_Cuoco_M.jpg</td>\n",
       "      <td>g/Francisco_Cuoco_G.jpg</td>\n",
       "    </tr>\n",
       "    <tr>\n",
       "      <th>IZA</th>\n",
       "      <td>p/IZA_-_150x150.jpg</td>\n",
       "      <td>m/IZA_-_599x350.jpg</td>\n",
       "      <td>g/IZA_-_1349x899.jpg</td>\n",
       "    </tr>\n",
       "    <tr>\n",
       "      <th>Jacqueline Sato</th>\n",
       "      <td>p/Jacqueline_Sato_P.jpg</td>\n",
       "      <td>m/Jacqueline_Sato_M.jpg</td>\n",
       "      <td>g/Jacqueline_Sato_G.jpg</td>\n",
       "    </tr>\n",
       "    <tr>\n",
       "      <th>João Côrtes</th>\n",
       "      <td>p/JoYo_CYrtes_P.jpg</td>\n",
       "      <td>m/JoYo_CYrtes_M.jpg</td>\n",
       "      <td>g/JoYo_CYrtes_G.jpg</td>\n",
       "    </tr>\n",
       "    <tr>\n",
       "      <th>Júlia Rabello</th>\n",
       "      <td>p/JYlia_Rabello_P.jpg</td>\n",
       "      <td>m/JYlia_Rabello_M.jpg</td>\n",
       "      <td>g/JYlia_Rabello_G.jpg</td>\n",
       "    </tr>\n",
       "    <tr>\n",
       "      <th>Tom Cavalcante</th>\n",
       "      <td>p/Tom_Cavalcante_P.jpg</td>\n",
       "      <td>m/Tom_Cavalcante_M.jpg</td>\n",
       "      <td>g/Tom_Cavalcante_G.jpg</td>\n",
       "    </tr>\n",
       "    <tr>\n",
       "      <th>Zé Neto &amp; Cristiano</th>\n",
       "      <td>p/ZY_Neto_e_Cristiano_P.jpg</td>\n",
       "      <td>m/ZY_Neto_e_Cristiano_M.jpg</td>\n",
       "      <td>g/ZY_Neto_e_Cristiano_G.jpg</td>\n",
       "    </tr>\n",
       "    <tr>\n",
       "      <th>Bruno Mazzeo</th>\n",
       "      <td>p/Bruno_Mazzeo_P.jpg</td>\n",
       "      <td>m/Bruno_Mazzeo_M.jpg</td>\n",
       "      <td>g/Bruno_Mazzeo_G.jpg</td>\n",
       "    </tr>\n",
       "    <tr>\n",
       "      <th>...</th>\n",
       "      <td>...</td>\n",
       "      <td>...</td>\n",
       "      <td>...</td>\n",
       "    </tr>\n",
       "    <tr>\n",
       "      <th>Zezé Di Camargo e Luciano</th>\n",
       "      <td>p/Pequena_-_ZezY_di_Camargo_e_Luciano_2.png</td>\n",
       "      <td>m/MYdia_-_ZezY_di_Camargo_e_Luciano_2.png</td>\n",
       "      <td>g/GRande_-_ZezY_di_Camargo_e_Luciano_2.png</td>\n",
       "    </tr>\n",
       "    <tr>\n",
       "      <th>Adele</th>\n",
       "      <td>p/150x150_3.png</td>\n",
       "      <td>m/599x350_3.png</td>\n",
       "      <td>g/1349x899_3.png</td>\n",
       "    </tr>\n",
       "    <tr>\n",
       "      <th>Alicia Keys</th>\n",
       "      <td>p/Alicia_Keys.jpg</td>\n",
       "      <td>m/Alicia_Keys.jpg</td>\n",
       "      <td>g/Alicia_Keys.jpg</td>\n",
       "    </tr>\n",
       "    <tr>\n",
       "      <th>Beyoncé</th>\n",
       "      <td>p/BeyoncY.jpg</td>\n",
       "      <td>m/BeyoncY.jpg</td>\n",
       "      <td>g/BeyoncY.jpg</td>\n",
       "    </tr>\n",
       "    <tr>\n",
       "      <th>Brad Pitt</th>\n",
       "      <td>p/150x150_47.jpg</td>\n",
       "      <td>m/599x350_47.jpg</td>\n",
       "      <td>g/1349x899_45.jpg</td>\n",
       "    </tr>\n",
       "    <tr>\n",
       "      <th>George Clooney</th>\n",
       "      <td>p/clooney_P.jpg</td>\n",
       "      <td>m/clooney_M.jpg</td>\n",
       "      <td>g/clooney_G.jpg</td>\n",
       "    </tr>\n",
       "    <tr>\n",
       "      <th>Katy Perry</th>\n",
       "      <td>p/150x150_51.jpg</td>\n",
       "      <td>m/599x350_51.jpg</td>\n",
       "      <td>g/1349x899_49.jpg</td>\n",
       "    </tr>\n",
       "    <tr>\n",
       "      <th>Jennifer Lopez</th>\n",
       "      <td>p/150x150_49.jpg</td>\n",
       "      <td>m/599x350_49.jpg</td>\n",
       "      <td>g/1349x899_47.jpg</td>\n",
       "    </tr>\n",
       "    <tr>\n",
       "      <th>Leonardo DiCaprio</th>\n",
       "      <td>p/150x150_53.jpg</td>\n",
       "      <td>m/599x350_53.jpg</td>\n",
       "      <td>g/1349x899_51.jpg</td>\n",
       "    </tr>\n",
       "    <tr>\n",
       "      <th>Mário Frias</th>\n",
       "      <td>p/MYrio_Frias_-_150x150_1.png</td>\n",
       "      <td>m/MYrio_Frias_-_599x350_1.png</td>\n",
       "      <td>g/MYrio_Frias_-_1349x899_1.png</td>\n",
       "    </tr>\n",
       "    <tr>\n",
       "      <th>Sérgio Sette Câmara</th>\n",
       "      <td>p/SYrgio_Sette_CYmara_P.jpg</td>\n",
       "      <td>m/SYrgio_Sette_CYmara_M.jpg</td>\n",
       "      <td>g/SYrgio_Sette_CYmara_G.jpg</td>\n",
       "    </tr>\n",
       "    <tr>\n",
       "      <th>Luiz Felipe Fonteles</th>\n",
       "      <td>p/Luiz_Felipe_Fonteles_150x150.jpg</td>\n",
       "      <td>m/Luiz_Felipe_Fonteles_599x350.jpg</td>\n",
       "      <td>g/Luiz_Felipe_Fonteles_1349x899.jpg</td>\n",
       "    </tr>\n",
       "    <tr>\n",
       "      <th>Baco Exu do Blues</th>\n",
       "      <td>p/Baco_Exu_do_Blues_150x150.jpg</td>\n",
       "      <td>m/Baco_Exu_do_Blues_599x350.jpg</td>\n",
       "      <td>g/Baco_Exu_do_Blues_1349x899.jpg</td>\n",
       "    </tr>\n",
       "    <tr>\n",
       "      <th>Luísa Sonza</th>\n",
       "      <td>p/LuYsa_Sounza_150x150.jpg</td>\n",
       "      <td>m/LuYsa_Sounza_599x350.jpg</td>\n",
       "      <td>g/LuYsa_Sounza_1349x899.jpg</td>\n",
       "    </tr>\n",
       "    <tr>\n",
       "      <th>Léo Santana</th>\n",
       "      <td>p/LYo_Santana_150x150.jpg</td>\n",
       "      <td>m/LYo_Santana_599x350.jpg</td>\n",
       "      <td>g/LYo_Santana_1349x899.jpg</td>\n",
       "    </tr>\n",
       "    <tr>\n",
       "      <th>Anelis Assumpção</th>\n",
       "      <td>p/Anelis_AssumpYYo_150x150.jpg</td>\n",
       "      <td>m/Anelis_AssumpYYo_599x350.jpg</td>\n",
       "      <td>g/Anelis_AssumpYYo_1349x899.jpg</td>\n",
       "    </tr>\n",
       "    <tr>\n",
       "      <th>Gabriel Barbosa (Gabigol)</th>\n",
       "      <td>p/Gabigol_150x150.jpg</td>\n",
       "      <td>m/Gabigol_599x350.jpg</td>\n",
       "      <td>g/Gabigol_1349x899.jpg</td>\n",
       "    </tr>\n",
       "    <tr>\n",
       "      <th>Léo Dias</th>\n",
       "      <td>p/LYo_Dias_150x150.jpg</td>\n",
       "      <td>m/LYo_Dias_599x350.jpg</td>\n",
       "      <td>g/LYo_Dias_1349x899.jpg</td>\n",
       "    </tr>\n",
       "    <tr>\n",
       "      <th>Fernanda Garay</th>\n",
       "      <td>p/Fernanda_Garay_150x150.jpg</td>\n",
       "      <td>m/Fernanda_Garay_599x350.jpg</td>\n",
       "      <td>g/Fernanda_Garay_1349x899.jpg</td>\n",
       "    </tr>\n",
       "    <tr>\n",
       "      <th>Paulo Henrique Ganso</th>\n",
       "      <td>p/Paulo_Henrique_Ganso_150x150.jpg</td>\n",
       "      <td>m/Paulo_Henrique_Ganso_599x350.jpg</td>\n",
       "      <td>g/Paulo_Henrique_Ganso_1349x899.jpg</td>\n",
       "    </tr>\n",
       "    <tr>\n",
       "      <th>Bella Falconi</th>\n",
       "      <td>p/Bella_Falconi_150x150.jpg</td>\n",
       "      <td>m/Bella_Falconi_599x350.jpg</td>\n",
       "      <td>g/Bella_Falconi_1349x899.jpg</td>\n",
       "    </tr>\n",
       "    <tr>\n",
       "      <th>Claudia Abreu</th>\n",
       "      <td>p/Claudia%20Abreu.jpg</td>\n",
       "      <td>m/Claudia%20Abreu.jpg</td>\n",
       "      <td>g/Claudia%20Abreu.jpg</td>\n",
       "    </tr>\n",
       "    <tr>\n",
       "      <th>Bruno Vicari</th>\n",
       "      <td>p/Bruno_Vicari_150x150.jpg</td>\n",
       "      <td>m/Bruno_Vicari_599x350.jpg</td>\n",
       "      <td>g/Bruno_Vicari_1349x899.jpg</td>\n",
       "    </tr>\n",
       "    <tr>\n",
       "      <th>Lilia Cabral</th>\n",
       "      <td>p/Lilia_Cabral_150x150.jpg</td>\n",
       "      <td>m/Lilia_Cabral_599x350.jpg</td>\n",
       "      <td>g/Lilia_Cabral_1349x899.jpg</td>\n",
       "    </tr>\n",
       "    <tr>\n",
       "      <th>Ana Vilela</th>\n",
       "      <td>p/Ana_Vilela_150x150.jpg</td>\n",
       "      <td>m/Ana_Vilela_599x350.jpg</td>\n",
       "      <td>g/Ana_Vilela_1349x899.jpg</td>\n",
       "    </tr>\n",
       "    <tr>\n",
       "      <th>Tadeu Schmidt</th>\n",
       "      <td>p/Tadeu_Schmidt_150x150.jpg</td>\n",
       "      <td>m/Tadeu_Schmidt_599x350.jpg</td>\n",
       "      <td>g/Tadeu_Schmidt_1349x899.jpg</td>\n",
       "    </tr>\n",
       "    <tr>\n",
       "      <th>Ana Clara</th>\n",
       "      <td>p/Ana_Clara_150x150.jpg</td>\n",
       "      <td>m/Ana_Clara_599x350.jpg</td>\n",
       "      <td>g/Ana_Clara_1349x899.jpg</td>\n",
       "    </tr>\n",
       "    <tr>\n",
       "      <th>Carla Salle</th>\n",
       "      <td>p/Carla_Salles_150x150.jpg</td>\n",
       "      <td>m/Carla_Salles_599x350.jpg</td>\n",
       "      <td>g/Carla_Salles_1349x899.jpg</td>\n",
       "    </tr>\n",
       "    <tr>\n",
       "      <th>Nicolas Prattes</th>\n",
       "      <td>p/Nicolas_Prattes_150x150.jpg</td>\n",
       "      <td>m/Nicolas_Prattes_599x350.jpg</td>\n",
       "      <td>g/Nicolas_Prattes_1349x899.jpg</td>\n",
       "    </tr>\n",
       "    <tr>\n",
       "      <th>Erika Januza</th>\n",
       "      <td>p/Erika_Januza.png</td>\n",
       "      <td>m/Erika_Januza.png</td>\n",
       "      <td>g/Erika_Januza.png</td>\n",
       "    </tr>\n",
       "  </tbody>\n",
       "</table>\n",
       "<p>540 rows × 3 columns</p>\n",
       "</div>"
      ],
      "text/plain": [
       "                                                                 FOTO_P  \\\n",
       "CELEBRIDADE                                                               \n",
       "Zizi Possi                                             p/150x150_33.jpg   \n",
       "Sasha Meneghel                                          p/150x150_1.png   \n",
       "Sérgio Malheiros                                       p/150x150_31.jpg   \n",
       "Rouge                                                  p/150x150_27.jpg   \n",
       "Sabrina Petraglia                                      p/150x150_29.jpg   \n",
       "Ricardo Pereira                                        p/150x150_25.jpg   \n",
       "Pâmela Tomé                                            p/150x150_23.jpg   \n",
       "Mariana Ferrão                                 p/Mariana_FerrYo_P_1.jpg   \n",
       "Nadja Haddad                                           p/150x150_21.jpg   \n",
       "Marco Luque                                            p/150x150_19.jpg   \n",
       "Manu Gavassi                                           p/150x150_17.jpg   \n",
       "Livia Andrade                                          p/150x150_15.jpg   \n",
       "José de Abreu                                          p/150x150_11.jpg   \n",
       "Karina Bacchi                                          p/150x150_13.jpg   \n",
       "Helen Ganzarolli                                        p/150x150_9.jpg   \n",
       "Fabrício Boliveira                                      p/150x150_7.jpg   \n",
       "Duda Nagle                                              p/150x150_5.jpg   \n",
       "Chandelly Braz                                          p/150x150_3.jpg   \n",
       "Cacau Protásio                                          p/150x150_1.jpg   \n",
       "Alice Wegmann                                   p/Alice_Wegmann_P_1.jpg   \n",
       "Claudia Ohana                                     p/Claudia_Ohana_P.jpg   \n",
       "Daniel de Oliveira                         p/Daniel_de_Oliveira_P_1.jpg   \n",
       "Francisco Cuoco                                 p/Francisco_Cuoco_P.jpg   \n",
       "IZA                                                 p/IZA_-_150x150.jpg   \n",
       "Jacqueline Sato                                 p/Jacqueline_Sato_P.jpg   \n",
       "João Côrtes                                         p/JoYo_CYrtes_P.jpg   \n",
       "Júlia Rabello                                     p/JYlia_Rabello_P.jpg   \n",
       "Tom Cavalcante                                   p/Tom_Cavalcante_P.jpg   \n",
       "Zé Neto & Cristiano                         p/ZY_Neto_e_Cristiano_P.jpg   \n",
       "Bruno Mazzeo                                       p/Bruno_Mazzeo_P.jpg   \n",
       "...                                                                 ...   \n",
       "Zezé Di Camargo e Luciano   p/Pequena_-_ZezY_di_Camargo_e_Luciano_2.png   \n",
       "Adele                                                   p/150x150_3.png   \n",
       "Alicia Keys                                           p/Alicia_Keys.jpg   \n",
       "Beyoncé                                                   p/BeyoncY.jpg   \n",
       "Brad Pitt                                              p/150x150_47.jpg   \n",
       "George Clooney                                          p/clooney_P.jpg   \n",
       "Katy Perry                                             p/150x150_51.jpg   \n",
       "Jennifer Lopez                                         p/150x150_49.jpg   \n",
       "Leonardo DiCaprio                                      p/150x150_53.jpg   \n",
       "Mário Frias                               p/MYrio_Frias_-_150x150_1.png   \n",
       "Sérgio Sette Câmara                         p/SYrgio_Sette_CYmara_P.jpg   \n",
       "Luiz Felipe Fonteles                 p/Luiz_Felipe_Fonteles_150x150.jpg   \n",
       "Baco Exu do Blues                       p/Baco_Exu_do_Blues_150x150.jpg   \n",
       "Luísa Sonza                                  p/LuYsa_Sounza_150x150.jpg   \n",
       "Léo Santana                                   p/LYo_Santana_150x150.jpg   \n",
       "Anelis Assumpção                         p/Anelis_AssumpYYo_150x150.jpg   \n",
       "Gabriel Barbosa (Gabigol)                         p/Gabigol_150x150.jpg   \n",
       "Léo Dias                                         p/LYo_Dias_150x150.jpg   \n",
       "Fernanda Garay                             p/Fernanda_Garay_150x150.jpg   \n",
       "Paulo Henrique Ganso                 p/Paulo_Henrique_Ganso_150x150.jpg   \n",
       "Bella Falconi                               p/Bella_Falconi_150x150.jpg   \n",
       "Claudia Abreu                                     p/Claudia%20Abreu.jpg   \n",
       "Bruno Vicari                                 p/Bruno_Vicari_150x150.jpg   \n",
       "Lilia Cabral                                 p/Lilia_Cabral_150x150.jpg   \n",
       "Ana Vilela                                     p/Ana_Vilela_150x150.jpg   \n",
       "Tadeu Schmidt                               p/Tadeu_Schmidt_150x150.jpg   \n",
       "Ana Clara                                       p/Ana_Clara_150x150.jpg   \n",
       "Carla Salle                                  p/Carla_Salles_150x150.jpg   \n",
       "Nicolas Prattes                           p/Nicolas_Prattes_150x150.jpg   \n",
       "Erika Januza                                         p/Erika_Januza.png   \n",
       "\n",
       "                                                               FOTO_M  \\\n",
       "CELEBRIDADE                                                             \n",
       "Zizi Possi                                           m/599x350_33.jpg   \n",
       "Sasha Meneghel                                        m/599x350_1.png   \n",
       "Sérgio Malheiros                                     m/599x350_31.jpg   \n",
       "Rouge                                                m/599x350_27.jpg   \n",
       "Sabrina Petraglia                                    m/599x350_29.jpg   \n",
       "Ricardo Pereira                                      m/599x350_25.jpg   \n",
       "Pâmela Tomé                                          m/599x350_23.jpg   \n",
       "Mariana Ferrão                           m/Mariana_FerrYo_599x350.jpg   \n",
       "Nadja Haddad                                         m/599x350_21.jpg   \n",
       "Marco Luque                                          m/599x350_19.jpg   \n",
       "Manu Gavassi                                         m/599x350_17.jpg   \n",
       "Livia Andrade                                        m/599x350_15.jpg   \n",
       "José de Abreu                                        m/599x350_11.jpg   \n",
       "Karina Bacchi                                        m/599x350_13.jpg   \n",
       "Helen Ganzarolli                                      m/599x350_9.jpg   \n",
       "Fabrício Boliveira                                    m/599x350_7.jpg   \n",
       "Duda Nagle                                            m/599x350_5.jpg   \n",
       "Chandelly Braz                                        m/599x350_3.jpg   \n",
       "Cacau Protásio                                        m/599x350_1.jpg   \n",
       "Alice Wegmann                                 m/Alice_Wegmann_M_1.jpg   \n",
       "Claudia Ohana                                   m/Claudia_Ohana_M.jpg   \n",
       "Daniel de Oliveira                       m/Daniel_de_Oliveira_M_1.jpg   \n",
       "Francisco Cuoco                               m/Francisco_Cuoco_M.jpg   \n",
       "IZA                                               m/IZA_-_599x350.jpg   \n",
       "Jacqueline Sato                               m/Jacqueline_Sato_M.jpg   \n",
       "João Côrtes                                       m/JoYo_CYrtes_M.jpg   \n",
       "Júlia Rabello                                   m/JYlia_Rabello_M.jpg   \n",
       "Tom Cavalcante                                 m/Tom_Cavalcante_M.jpg   \n",
       "Zé Neto & Cristiano                       m/ZY_Neto_e_Cristiano_M.jpg   \n",
       "Bruno Mazzeo                                     m/Bruno_Mazzeo_M.jpg   \n",
       "...                                                               ...   \n",
       "Zezé Di Camargo e Luciano   m/MYdia_-_ZezY_di_Camargo_e_Luciano_2.png   \n",
       "Adele                                                 m/599x350_3.png   \n",
       "Alicia Keys                                         m/Alicia_Keys.jpg   \n",
       "Beyoncé                                                 m/BeyoncY.jpg   \n",
       "Brad Pitt                                            m/599x350_47.jpg   \n",
       "George Clooney                                        m/clooney_M.jpg   \n",
       "Katy Perry                                           m/599x350_51.jpg   \n",
       "Jennifer Lopez                                       m/599x350_49.jpg   \n",
       "Leonardo DiCaprio                                    m/599x350_53.jpg   \n",
       "Mário Frias                             m/MYrio_Frias_-_599x350_1.png   \n",
       "Sérgio Sette Câmara                       m/SYrgio_Sette_CYmara_M.jpg   \n",
       "Luiz Felipe Fonteles               m/Luiz_Felipe_Fonteles_599x350.jpg   \n",
       "Baco Exu do Blues                     m/Baco_Exu_do_Blues_599x350.jpg   \n",
       "Luísa Sonza                                m/LuYsa_Sounza_599x350.jpg   \n",
       "Léo Santana                                 m/LYo_Santana_599x350.jpg   \n",
       "Anelis Assumpção                       m/Anelis_AssumpYYo_599x350.jpg   \n",
       "Gabriel Barbosa (Gabigol)                       m/Gabigol_599x350.jpg   \n",
       "Léo Dias                                       m/LYo_Dias_599x350.jpg   \n",
       "Fernanda Garay                           m/Fernanda_Garay_599x350.jpg   \n",
       "Paulo Henrique Ganso               m/Paulo_Henrique_Ganso_599x350.jpg   \n",
       "Bella Falconi                             m/Bella_Falconi_599x350.jpg   \n",
       "Claudia Abreu                                   m/Claudia%20Abreu.jpg   \n",
       "Bruno Vicari                               m/Bruno_Vicari_599x350.jpg   \n",
       "Lilia Cabral                               m/Lilia_Cabral_599x350.jpg   \n",
       "Ana Vilela                                   m/Ana_Vilela_599x350.jpg   \n",
       "Tadeu Schmidt                             m/Tadeu_Schmidt_599x350.jpg   \n",
       "Ana Clara                                     m/Ana_Clara_599x350.jpg   \n",
       "Carla Salle                                m/Carla_Salles_599x350.jpg   \n",
       "Nicolas Prattes                         m/Nicolas_Prattes_599x350.jpg   \n",
       "Erika Januza                                       m/Erika_Januza.png   \n",
       "\n",
       "                                                                FOTO_G  \n",
       "CELEBRIDADE                                                             \n",
       "Zizi Possi                                           g/1349x899_31.jpg  \n",
       "Sasha Meneghel                                        g/1349x899_1.png  \n",
       "Sérgio Malheiros                                     g/1349x899_29.jpg  \n",
       "Rouge                                                g/1349x899_25.jpg  \n",
       "Sabrina Petraglia                                    g/1349x899_27.jpg  \n",
       "Ricardo Pereira                                      g/1349x899_23.jpg  \n",
       "Pâmela Tomé                                          g/1349x899_21.jpg  \n",
       "Mariana Ferrão                           g/Mariana_FerrYo_1349x899.jpg  \n",
       "Nadja Haddad                                         g/1349x899_19.jpg  \n",
       "Marco Luque                                          g/1349x899_17.jpg  \n",
       "Manu Gavassi                                         g/1349x899_15.jpg  \n",
       "Livia Andrade                                        g/1349x899_13.jpg  \n",
       "José de Abreu                                         g/1349x899_9.jpg  \n",
       "Karina Bacchi                                        g/1349x899_11.jpg  \n",
       "Helen Ganzarolli                                      g/1349x899_7.jpg  \n",
       "Fabrício Boliveira                                    g/1349x899_5.jpg  \n",
       "Duda Nagle                                            g/1349x899_3.jpg  \n",
       "Chandelly Braz                                        g/1349x350_1.jpg  \n",
       "Cacau Protásio                                        g/1349x899_1.jpg  \n",
       "Alice Wegmann                                  g/Alice_Wegmann_G_1.jpg  \n",
       "Claudia Ohana                                    g/Claudia_Ohana_G.jpg  \n",
       "Daniel de Oliveira                        g/Daniel_de_Oliveira_G_1.jpg  \n",
       "Francisco Cuoco                                g/Francisco_Cuoco_G.jpg  \n",
       "IZA                                               g/IZA_-_1349x899.jpg  \n",
       "Jacqueline Sato                                g/Jacqueline_Sato_G.jpg  \n",
       "João Côrtes                                        g/JoYo_CYrtes_G.jpg  \n",
       "Júlia Rabello                                    g/JYlia_Rabello_G.jpg  \n",
       "Tom Cavalcante                                  g/Tom_Cavalcante_G.jpg  \n",
       "Zé Neto & Cristiano                        g/ZY_Neto_e_Cristiano_G.jpg  \n",
       "Bruno Mazzeo                                      g/Bruno_Mazzeo_G.jpg  \n",
       "...                                                                ...  \n",
       "Zezé Di Camargo e Luciano   g/GRande_-_ZezY_di_Camargo_e_Luciano_2.png  \n",
       "Adele                                                 g/1349x899_3.png  \n",
       "Alicia Keys                                          g/Alicia_Keys.jpg  \n",
       "Beyoncé                                                  g/BeyoncY.jpg  \n",
       "Brad Pitt                                            g/1349x899_45.jpg  \n",
       "George Clooney                                         g/clooney_G.jpg  \n",
       "Katy Perry                                           g/1349x899_49.jpg  \n",
       "Jennifer Lopez                                       g/1349x899_47.jpg  \n",
       "Leonardo DiCaprio                                    g/1349x899_51.jpg  \n",
       "Mário Frias                             g/MYrio_Frias_-_1349x899_1.png  \n",
       "Sérgio Sette Câmara                        g/SYrgio_Sette_CYmara_G.jpg  \n",
       "Luiz Felipe Fonteles               g/Luiz_Felipe_Fonteles_1349x899.jpg  \n",
       "Baco Exu do Blues                     g/Baco_Exu_do_Blues_1349x899.jpg  \n",
       "Luísa Sonza                                g/LuYsa_Sounza_1349x899.jpg  \n",
       "Léo Santana                                 g/LYo_Santana_1349x899.jpg  \n",
       "Anelis Assumpção                       g/Anelis_AssumpYYo_1349x899.jpg  \n",
       "Gabriel Barbosa (Gabigol)                       g/Gabigol_1349x899.jpg  \n",
       "Léo Dias                                       g/LYo_Dias_1349x899.jpg  \n",
       "Fernanda Garay                           g/Fernanda_Garay_1349x899.jpg  \n",
       "Paulo Henrique Ganso               g/Paulo_Henrique_Ganso_1349x899.jpg  \n",
       "Bella Falconi                             g/Bella_Falconi_1349x899.jpg  \n",
       "Claudia Abreu                                    g/Claudia%20Abreu.jpg  \n",
       "Bruno Vicari                               g/Bruno_Vicari_1349x899.jpg  \n",
       "Lilia Cabral                               g/Lilia_Cabral_1349x899.jpg  \n",
       "Ana Vilela                                   g/Ana_Vilela_1349x899.jpg  \n",
       "Tadeu Schmidt                             g/Tadeu_Schmidt_1349x899.jpg  \n",
       "Ana Clara                                     g/Ana_Clara_1349x899.jpg  \n",
       "Carla Salle                                g/Carla_Salles_1349x899.jpg  \n",
       "Nicolas Prattes                         g/Nicolas_Prattes_1349x899.jpg  \n",
       "Erika Januza                                        g/Erika_Januza.png  \n",
       "\n",
       "[540 rows x 3 columns]"
      ]
     },
     "execution_count": 18,
     "metadata": {},
     "output_type": "execute_result"
    }
   ],
   "source": [
    "df_fotos = loadDF('\\FOTOS', enc= 'ISO-8859-1', sep='\\t').set_index('CELEBRIDADE')\n",
    "df_fotos"
   ]
  },
  {
   "cell_type": "markdown",
   "metadata": {},
   "source": [
    "---"
   ]
  },
  {
   "cell_type": "markdown",
   "metadata": {},
   "source": [
    "<h2 style='color:black'>7. Tratamento de CATEGORIAS</h2>"
   ]
  },
  {
   "cell_type": "markdown",
   "metadata": {},
   "source": [
    "Define o DataFrame 'df_categorias' utilizando a função 'loadDF':"
   ]
  },
  {
   "cell_type": "code",
   "execution_count": 19,
   "metadata": {},
   "outputs": [],
   "source": [
    "df_categorias = loadDF('\\CATEGORIAS', enc= 'ISO-8859-1', sep='\\t')"
   ]
  },
  {
   "cell_type": "markdown",
   "metadata": {},
   "source": [
    "<h3 style='color:black'>7.1 Verificação - CELEBRIDADES x CATEGORIAS</h3>"
   ]
  },
  {
   "cell_type": "code",
   "execution_count": 20,
   "metadata": {},
   "outputs": [
    {
     "name": "stdout",
     "output_type": "stream",
     "text": [
      "Empty DataFrame\n",
      "Columns: [CELEBRIDADE, ID, FLIGHT, ESTADO, IDADE, ESTADO_CIVIL, TEM_FILHOS, RENDA, ESCOLARIDADE, SEXO, AWARENESS, NOME, OPINIAO, LEMBRANCA_DE_MARCA, GOSTO_MUITO, ME_IDENTIFICO, TENHO_RESPEITO, PRESTO_ATENCAO, CONFIO, MUITO_BOM_NAQUILO_QUE_FAZ, INTELIGENTE, DETERMINADO, HONESTO, ENGRAÇADO, LINDO, SEDUTOR, DO_POVO, CARA_DO_BRASIL, INOVADOR, GOSTA_DE_DESAFIOS, TENHO_VISTO_NA_MIDIA, BOA_PARA_PROPAGANDA, COMPRARIA_PRODUTOS_QUE_ANUNCIASSE, BOA_PARA_PROPAGANDA_PROJETOS_SOCIAIS, ME_ENVOLVERIA_COM_PROJETOS_SOCIAIS_QUE_ANUNCIASSE, INDICARIA_PARA_AMIGOS_MARCAS, COMENTARIA_COM_AMIGOS_PROJETOS_SOCIAIS_QUE_ANUNCIASSE, index, CATEGORIA]\n",
      "Index: []\n",
      "\n",
      "[0 rows x 39 columns]\n"
     ]
    }
   ],
   "source": [
    "df4 = df_categorias.reset_index().set_index('CELEBRIDADE')\n",
    "df5 = df.copy()\n",
    "\n",
    "#Join entre BASE e CATEGORIAS\n",
    "df5 = df5.reset_index().set_index('CELEBRIDADE').join(df4).reset_index().set_index('IX')\n",
    "\n",
    "#Mostra quais CELEBRIDADES não estão classificadas\n",
    "df6 = df5[ df5['CATEGORIA'].isna()]\n",
    "\n",
    "#Cria um arquivo se houver CELEBRIDADES NÃO CATEGORIZADAS\n",
    "if df6.shape[:1] == (0,):\n",
    "    print(df6)\n",
    "else:\n",
    "    writeDF(df6, 'COMP_CATEG')"
   ]
  },
  {
   "cell_type": "code",
   "execution_count": 21,
   "metadata": {},
   "outputs": [],
   "source": [
    "#<h3 style='color:black'>7.2 Tratamento do DataFrame de Categorias</h3>\n",
    "\n",
    "#Atualiza o DataFrame 'df_categorias' resetando o índice do DataFrame. **Por não ter o argumento *drop=True*, \n",
    "#o índice antigo se transforma numa nova coluna no DataFrame**.\n",
    "#Em seguida cria um DataFrame no qual o índice é a coluna 'CELEBRIDADE' e a coluna do DataFrame é a 'CATEGORIA', \n",
    "#agrupando tudo através da função *lambda* definida, ao invés do padrão que é *numpy.mean* \n",
    "#(**verificar com o Danilo para quê isso foi feito**):\n",
    "\n",
    "#df_categorias = df_categorias  \\\n",
    "#    .reset_index() \\\n",
    "#    .pivot_table(index='CELEBRIDADE' ,columns=['CATEGORIA'], aggfunc=lambda x : x)"
   ]
  },
  {
   "cell_type": "markdown",
   "metadata": {},
   "source": [
    "---"
   ]
  },
  {
   "cell_type": "markdown",
   "metadata": {},
   "source": [
    "<h2 style='color:black'>8. Join entre BASE e FOTOS</h2>"
   ]
  },
  {
   "cell_type": "markdown",
   "metadata": {},
   "source": [
    "O código abaixo executa os seguintes passos:\n",
    "1. Reseta o índice do DataFrame 'df' (que puxou o arquivo 'SERIE_HISTORICA_FL21')\n",
    "2. Configura como novo índice a coluna 'CELEBRIDADE'\n",
    "3. Junta o 'df' com 'df_fotos' utilizando os seus índices (de ambos são a coluna 'CELEBRIDADE')\n",
    "4. Reseta o índice de 'df' novamente (já que já foi utilizado para o *join*)\n",
    "5. Configura novamente o índice para a coluna 'IX'"
   ]
  },
  {
   "cell_type": "code",
   "execution_count": 22,
   "metadata": {},
   "outputs": [],
   "source": [
    "df = df.reset_index().set_index('CELEBRIDADE').join(df_fotos).reset_index().set_index('IX')"
   ]
  },
  {
   "cell_type": "markdown",
   "metadata": {},
   "source": [
    "A função *option_context()* é utilizada para permitir que todas as colunas sejam mostradas no *print()*, para conferir se o *join* foi realizado corretamente.\n",
    "\n",
    "A função *head()* retorna, por padrão, as primeiras 5 linhas do DataFrame para verificar os tipos de dados que o DataFrame contém."
   ]
  },
  {
   "cell_type": "code",
   "execution_count": 23,
   "metadata": {
    "scrolled": true
   },
   "outputs": [
    {
     "name": "stdout",
     "output_type": "stream",
     "text": [
      "       CELEBRIDADE      ID  FLIGHT  ESTADO  IDADE  ESTADO_CIVIL  TEM_FILHOS  \\\n",
      "IX                                                                            \n",
      "127543       Adele  127543      21       1     10             1           2   \n",
      "127544       Adele  127544      21      19     14             1           2   \n",
      "127545       Adele  127545      21      11     23             2           1   \n",
      "127546       Adele  127546      21       7     13             2           1   \n",
      "127547       Adele  127547      21       1     18             2           1   \n",
      "\n",
      "        RENDA  ESCOLARIDADE  SEXO        ...         TENHO_VISTO_NA_MIDIA  \\\n",
      "IX                                       ...                                \n",
      "127543      8             6     1        ...                          NaN   \n",
      "127544      5             5     2        ...                          NaN   \n",
      "127545      5             4     2        ...                          NaN   \n",
      "127546      3             5     1        ...                          NaN   \n",
      "127547      5             6     2        ...                          NaN   \n",
      "\n",
      "       BOA_PARA_PROPAGANDA COMPRARIA_PRODUTOS_QUE_ANUNCIASSE  \\\n",
      "IX                                                             \n",
      "127543                 NaN                               NaN   \n",
      "127544                 NaN                               NaN   \n",
      "127545                 NaN                               NaN   \n",
      "127546                 NaN                               NaN   \n",
      "127547                 NaN                               NaN   \n",
      "\n",
      "       BOA_PARA_PROPAGANDA_PROJETOS_SOCIAIS  \\\n",
      "IX                                            \n",
      "127543                                  NaN   \n",
      "127544                                  NaN   \n",
      "127545                                  NaN   \n",
      "127546                                  NaN   \n",
      "127547                                  NaN   \n",
      "\n",
      "        ME_ENVOLVERIA_COM_PROJETOS_SOCIAIS_QUE_ANUNCIASSE  \\\n",
      "IX                                                          \n",
      "127543                                                NaN   \n",
      "127544                                                NaN   \n",
      "127545                                                NaN   \n",
      "127546                                                NaN   \n",
      "127547                                                NaN   \n",
      "\n",
      "        INDICARIA_PARA_AMIGOS_MARCAS  \\\n",
      "IX                                     \n",
      "127543                           NaN   \n",
      "127544                           NaN   \n",
      "127545                           NaN   \n",
      "127546                           NaN   \n",
      "127547                           NaN   \n",
      "\n",
      "        COMENTARIA_COM_AMIGOS_PROJETOS_SOCIAIS_QUE_ANUNCIASSE  \\\n",
      "IX                                                              \n",
      "127543                                                NaN       \n",
      "127544                                                NaN       \n",
      "127545                                                NaN       \n",
      "127546                                                NaN       \n",
      "127547                                                NaN       \n",
      "\n",
      "                 FOTO_P           FOTO_M            FOTO_G  \n",
      "IX                                                          \n",
      "127543  p/150x150_3.png  m/599x350_3.png  g/1349x899_3.png  \n",
      "127544  p/150x150_3.png  m/599x350_3.png  g/1349x899_3.png  \n",
      "127545  p/150x150_3.png  m/599x350_3.png  g/1349x899_3.png  \n",
      "127546  p/150x150_3.png  m/599x350_3.png  g/1349x899_3.png  \n",
      "127547  p/150x150_3.png  m/599x350_3.png  g/1349x899_3.png  \n",
      "\n",
      "[5 rows x 40 columns]\n"
     ]
    }
   ],
   "source": [
    "# Verificação de print() sem o option_context()\n",
    "print(df.head())"
   ]
  },
  {
   "cell_type": "code",
   "execution_count": 24,
   "metadata": {
    "scrolled": true
   },
   "outputs": [
    {
     "name": "stdout",
     "output_type": "stream",
     "text": [
      "       CELEBRIDADE      ID  FLIGHT  ESTADO  IDADE  ESTADO_CIVIL  TEM_FILHOS  \\\n",
      "IX                                                                            \n",
      "127543       Adele  127543      21       1     10             1           2   \n",
      "127544       Adele  127544      21      19     14             1           2   \n",
      "127545       Adele  127545      21      11     23             2           1   \n",
      "127546       Adele  127546      21       7     13             2           1   \n",
      "127547       Adele  127547      21       1     18             2           1   \n",
      "\n",
      "        RENDA  ESCOLARIDADE  SEXO  AWARENESS NOME OPINIAO LEMBRANCA_DE_MARCA  \\\n",
      "IX                                                                             \n",
      "127543      8             6     1          2  NaN     NaN                NaN   \n",
      "127544      5             5     2          2  NaN     NaN                NaN   \n",
      "127545      5             4     2          2  NaN     NaN                NaN   \n",
      "127546      3             5     1          2  NaN     NaN                NaN   \n",
      "127547      5             6     2          2  NaN     NaN                NaN   \n",
      "\n",
      "        GOSTO_MUITO  ME_IDENTIFICO  TENHO_RESPEITO  PRESTO_ATENCAO  CONFIO  \\\n",
      "IX                                                                           \n",
      "127543          NaN            NaN             NaN             NaN     NaN   \n",
      "127544          NaN            NaN             NaN             NaN     NaN   \n",
      "127545          NaN            NaN             NaN             NaN     NaN   \n",
      "127546          NaN            NaN             NaN             NaN     NaN   \n",
      "127547          NaN            NaN             NaN             NaN     NaN   \n",
      "\n",
      "        MUITO_BOM_NAQUILO_QUE_FAZ  INTELIGENTE  DETERMINADO  HONESTO  \\\n",
      "IX                                                                     \n",
      "127543                        NaN          NaN          NaN      NaN   \n",
      "127544                        NaN          NaN          NaN      NaN   \n",
      "127545                        NaN          NaN          NaN      NaN   \n",
      "127546                        NaN          NaN          NaN      NaN   \n",
      "127547                        NaN          NaN          NaN      NaN   \n",
      "\n",
      "        ENGRAÇADO  LINDO  SEDUTOR  DO_POVO  CARA_DO_BRASIL  INOVADOR  \\\n",
      "IX                                                                     \n",
      "127543        NaN    NaN      NaN      NaN             NaN       NaN   \n",
      "127544        NaN    NaN      NaN      NaN             NaN       NaN   \n",
      "127545        NaN    NaN      NaN      NaN             NaN       NaN   \n",
      "127546        NaN    NaN      NaN      NaN             NaN       NaN   \n",
      "127547        NaN    NaN      NaN      NaN             NaN       NaN   \n",
      "\n",
      "        GOSTA_DE_DESAFIOS  TENHO_VISTO_NA_MIDIA  BOA_PARA_PROPAGANDA  \\\n",
      "IX                                                                     \n",
      "127543                NaN                   NaN                  NaN   \n",
      "127544                NaN                   NaN                  NaN   \n",
      "127545                NaN                   NaN                  NaN   \n",
      "127546                NaN                   NaN                  NaN   \n",
      "127547                NaN                   NaN                  NaN   \n",
      "\n",
      "        COMPRARIA_PRODUTOS_QUE_ANUNCIASSE  \\\n",
      "IX                                          \n",
      "127543                                NaN   \n",
      "127544                                NaN   \n",
      "127545                                NaN   \n",
      "127546                                NaN   \n",
      "127547                                NaN   \n",
      "\n",
      "        BOA_PARA_PROPAGANDA_PROJETOS_SOCIAIS  \\\n",
      "IX                                             \n",
      "127543                                   NaN   \n",
      "127544                                   NaN   \n",
      "127545                                   NaN   \n",
      "127546                                   NaN   \n",
      "127547                                   NaN   \n",
      "\n",
      "        ME_ENVOLVERIA_COM_PROJETOS_SOCIAIS_QUE_ANUNCIASSE  \\\n",
      "IX                                                          \n",
      "127543                                                NaN   \n",
      "127544                                                NaN   \n",
      "127545                                                NaN   \n",
      "127546                                                NaN   \n",
      "127547                                                NaN   \n",
      "\n",
      "        INDICARIA_PARA_AMIGOS_MARCAS  \\\n",
      "IX                                     \n",
      "127543                           NaN   \n",
      "127544                           NaN   \n",
      "127545                           NaN   \n",
      "127546                           NaN   \n",
      "127547                           NaN   \n",
      "\n",
      "        COMENTARIA_COM_AMIGOS_PROJETOS_SOCIAIS_QUE_ANUNCIASSE  \\\n",
      "IX                                                              \n",
      "127543                                                NaN       \n",
      "127544                                                NaN       \n",
      "127545                                                NaN       \n",
      "127546                                                NaN       \n",
      "127547                                                NaN       \n",
      "\n",
      "                 FOTO_P           FOTO_M            FOTO_G  \n",
      "IX                                                          \n",
      "127543  p/150x150_3.png  m/599x350_3.png  g/1349x899_3.png  \n",
      "127544  p/150x150_3.png  m/599x350_3.png  g/1349x899_3.png  \n",
      "127545  p/150x150_3.png  m/599x350_3.png  g/1349x899_3.png  \n",
      "127546  p/150x150_3.png  m/599x350_3.png  g/1349x899_3.png  \n",
      "127547  p/150x150_3.png  m/599x350_3.png  g/1349x899_3.png  \n"
     ]
    }
   ],
   "source": [
    "with pd.option_context('display.max_rows', None, 'display.max_columns', 100):\n",
    "    print(df.head())"
   ]
  },
  {
   "cell_type": "markdown",
   "metadata": {},
   "source": [
    "---"
   ]
  },
  {
   "cell_type": "markdown",
   "metadata": {},
   "source": [
    "<h2 style='color:black'>9. Verificação - Problemas na BASE</h2>"
   ]
  },
  {
   "cell_type": "code",
   "execution_count": 25,
   "metadata": {},
   "outputs": [],
   "source": [
    "#Verificação - CELEBRIDADES x FOTOS\n",
    "#VERIF_FOTOS = 1\n",
    "#df3 = df[ df[\"FOTO_P\"].isna() ]\n",
    "#print(df3[\"CELEBRIDADE\"].unique(), \"Coluna FOTO_P\")\n",
    "#df3 = df[ df[\"FOTO_M\"].isna() ]\n",
    "#print(df3[\"CELEBRIDADE\"].unique(), \"Coluna FOTO_M\")\n",
    "#df3 = df[ df[\"FOTO_G\"].isna() ]\n",
    "#print(df3[\"CELEBRIDADE\"].unique(), \"Coluna FOTO_G\")\n",
    "#\n",
    "#if VERIF_FOTOS == 1:\n",
    "#    writeDF(df3, 'VERIF_FOTOS')\n",
    "#    print(\"Arquivo exportado\")"
   ]
  },
  {
   "cell_type": "code",
   "execution_count": 26,
   "metadata": {},
   "outputs": [],
   "source": [
    "# with pd.option_context('display.max_rows', None, 'display.max_columns', 10):\n",
    "    # print(pd.Series(df[\"CELEBRIDADE\"].unique()))\n",
    "    # print(pd.Series(df[\"FLIGHT\"].unique()))\n",
    "    # print(pd.Series(df[\"ESTADO\"].unique()))\n",
    "    # print(pd.Series(sorted(df[\"IDADE\"].unique())))\n",
    "    # print(pd.Series(sorted(df[\"ESTADO_CIVIL\"].unique())))\n",
    "    # print(pd.Series(sorted(df[\"TEM_FILHOS\"].unique())))\n",
    "    # print(pd.Series(sorted(df[\"RENDA\"].unique())))\n",
    "    # print(pd.Series(sorted(df[\"ESCOLARIDADE\"].unique())))\n",
    "    # print(pd.Series(sorted(df[\"SEXO\"].unique())))\n",
    "    # print(pd.Series(sorted(df[\"AWARENESS\"].unique())))"
   ]
  },
  {
   "cell_type": "markdown",
   "metadata": {},
   "source": [
    "Cria a *Series* 'df2' como sendo o resultado do *subset* (no SQL = SELECT) de todos os Estados com valores maiores que 27.\n",
    "\n",
    "Em seguida printa o *subset* do *Series* 'df2' puxando todos os valores distintos na coluna 'FLIGHT' (no SQL = SELECT DISTINCT FLIGHT FROM df2):"
   ]
  },
  {
   "cell_type": "code",
   "execution_count": 27,
   "metadata": {},
   "outputs": [
    {
     "name": "stdout",
     "output_type": "stream",
     "text": [
      "[]\n"
     ]
    }
   ],
   "source": [
    "# FLIGHT 18 TÁ CAGADO, fizeram alguma bosta na coluna de Estado. Tem que esperar o Gui arrumar\n",
    "df2 = df[ df[\"ESTADO\"] > 27 ]\n",
    "print(df2[\"FLIGHT\"].unique())"
   ]
  },
  {
   "cell_type": "markdown",
   "metadata": {},
   "source": [
    "A função *isnull()* (também conhecida como *isna()*) retorna 'True' para cada valor nulo na coluna. Foi utilizado para buscar por valores nulos no DataFrame (aparentemente esperava-se que tudo estivesse preenchido)."
   ]
  },
  {
   "cell_type": "code",
   "execution_count": 28,
   "metadata": {},
   "outputs": [
    {
     "name": "stdout",
     "output_type": "stream",
     "text": [
      "[]\n",
      "[]\n",
      "[]\n",
      "[]\n",
      "[]\n",
      "[]\n"
     ]
    }
   ],
   "source": [
    "# FLIGHT 9 TÁ CAGADO, fizeram alguma bosta nas colunas de perfil demográfico, pois estão vazias\n",
    "df2 =  df [ pd.isnull(df[\"IDADE\"]) ]\n",
    "print(df2[\"FLIGHT\"].unique())\n",
    "df2 =  df [ pd.isnull(df[\"ESTADO_CIVIL\"]) ]\n",
    "print(df2[\"FLIGHT\"].unique())\n",
    "df2 =  df [ pd.isnull(df[\"TEM_FILHOS\"]) ]\n",
    "print(df2[\"FLIGHT\"].unique())\n",
    "df2 =  df [ pd.isnull(df[\"RENDA\"]) ]\n",
    "print(df2[\"FLIGHT\"].unique())\n",
    "df2 =  df [ pd.isnull(df[\"ESCOLARIDADE\"]) ]\n",
    "print(df2[\"FLIGHT\"].unique())\n",
    "df2 =  df [ pd.isnull(df[\"SEXO\"]) ]\n",
    "print(df2[\"FLIGHT\"].unique())"
   ]
  },
  {
   "cell_type": "markdown",
   "metadata": {},
   "source": [
    "Faz a mesma verificação por valores nulos só que dessa vez criando uma cópia do resultado e o associando em 'df2':"
   ]
  },
  {
   "cell_type": "code",
   "execution_count": 29,
   "metadata": {},
   "outputs": [],
   "source": [
    "# FLIGHTS 8, 11, 12 possuem a coluna de 'AWARENESS' vazio\n",
    "df2 =  df [ pd.isnull(df[\"AWARENESS\"]) ].copy()"
   ]
  },
  {
   "cell_type": "markdown",
   "metadata": {},
   "source": [
    "Printa as quantidades de celebridades em 'df2' agrupando pela coluna 'FLIGHT':"
   ]
  },
  {
   "cell_type": "code",
   "execution_count": 30,
   "metadata": {},
   "outputs": [
    {
     "name": "stdout",
     "output_type": "stream",
     "text": [
      "Series([], Name: CELEBRIDADE, dtype: int64)\n"
     ]
    }
   ],
   "source": [
    "print(df2.groupby(\"FLIGHT\")[\"CELEBRIDADE\"].count() )"
   ]
  },
  {
   "cell_type": "markdown",
   "metadata": {},
   "source": [
    "Cria a variável 'ls_cols' e associa a ela uma lista criada a partir da coluna 'AWARENESS':"
   ]
  },
  {
   "cell_type": "code",
   "execution_count": 31,
   "metadata": {
    "scrolled": true
   },
   "outputs": [],
   "source": [
    "ls_cols = list([\"AWARENESS\"])"
   ]
  },
  {
   "cell_type": "markdown",
   "metadata": {},
   "source": [
    "Adiciona o conteúdo das listas 'ls_cols' e a lista gerada a partir de 'pd.Series(df.columns)[13:-3]', criando uma única lista em 'ls_cols'.\n",
    "\n",
    "O item *.columns* faz com que sejam \"puxados\" somente os *labels* das colunas que no caso são as escalas:"
   ]
  },
  {
   "cell_type": "code",
   "execution_count": 32,
   "metadata": {},
   "outputs": [],
   "source": [
    "ls_cols.extend(pd.Series(df.columns)[13:-3])"
   ]
  },
  {
   "cell_type": "markdown",
   "metadata": {},
   "source": [
    "Cria um DataFrame com a *Series* da lista 'ls_cols':"
   ]
  },
  {
   "cell_type": "code",
   "execution_count": 33,
   "metadata": {},
   "outputs": [],
   "source": [
    "df2 = df [ pd.Series(ls_cols) ]"
   ]
  },
  {
   "cell_type": "markdown",
   "metadata": {},
   "source": [
    "Printa um sumário com as principais estatísticas excluindo-se os valores *NaN*:"
   ]
  },
  {
   "cell_type": "code",
   "execution_count": 34,
   "metadata": {
    "scrolled": true
   },
   "outputs": [
    {
     "name": "stdout",
     "output_type": "stream",
     "text": [
      "           AWARENESS    GOSTO_MUITO  ME_IDENTIFICO  TENHO_RESPEITO  \\\n",
      "count  214150.000000  140349.000000  140349.000000   140349.000000   \n",
      "mean        1.345365       5.022800       4.578080        5.416056   \n",
      "std         0.475488       1.877245       2.006231        1.723089   \n",
      "min         1.000000       1.000000       1.000000        1.000000   \n",
      "25%         1.000000       4.000000       3.000000        4.000000   \n",
      "50%         1.000000       5.000000       5.000000        6.000000   \n",
      "75%         2.000000       7.000000       6.000000        7.000000   \n",
      "max         2.000000       7.000000       7.000000        7.000000   \n",
      "\n",
      "       PRESTO_ATENCAO         CONFIO  MUITO_BOM_NAQUILO_QUE_FAZ  \\\n",
      "count   140349.000000  140349.000000              140349.000000   \n",
      "mean         4.927531       4.847117                   5.644087   \n",
      "std          1.952298       1.880740                   1.675964   \n",
      "min          1.000000       1.000000                   1.000000   \n",
      "25%          4.000000       4.000000                   5.000000   \n",
      "50%          5.000000       5.000000                   6.000000   \n",
      "75%          7.000000       7.000000                   7.000000   \n",
      "max          7.000000       7.000000                   7.000000   \n",
      "\n",
      "         INTELIGENTE    DETERMINADO        HONESTO  \\\n",
      "count  140349.000000  140349.000000  140349.000000   \n",
      "mean        5.496605       5.494902       5.195698   \n",
      "std         1.673914       1.665628       1.717665   \n",
      "min         1.000000       1.000000       1.000000   \n",
      "25%         4.000000       4.000000       4.000000   \n",
      "50%         6.000000       6.000000       6.000000   \n",
      "75%         7.000000       7.000000       7.000000   \n",
      "max         7.000000       7.000000       7.000000   \n",
      "\n",
      "                               ...                            CARA_DO_BRASIL  \\\n",
      "count                          ...                             140349.000000   \n",
      "mean                           ...                                  5.025999   \n",
      "std                            ...                                  1.905422   \n",
      "min                            ...                                  1.000000   \n",
      "25%                            ...                                  4.000000   \n",
      "50%                            ...                                  5.000000   \n",
      "75%                            ...                                  7.000000   \n",
      "max                            ...                                  7.000000   \n",
      "\n",
      "            INOVADOR  GOSTA_DE_DESAFIOS  TENHO_VISTO_NA_MIDIA  \\\n",
      "count  140349.000000      140349.000000         140349.000000   \n",
      "mean        5.091885           5.329315              5.346878   \n",
      "std         1.817309           1.727983              1.805058   \n",
      "min         1.000000           1.000000              1.000000   \n",
      "25%         4.000000           4.000000              4.000000   \n",
      "50%         5.000000           6.000000              6.000000   \n",
      "75%         7.000000           7.000000              7.000000   \n",
      "max         7.000000           7.000000              7.000000   \n",
      "\n",
      "       BOA_PARA_PROPAGANDA  COMPRARIA_PRODUTOS_QUE_ANUNCIASSE  \\\n",
      "count        140349.000000                      140349.000000   \n",
      "mean              5.332792                           5.020549   \n",
      "std               1.798257                           1.870792   \n",
      "min               1.000000                           1.000000   \n",
      "25%               4.000000                           4.000000   \n",
      "50%               6.000000                           5.000000   \n",
      "75%               7.000000                           7.000000   \n",
      "max               7.000000                           7.000000   \n",
      "\n",
      "       BOA_PARA_PROPAGANDA_PROJETOS_SOCIAIS  \\\n",
      "count                         140349.000000   \n",
      "mean                               5.226001   \n",
      "std                                1.849864   \n",
      "min                                1.000000   \n",
      "25%                                4.000000   \n",
      "50%                                6.000000   \n",
      "75%                                7.000000   \n",
      "max                                7.000000   \n",
      "\n",
      "       ME_ENVOLVERIA_COM_PROJETOS_SOCIAIS_QUE_ANUNCIASSE  \\\n",
      "count                                      140349.000000   \n",
      "mean                                            4.978667   \n",
      "std                                             1.893858   \n",
      "min                                             1.000000   \n",
      "25%                                             4.000000   \n",
      "50%                                             5.000000   \n",
      "75%                                             7.000000   \n",
      "max                                             7.000000   \n",
      "\n",
      "       INDICARIA_PARA_AMIGOS_MARCAS  \\\n",
      "count                 140349.000000   \n",
      "mean                       5.004304   \n",
      "std                        1.887250   \n",
      "min                        1.000000   \n",
      "25%                        4.000000   \n",
      "50%                        5.000000   \n",
      "75%                        7.000000   \n",
      "max                        7.000000   \n",
      "\n",
      "       COMENTARIA_COM_AMIGOS_PROJETOS_SOCIAIS_QUE_ANUNCIASSE  \n",
      "count                                      140349.000000      \n",
      "mean                                            5.043356      \n",
      "std                                             1.891172      \n",
      "min                                             1.000000      \n",
      "25%                                             4.000000      \n",
      "50%                                             5.000000      \n",
      "75%                                             7.000000      \n",
      "max                                             7.000000      \n",
      "\n",
      "[8 rows x 24 columns]\n"
     ]
    }
   ],
   "source": [
    "print(df2.describe())"
   ]
  },
  {
   "cell_type": "code",
   "execution_count": 35,
   "metadata": {},
   "outputs": [],
   "source": [
    "# As escalas ME_ENVOLVERIA_COM_PROJETOS_SOCIAIS_QUE_ANUNCIASSE e INDICARIA_PARA_AMIGOS_MARCAS não foram respondidas no flight 8"
   ]
  },
  {
   "cell_type": "markdown",
   "metadata": {},
   "source": [
    "**Legenda de AWARENESS na tabela: 1 - Sei; 2 - Não Sei**\n",
    "\n",
    "Busca no DataFrame 'df' quais são as CELEBRIDADES que são conhecidas e que os respondentes preencheram no campo 'GOSTO_MUITO'."
   ]
  },
  {
   "cell_type": "code",
   "execution_count": 36,
   "metadata": {},
   "outputs": [],
   "source": [
    "df2 = df[ df[\"AWARENESS\"] == 1 &  pd.notnull( df[\"GOSTO_MUITO\"]) ]"
   ]
  },
  {
   "cell_type": "markdown",
   "metadata": {},
   "source": [
    "Cria uma *Series* dos *labels* do DataFrame 'df2' para verificar o DataFrame contém todas as colunas necessárias:"
   ]
  },
  {
   "cell_type": "code",
   "execution_count": 37,
   "metadata": {
    "scrolled": true
   },
   "outputs": [
    {
     "name": "stdout",
     "output_type": "stream",
     "text": [
      "0                                           CELEBRIDADE\n",
      "1                                                    ID\n",
      "2                                                FLIGHT\n",
      "3                                                ESTADO\n",
      "4                                                 IDADE\n",
      "5                                          ESTADO_CIVIL\n",
      "6                                            TEM_FILHOS\n",
      "7                                                 RENDA\n",
      "8                                          ESCOLARIDADE\n",
      "9                                                  SEXO\n",
      "10                                            AWARENESS\n",
      "11                                                 NOME\n",
      "12                                              OPINIAO\n",
      "13                                   LEMBRANCA_DE_MARCA\n",
      "14                                          GOSTO_MUITO\n",
      "15                                        ME_IDENTIFICO\n",
      "16                                       TENHO_RESPEITO\n",
      "17                                       PRESTO_ATENCAO\n",
      "18                                               CONFIO\n",
      "19                            MUITO_BOM_NAQUILO_QUE_FAZ\n",
      "20                                          INTELIGENTE\n",
      "21                                          DETERMINADO\n",
      "22                                              HONESTO\n",
      "23                                            ENGRAÇADO\n",
      "24                                                LINDO\n",
      "25                                              SEDUTOR\n",
      "26                                              DO_POVO\n",
      "27                                       CARA_DO_BRASIL\n",
      "28                                             INOVADOR\n",
      "29                                    GOSTA_DE_DESAFIOS\n",
      "30                                 TENHO_VISTO_NA_MIDIA\n",
      "31                                  BOA_PARA_PROPAGANDA\n",
      "32                    COMPRARIA_PRODUTOS_QUE_ANUNCIASSE\n",
      "33                 BOA_PARA_PROPAGANDA_PROJETOS_SOCIAIS\n",
      "34    ME_ENVOLVERIA_COM_PROJETOS_SOCIAIS_QUE_ANUNCIASSE\n",
      "35                         INDICARIA_PARA_AMIGOS_MARCAS\n",
      "36    COMENTARIA_COM_AMIGOS_PROJETOS_SOCIAIS_QUE_ANU...\n",
      "37                                               FOTO_P\n",
      "38                                               FOTO_M\n",
      "39                                               FOTO_G\n",
      "dtype: object\n"
     ]
    }
   ],
   "source": [
    "print(pd.Series(df2.columns))"
   ]
  },
  {
   "cell_type": "markdown",
   "metadata": {},
   "source": [
    "Busca por colunas que possuem valores nulos e seus respectivos 'FLIGHTS':"
   ]
  },
  {
   "cell_type": "code",
   "execution_count": 38,
   "metadata": {
    "scrolled": true
   },
   "outputs": [
    {
     "name": "stdout",
     "output_type": "stream",
     "text": [
      "[]\n",
      "[]\n",
      "[]\n",
      "[]\n",
      "[]\n",
      "[]\n",
      "[]\n",
      "[]\n",
      "[]\n",
      "[]\n",
      "[]\n",
      "[]\n",
      "[]\n",
      "[]\n",
      "[]\n",
      "[]\n",
      "[]\n",
      "[]\n",
      "[]\n",
      "[]\n",
      "[]\n",
      "[]\n",
      "[]\n",
      "\n",
      "\n",
      "\n"
     ]
    }
   ],
   "source": [
    "print( df2 [ pd.isnull(df2[\"GOSTO_MUITO\"]) ][\"FLIGHT\"].unique() )\n",
    "print( df2 [ pd.isnull(df2[\"ME_IDENTIFICO\"]) ][\"FLIGHT\"].unique() )\n",
    "print( df2 [ pd.isnull(df2[\"TENHO_RESPEITO\"]) ][\"FLIGHT\"].unique() )\n",
    "print( df2 [ pd.isnull(df2[\"PRESTO_ATENCAO\"]) ][\"FLIGHT\"].unique() )\n",
    "print( df2 [ pd.isnull(df2[\"CONFIO\"]) ][\"FLIGHT\"].unique() )\n",
    "print( df2 [ pd.isnull(df2[\"MUITO_BOM_NAQUILO_QUE_FAZ\"]) ][\"FLIGHT\"].unique() )\n",
    "print( df2 [ pd.isnull(df2[\"INTELIGENTE\"]) ][\"FLIGHT\"].unique() )\n",
    "print( df2 [ pd.isnull(df2[\"DETERMINADO\"]) ][\"FLIGHT\"].unique() )\n",
    "print( df2 [ pd.isnull(df2[\"HONESTO\"]) ][\"FLIGHT\"].unique() )\n",
    "print( df2 [ pd.isnull(df2[\"ENGRAÇADO\"]) ][\"FLIGHT\"].unique() )\n",
    "print( df2 [ pd.isnull(df2[\"LINDO\"]) ][\"FLIGHT\"].unique() )\n",
    "print( df2 [ pd.isnull(df2[\"SEDUTOR\"]) ][\"FLIGHT\"].unique() )\n",
    "print( df2 [ pd.isnull(df2[\"DO_POVO\"]) ][\"FLIGHT\"].unique() )\n",
    "print( df2 [ pd.isnull(df2[\"CARA_DO_BRASIL\"]) ][\"FLIGHT\"].unique() )\n",
    "print( df2 [ pd.isnull(df2[\"INOVADOR\"]) ][\"FLIGHT\"].unique() )\n",
    "print( df2 [ pd.isnull(df2[\"GOSTA_DE_DESAFIOS\"]) ][\"FLIGHT\"].unique() )\n",
    "print( df2 [ pd.isnull(df2[\"TENHO_VISTO_NA_MIDIA\"]) ][\"FLIGHT\"].unique() )\n",
    "print( df2 [ pd.isnull(df2[\"BOA_PARA_PROPAGANDA\"]) ][\"FLIGHT\"].unique() )\n",
    "print( df2 [ pd.isnull(df2[\"COMPRARIA_PRODUTOS_QUE_ANUNCIASSE\"]) ][\"FLIGHT\"].unique() )\n",
    "print( df2 [ pd.isnull(df2[\"BOA_PARA_PROPAGANDA_PROJETOS_SOCIAIS\"]) ][\"FLIGHT\"].unique() )\n",
    "print( df2 [ pd.isnull(df2[\"ME_ENVOLVERIA_COM_PROJETOS_SOCIAIS_QUE_ANUNCIASSE\"]) ][\"FLIGHT\"].unique() )\n",
    "print( df2 [ pd.isnull(df2[\"INDICARIA_PARA_AMIGOS_MARCAS\"]) ][\"FLIGHT\"].unique() )\n",
    "print( df2 [ pd.isnull(df2[\"COMENTARIA_COM_AMIGOS_PROJETOS_SOCIAIS_QUE_ANUNCIASSE\"]) ][\"FLIGHT\"].unique() )\n",
    "\n",
    "print (\"\\n\\n\")"
   ]
  },
  {
   "cell_type": "markdown",
   "metadata": {},
   "source": [
    "**Legenda de AWARENESS na tabela: 1 - Sei; 2 - Não Sei**\n",
    "\n",
    "Cria uma condição em que é necessário que as colunas sejam nulas e que o 'AWARENESS' seja igual a 1, para printar a quantidade de CELEBRIDADES agrupadas por 'FLIGHT' em que essas condições sejam verdadeiras:"
   ]
  },
  {
   "cell_type": "code",
   "execution_count": 39,
   "metadata": {},
   "outputs": [
    {
     "name": "stdout",
     "output_type": "stream",
     "text": [
      "Series([], Name: CELEBRIDADE, dtype: int64)\n",
      "Series([], Name: CELEBRIDADE, dtype: int64)\n",
      "\n",
      "\n",
      "\n"
     ]
    }
   ],
   "source": [
    "df3 = df2[ pd.isnull(df2[\"ME_ENVOLVERIA_COM_PROJETOS_SOCIAIS_QUE_ANUNCIASSE\"]) & df2[\"AWARENESS\"] == 1  ]\n",
    "print (df3.groupby('FLIGHT')[\"CELEBRIDADE\"].count())\n",
    "\n",
    "df3 = df2[ pd.isnull(df2[\"INDICARIA_PARA_AMIGOS_MARCAS\"]) & df2[\"AWARENESS\"] == 1  ]\n",
    "print (df3.groupby('FLIGHT')[\"CELEBRIDADE\"].count())\n",
    "\n",
    "print (\"\\n\\n\")"
   ]
  },
  {
   "cell_type": "markdown",
   "metadata": {},
   "source": [
    "**Verificar com Danilo por que foi feito pelo 'df' e não pelo 'df2' igual aos outros**"
   ]
  },
  {
   "cell_type": "code",
   "execution_count": 40,
   "metadata": {},
   "outputs": [
    {
     "name": "stdout",
     "output_type": "stream",
     "text": [
      "FLIGHT\n",
      "17    1\n",
      "Name: CELEBRIDADE, dtype: int64\n",
      "\n",
      "\n",
      "\n",
      "Series([], Name: CELEBRIDADE, dtype: int64)\n"
     ]
    }
   ],
   "source": [
    "# FLIGHT 17 possui 1 registro que apesar de ter marcado que conhece o artista, não respondeu nenhuma escala\n",
    "df2 =  df [ df[\"AWARENESS\"] == 1 & pd.isnull(df[\"GOSTO_MUITO\"]) ]\n",
    "print(df2.groupby('FLIGHT')['CELEBRIDADE'].count())\n",
    "\n",
    "print (\"\\n\\n\") \n",
    "\n",
    "df2 = df[ df[\"FLIGHT\"] == 8 ]\n",
    "print(df2.groupby(\"AWARENESS\")[\"CELEBRIDADE\"].count() )"
   ]
  },
  {
   "cell_type": "markdown",
   "metadata": {},
   "source": [
    "---"
   ]
  },
  {
   "cell_type": "markdown",
   "metadata": {},
   "source": [
    "<h2 style='color:black'>10. Tabelas auxiliares</h2>"
   ]
  },
  {
   "cell_type": "code",
   "execution_count": 41,
   "metadata": {},
   "outputs": [],
   "source": [
    "df_escolaridade = loadDF('ESCOLARIDADE')\n",
    "df_estado_civil = loadDF('ESTADOCIVIL')\n",
    "df_idade = loadDF('IDADE')\n",
    "df_idade2 = loadDF('IDADE_FL8_14')\n",
    "df_renda = loadDF('RENDA')\n",
    "df_uf = loadDF('UF')"
   ]
  },
  {
   "cell_type": "markdown",
   "metadata": {},
   "source": [
    "Cria um dicionário para fazer a mesma função que as tabelas auxiliares que são importadas no SQL Server:"
   ]
  },
  {
   "cell_type": "code",
   "execution_count": 42,
   "metadata": {},
   "outputs": [],
   "source": [
    "dictAux = {     \"ESCOLARIDADE\" : df_escolaridade.set_index('COD_ESCOLARIDADE')\n",
    "              , \"ESTADOCIVIL\"  : df_estado_civil.set_index('COD_ESTADOCIVIL')\n",
    "              , \"IDADE\"        : df_idade.set_index('COD_IDADE')\n",
    "              , \"IDADE_FL8_14\" : df_idade2.set_index('COD_IDADE')\n",
    "              , \"RENDA\"        : df_renda.set_index('COD_RENDA')\n",
    "              , \"UF\"           : df_uf.set_index('COD_ESTADO')\n",
    "          }"
   ]
  },
  {
   "cell_type": "markdown",
   "metadata": {},
   "source": [
    "---"
   ]
  },
  {
   "cell_type": "markdown",
   "metadata": {},
   "source": [
    "<h2 style='color:red'>11. Views para o PowerBI</h2>"
   ]
  },
  {
   "cell_type": "markdown",
   "metadata": {},
   "source": [
    "<h3 style='color:blue'>11.1. VW_BASE</h3>"
   ]
  },
  {
   "cell_type": "markdown",
   "metadata": {},
   "source": [
    "Cria uma cópia do DataFrame 'df' e o nomeia como 'df_base'.\n",
    "\n",
    "Em seguida faz os *joins* para buscar as informações do dicionário auxiliar (semelhante a buscar informações das tabelas auxiliares).\n",
    "\n",
    "A função *where()* é semelhante à um *if* no excel, em que se determinada condição for satisfeita, executar a primeira opção, caso contrário executar a segunda (*where(condition, True, False)*):"
   ]
  },
  {
   "cell_type": "code",
   "execution_count": 43,
   "metadata": {},
   "outputs": [],
   "source": [
    "#Necessário colocar um IF para verificar se é um flight > que 15 para fazer o join com o arquivo \"IDADE\", \n",
    "#caso contrário faz o join com o arquivo \"IDADE_FL8_14\"\n",
    "\n",
    "df_base = df.copy()\n",
    "\n",
    "df_base = df_base.set_index('ESCOLARIDADE').join(dictAux[\"ESCOLARIDADE\"])\n",
    "df_base = df_base.set_index('ESTADO_CIVIL').join(dictAux[\"ESTADOCIVIL\"])\n",
    "df_base = df_base.set_index('IDADE').join(dictAux[\"IDADE\"])\n",
    "df_base = df_base.set_index('RENDA').join(dictAux[\"RENDA\"])\n",
    "df_base = df_base.set_index('ESTADO').join(dictAux[\"UF\"])\n",
    "df_base[\"ESCOLARIDADE\"] = df[\"ESCOLARIDADE\"]\n",
    "df_base[\"ESTADO_CIVIL\"] = df[\"ESTADO_CIVIL\"]\n",
    "df_base[\"IDADE\"] = df[\"IDADE\"]\n",
    "df_base[\"RENDA\"] = df[\"RENDA\"]\n",
    "df_base[\"ESTADO\"] = df[\"ESTADO\"]\n",
    "\n",
    "# Correção realizada: 1 - Feminino ; 2 - Masculino\n",
    "df_base[\"SEXO\"] = np.where(df[\"SEXO\"] == 1, \"Feminino\", \"Masculino\")\n",
    "df_base[\"TEM_FILHOS\"] = np.where(df[\"TEM_FILHOS\"] == 1, \"Sim\", \"Não\")"
   ]
  },
  {
   "cell_type": "markdown",
   "metadata": {},
   "source": [
    "Deleta as colunas de 'df_base' que estão com os valores antigos, usados para puxar os valores no *join* e renomeia as colunas que vieram das \"tabelas auxiliares\" para fazer o papel das colunas deletadas:"
   ]
  },
  {
   "cell_type": "code",
   "execution_count": 44,
   "metadata": {},
   "outputs": [],
   "source": [
    "del df_base[\"ESTADO\"]\n",
    "del df_base[\"RENDA\"]\n",
    "del df_base[\"ESCOLARIDADE\"]\n",
    "del df_base[\"IDADE\"]\n",
    "\n",
    "df_base.rename( columns ={ \n",
    "    \"UF_NOME\" : \"ESTADO\" ,\n",
    "    \"RENDA_DESC2\": \"RENDA\",\n",
    "    \"ESCOLARIDADE_DESC2\" : \"ESCOLARIDADE\",\n",
    "    \"ESTADOCIVIL_DESC\": \"ESTADOCIVIL\",\n",
    "    \"IDADE_INT\": \"IDADE\"\n",
    "}, inplace=True)"
   ]
  },
  {
   "cell_type": "markdown",
   "metadata": {},
   "source": [
    "Bloco para gerar o arquivo que será usado na importação no SQL Server.\n",
    "\n",
    "Ordena pela coluna 'ID' de forma ascendente e a configura para ser índice (key).\n",
    "Em seguida usa a função 'writeDF' para escrever o DataFrame no arquivo \"VW_BASE.txt\":"
   ]
  },
  {
   "cell_type": "code",
   "execution_count": 45,
   "metadata": {},
   "outputs": [
    {
     "name": "stdout",
     "output_type": "stream",
     "text": [
      "Arquivo gerado\n"
     ]
    }
   ],
   "source": [
    "if OPT_GERAR_VW_BASE == 1:\n",
    "    df_base = df_base        \\\n",
    "        .sort_values(by=['ID'], ascending=True)        \\\n",
    "        .set_index(\"ID\")\n",
    "\n",
    "    writeDF(df_base, 'VW_BASE')\n",
    "        \n",
    "    print(\"Arquivo gerado\")"
   ]
  },
  {
   "cell_type": "markdown",
   "metadata": {},
   "source": [
    "---"
   ]
  },
  {
   "cell_type": "markdown",
   "metadata": {},
   "source": [
    "<h3 style='color:blue'>11.2. VW_BASE_METRICAS (FULL)</h3>"
   ]
  },
  {
   "cell_type": "code",
   "execution_count": 46,
   "metadata": {},
   "outputs": [],
   "source": [
    "df_awareness = df.copy()\n",
    "\n",
    "df_awareness['AW'] = np.where( df_awareness['AWARENESS'] == 1, 'S', 'N' )"
   ]
  },
  {
   "cell_type": "code",
   "execution_count": 47,
   "metadata": {},
   "outputs": [],
   "source": [
    "df_aw = df.copy()\n",
    "\n",
    "df_aw['AW'] = np.where( df_aw['AWARENESS'] == 1, 1, 0 )"
   ]
  },
  {
   "cell_type": "code",
   "execution_count": 48,
   "metadata": {},
   "outputs": [],
   "source": [
    "df_awareness = df_awareness.groupby(['FLIGHT','CELEBRIDADE','AW'], as_index=False).count()\n",
    "df_awareness = df_awareness[ pd.Series(['CELEBRIDADE','FLIGHT','AW', 'ID']) ].pivot_table('ID',['CELEBRIDADE','FLIGHT'],'AW')\n",
    "df_awareness[\"AWARENESS\"] = df_awareness['S'] / (df_awareness['S'] + df_awareness['N'])\n",
    "df_awareness[\"AWARENESS_NIVEL\"] = np.where( df_awareness['AWARENESS'] >= 0.70, 'Alto', 'Baixo' )\n",
    "\n",
    "cols = [\n",
    "    'ID',\n",
    "    'CELEBRIDADE',\n",
    "    'FLIGHT',\n",
    "    'GOSTO_MUITO',\n",
    "    'ME_IDENTIFICO',\n",
    "    'TENHO_RESPEITO',\n",
    "    'PRESTO_ATENCAO',\n",
    "    'CONFIO',\n",
    "    'MUITO_BOM_NAQUILO_QUE_FAZ',\n",
    "    'INTELIGENTE',\n",
    "    'DETERMINADO',\n",
    "    'HONESTO',\n",
    "    'ENGRAÇADO',\n",
    "    'LINDO',\n",
    "    'SEDUTOR',\n",
    "    'DO_POVO',\n",
    "    'CARA_DO_BRASIL',\n",
    "    'INOVADOR',\n",
    "    'GOSTA_DE_DESAFIOS',\n",
    "    'TENHO_VISTO_NA_MIDIA',\n",
    "    'BOA_PARA_PROPAGANDA',\n",
    "    'COMPRARIA_PRODUTOS_QUE_ANUNCIASSE',\n",
    "    'BOA_PARA_PROPAGANDA_PROJETOS_SOCIAIS',\n",
    "    'ME_ENVOLVERIA_COM_PROJETOS_SOCIAIS_QUE_ANUNCIASSE',\n",
    "    'INDICARIA_PARA_AMIGOS_MARCAS',\n",
    "    'COMENTARIA_COM_AMIGOS_PROJETOS_SOCIAIS_QUE_ANUNCIASSE',\n",
    "]\n",
    "\n",
    "df_metricas = df.copy()\n",
    "\n",
    "df_metricas = df_metricas[ pd.Series(cols) ]    \\\n",
    "    .melt(id_vars=['ID', 'CELEBRIDADE', 'FLIGHT' ],  value_name= 'VALOR', var_name='METRICA')     \\\n",
    "    .set_index(\"METRICA\")     \\\n",
    "    .join(meta)\n",
    "    \n",
    "df_metricas[\"TOP2\"] = np.where( df_metricas[\"VALOR\"] >= 6 , 1 , 0 )\n",
    "df_metricas[\"BOT2\"] = np.where( (df_metricas[\"VALOR\"] <= 2) & (df_metricas[\"VALOR\"] > 0) , 1 , 0 )\n",
    "\n",
    "del df_metricas[\"PERGUNTA\"]\n",
    "del df_metricas[\"COLUNA\"]\n",
    "\n",
    "df_metricas = df_metricas     \\\n",
    "        .set_index(['CELEBRIDADE','FLIGHT'])     \\\n",
    "        .join(df_awareness)     \\\n",
    "        .set_index(\"ID\")     \\\n",
    "        .join( df[ pd.Series([ \"FOTO_G\" , \"FOTO_M\" , \"FOTO_P\", 'CELEBRIDADE', 'FLIGHT' ]) ]  )\n",
    "\n",
    "# Criação dos cálculos de positivo geral e negativo geral e merge desses dados no arquivo VW_BASE_METRICAS\n",
    "df_metr1 = df_metricas.groupby(['CELEBRIDADE', 'FLIGHT', 'S', 'N', 'METRICA']).sum()\n",
    "df_metr1.head(10)\n",
    "\n",
    "df_metr1 = df_metr1.reset_index().set_index('CELEBRIDADE')\n",
    "\n",
    "# Cálculo do positivo por celebridade\n",
    "df_metr1['POSITIVO_G'] = df_metr1['TOP2']/df_metr1['S']\n",
    "\n",
    "# Cálculo do negativo por celebridade\n",
    "df_metr1['NEGATIVO_G'] = df_metr1['BOT2']/df_metr1['S']\n",
    "\n",
    "df_metr2 = df_metr1[['FLIGHT', 'METRICA', 'POSITIVO_G', 'NEGATIVO_G']]\n",
    "\n",
    "df_metr2 = df_metr2.groupby(['FLIGHT', 'METRICA']).mean().sort_index(ascending=False)"
   ]
  },
  {
   "cell_type": "code",
   "execution_count": 49,
   "metadata": {},
   "outputs": [
    {
     "data": {
      "text/plain": [
       "Int64Index([     1,      2,      3,      4,      5,      6,      7,      8,\n",
       "                 9,     10,\n",
       "            ...\n",
       "            214141, 214142, 214143, 214144, 214145, 214146, 214147, 214148,\n",
       "            214149, 214150],\n",
       "           dtype='int64', length=4925450)"
      ]
     },
     "execution_count": 49,
     "metadata": {},
     "output_type": "execute_result"
    }
   ],
   "source": [
    "# Join no df_metricas\n",
    "df_metricas = df_metricas.join(df_metr2, how='inner', on=['FLIGHT', 'METRICA'])\n",
    "df_metricas.index"
   ]
  },
  {
   "cell_type": "code",
   "execution_count": 50,
   "metadata": {},
   "outputs": [
    {
     "name": "stdout",
     "output_type": "stream",
     "text": [
      "Arquivo exportado\n"
     ]
    }
   ],
   "source": [
    "if OPT_GERAR_VW_BASE_METRICAS == 1:\n",
    "    \n",
    "    df_metricas = df_metricas.reset_index()    \n",
    "    df_metricas.rename( columns ={ \"index\" : \"ID\"}, inplace=True)    \n",
    "    df_metricas = df_metricas.set_index(\"ID\")\n",
    "    writeDF(df_metricas, 'VW_BASE_METRICAS')\n",
    "    #Arquivo para calcular o awareness de forma correta, separado por respondentes\n",
    "    writeDF(df_aw, 'VW_AW')\n",
    "    \n",
    "    print(\"Arquivo exportado\")"
   ]
  },
  {
   "cell_type": "markdown",
   "metadata": {},
   "source": [
    "-----"
   ]
  },
  {
   "cell_type": "markdown",
   "metadata": {},
   "source": [
    "<h3 style='color:purple'>VW_COMPARATIVO (passo-a-passo)</h3>"
   ]
  },
  {
   "cell_type": "code",
   "execution_count": 51,
   "metadata": {},
   "outputs": [],
   "source": [
    "#df_latest_flight = df.groupby('CELEBRIDADE').max()['FLIGHT'].reset_index().set_index(['CELEBRIDADE','FLIGHT'])"
   ]
  },
  {
   "cell_type": "code",
   "execution_count": 52,
   "metadata": {},
   "outputs": [],
   "source": [
    "#df_comp = df_metricas \\\n",
    "#    .join(df['AWARENESS'], rsuffix='_SN') "
   ]
  },
  {
   "cell_type": "code",
   "execution_count": 53,
   "metadata": {},
   "outputs": [],
   "source": [
    "#Visualização\n",
    "#df_comp[df_comp['CELEBRIDADE'] == 'Ana Vilela']"
   ]
  },
  {
   "cell_type": "code",
   "execution_count": 54,
   "metadata": {},
   "outputs": [],
   "source": [
    "#df_count_total = df \\\n",
    "#        .groupby(['FLIGHT','CELEBRIDADE'], as_index=False)['ID'] \\\n",
    "#        .count()\n",
    "#df_count_total.rename( columns ={ \"ID\": \"COUNT\"}, inplace=True)    \n",
    "#df_count_aw = df[ df['AWARENESS']==1 ] \\\n",
    "#        .groupby(['FLIGHT','CELEBRIDADE'], as_index=False)['ID'] \\\n",
    "#        .count()\n",
    "#df_count_aw.rename( columns ={ \"ID\": \"COUNT\"}, inplace=True)    "
   ]
  },
  {
   "cell_type": "code",
   "execution_count": 55,
   "metadata": {},
   "outputs": [],
   "source": [
    "#df_count = df_count_total \\\n",
    "#        .set_index(['FLIGHT','CELEBRIDADE']) \\\n",
    "#        .join(df_count_aw.set_index(['FLIGHT','CELEBRIDADE']), rsuffix='_AW')"
   ]
  },
  {
   "cell_type": "code",
   "execution_count": 56,
   "metadata": {},
   "outputs": [],
   "source": [
    "#Visualização\n",
    "#df_count.index"
   ]
  },
  {
   "cell_type": "code",
   "execution_count": 57,
   "metadata": {},
   "outputs": [],
   "source": [
    "#del df_count_total\n",
    "#del df_count_aw"
   ]
  },
  {
   "cell_type": "code",
   "execution_count": 58,
   "metadata": {},
   "outputs": [],
   "source": [
    "#df_comp[df_comp['CELEBRIDADE'] == 'Ana Vilela']"
   ]
  },
  {
   "cell_type": "code",
   "execution_count": 59,
   "metadata": {},
   "outputs": [],
   "source": [
    "#df_comp = df_comp[ df_comp['AWARENESS_SN'] == 1 ] \\\n",
    "#        .groupby(['FLIGHT','CELEBRIDADE', 'FOTO_M','FOTO_P','FOTO_G','AWARENESS', 'AWARENESS_NIVEL', 'CONSTRUCTO','METRICA'], as_index=False) \\\n",
    "#        .agg({ \"TOP2\" : \"sum\", \"BOT2\" : \"sum\" })"
   ]
  },
  {
   "cell_type": "code",
   "execution_count": 60,
   "metadata": {},
   "outputs": [],
   "source": [
    "#Visualização --> No passo acima algumas celebridades do flight 23 somem...\n",
    "#verificacao1 = df_comp[df_comp['FLIGHT'] == 23]"
   ]
  },
  {
   "cell_type": "code",
   "execution_count": 61,
   "metadata": {},
   "outputs": [],
   "source": [
    "#Visualização --> No passo acima algumas celebridades do flight 23 somem porque algumas das celebridades não têm as fotos,\n",
    "# aí ao fazer o groupby utilizando as colunas de fotos, e por estas estarem com valores NaN, as linhas somem.\n",
    "#verificacao1['CELEBRIDADE'].unique()"
   ]
  },
  {
   "cell_type": "code",
   "execution_count": 62,
   "metadata": {},
   "outputs": [],
   "source": [
    "#df_comp = df_comp \\\n",
    "#        .reset_index()  \\\n",
    "#        .set_index(['FLIGHT','CELEBRIDADE']) \\\n",
    "#        .join(df_count)"
   ]
  },
  {
   "cell_type": "code",
   "execution_count": 63,
   "metadata": {},
   "outputs": [],
   "source": [
    "#df_comp['TOP2'] = df_comp['TOP2'] / df_comp['COUNT_AW']\n",
    "#df_comp['BOT2'] = df_comp['BOT2'] / df_comp['COUNT_AW']"
   ]
  },
  {
   "cell_type": "code",
   "execution_count": 64,
   "metadata": {},
   "outputs": [],
   "source": [
    "#df_comp = df_comp \\\n",
    "#    .reset_index() \\\n",
    "#    .set_index(['CELEBRIDADE','FLIGHT']) \\\n",
    "#    .join( df_latest_flight, how='inner' )"
   ]
  },
  {
   "cell_type": "code",
   "execution_count": 65,
   "metadata": {},
   "outputs": [],
   "source": [
    "#df_comp = df_comp \\\n",
    "#    .reset_index() \\\n",
    "#    .set_index(['CONSTRUCTO','METRICA'])"
   ]
  },
  {
   "cell_type": "code",
   "execution_count": 66,
   "metadata": {},
   "outputs": [],
   "source": [
    "#del df_comp['COUNT']\n",
    "#del df_comp['COUNT_AW']"
   ]
  },
  {
   "cell_type": "code",
   "execution_count": 67,
   "metadata": {},
   "outputs": [],
   "source": [
    "#df_compf = df_comp.join(df_comp, lsuffix = '_1', rsuffix = '_2')"
   ]
  },
  {
   "cell_type": "markdown",
   "metadata": {},
   "source": [
    "<h3 style='color:blue'>11.3. VW_COMPARATIVO (FULL)</h3>"
   ]
  },
  {
   "cell_type": "code",
   "execution_count": 68,
   "metadata": {},
   "outputs": [],
   "source": [
    "# Comparativo pelo último flight (21)\n",
    "df_latest_flight = df.groupby('CELEBRIDADE').max()['FLIGHT'].reset_index().set_index(['CELEBRIDADE','FLIGHT'])\n",
    "\n",
    "df_comp = df_metricas \\\n",
    "    .join(df['AWARENESS'], rsuffix='_SN') \n",
    "\n",
    "df_count_total = df \\\n",
    "        .groupby(['FLIGHT','CELEBRIDADE'], as_index=False)['ID'] \\\n",
    "        .count()\n",
    "df_count_total.rename( columns ={ \"ID\": \"COUNT\"}, inplace=True)    \n",
    "df_count_aw = df[ df['AWARENESS']==1 ] \\\n",
    "        .groupby(['FLIGHT','CELEBRIDADE'], as_index=False)['ID'] \\\n",
    "        .count()\n",
    "df_count_aw.rename( columns ={ \"ID\": \"COUNT\"}, inplace=True)    \n",
    "\n",
    "df_count = df_count_total \\\n",
    "        .set_index(['FLIGHT','CELEBRIDADE']) \\\n",
    "        .join(df_count_aw.set_index(['FLIGHT','CELEBRIDADE']), rsuffix='_AW')\n",
    "\n",
    "del df_count_total\n",
    "del df_count_aw\n",
    "\n",
    "df_comp = df_comp[ df_comp['AWARENESS_SN'] == 1 ] \\\n",
    "        .groupby(['FLIGHT','CELEBRIDADE', 'FOTO_M','FOTO_P','FOTO_G','AWARENESS', 'AWARENESS_NIVEL', 'CONSTRUCTO','METRICA'], as_index=False) \\\n",
    "        .agg({ \"TOP2\" : \"sum\", \"BOT2\" : \"sum\" })\n",
    "\n",
    "df_comp = df_comp \\\n",
    "        .reset_index()  \\\n",
    "        .set_index(['FLIGHT','CELEBRIDADE']) \\\n",
    "        .join(df_count)\n",
    "\n",
    "df_comp['TOP2'] = df_comp['TOP2'] / df_comp['COUNT_AW']\n",
    "df_comp['BOT2'] = df_comp['BOT2'] / df_comp['COUNT_AW']\n",
    "\n",
    "df_comp = df_comp \\\n",
    "    .reset_index() \\\n",
    "    .set_index(['CELEBRIDADE','FLIGHT']) \\\n",
    "    .join( df_latest_flight, how='inner' )\n",
    "\n",
    "df_comp = df_comp \\\n",
    "    .reset_index() \\\n",
    "    .set_index(['CONSTRUCTO','METRICA'])\n",
    "\n",
    "del df_comp['COUNT']\n",
    "del df_comp['COUNT_AW']\n",
    "\n",
    "df_compf = df_comp.join(df_comp, lsuffix = '_1', rsuffix = '_2')"
   ]
  },
  {
   "cell_type": "code",
   "execution_count": 69,
   "metadata": {},
   "outputs": [
    {
     "name": "stdout",
     "output_type": "stream",
     "text": [
      "Arquivo exportado\n"
     ]
    }
   ],
   "source": [
    "if OPT_GERAR_VW_COMP == 1:\n",
    "    \n",
    "    writeDF(df_compf, 'VW_COMPARATIVO')\n",
    "    \n",
    "    print(\"Arquivo exportado\")"
   ]
  },
  {
   "cell_type": "markdown",
   "metadata": {},
   "source": [
    "---"
   ]
  },
  {
   "cell_type": "markdown",
   "metadata": {},
   "source": [
    "<h2 style='color:orange'>12. Verificação - Diversos</h2>"
   ]
  },
  {
   "cell_type": "markdown",
   "metadata": {},
   "source": [
    "<h4 style='color:orange'>(Verificação) Pegar somente a quantidade de 'S' de cada 'CELEBRIDADE':</h4>"
   ]
  },
  {
   "cell_type": "code",
   "execution_count": 70,
   "metadata": {
    "scrolled": true
   },
   "outputs": [
    {
     "name": "stdout",
     "output_type": "stream",
     "text": [
      "MultiIndex(levels=[['Adele', 'Adriana Esteves', 'Adriana Lima', 'Adriane Galisteu', 'Agatha Moreira', 'Alessandra Ambrosio', 'Alessandra Negrini', 'Alexandre (Aviões)', 'Alexandre Borges', 'Alexandre Nero', 'Alice Wegmann', 'Alicia Keys', 'Aline Riscado', 'Alinne Moraes', 'Alinne Rosa', 'Alisson Becker', 'Amaury Jr', 'Ana Clara', 'Ana Hickmann', 'Ana Maria Braga', 'Ana Paula Furtado', 'Ana Paula Padrão', 'Ana Vilela', 'AnaVitória', 'Anderson Silva', 'Andréia Horta', 'Anelis Assumpção', 'Angélica', 'Anitta', 'Antonio Fagundes', 'Aracy Balabanian', 'Arthur Aguiar', 'Baco Exu do Blues', 'Bela Gil', 'Bella Falconi', 'Bernardinho', 'Beyoncé', 'Bia e Branca', 'Bianca Bin', 'Brad Pitt', 'Bruna Hamu', 'Bruna Linzmeyer', 'Bruna Marquezine', 'Bruninho', 'Bruninho e Davi', 'Bruno Cabrerizo', 'Bruno Ferrari', 'Bruno Gagliasso', 'Bruno Gissoni', 'Bruno Vicari', 'Cacau Protásio', 'Caio Blat', 'Caio Castro', 'Caio Paduan', 'Camila Pitanga', 'Camila Queiroz', 'Carla Diaz', 'Carla Salle', 'Carlinhos Brown', 'Carlos Bertolazzi', 'Carlos Nascimento', 'Carmo Dalla Vecchia', 'Carol Castro', 'Carol Fiorentino', 'Carol Nakamura', 'Carolina Dieckmann', 'Carolina Ferraz', 'Casemiro', 'Cassius Zeilmann', 'Cauã Reymond', 'Celso Portiolli', 'Chandelly Braz', 'Chay Suede', 'Chris Flores', 'Christiane Torloni', 'Christina Rocha', 'Cissa Guimarães', 'Claudia Abreu', 'Claudia Leitte', 'Claudia Ohana', 'Cláudia Abreu', 'Cláudia Raia', 'Cléo Pires', 'Cris Vianna', 'Cristiano Ronaldo', 'Dan Stulbach', 'Dani Calabresa', 'Daniel Alves', 'Daniel Boaventura', 'Daniel Rocha', 'Daniel de Oliveira', 'Daniela Mercury', 'Daniele Hypólito', 'Daniele Suzuki', 'Danilo Gentili', 'David Luiz', 'Deborah Secco', 'Di Ferrero', 'Dira Paes', 'Du Moscovis', 'Duda Nagle', 'Dudu Camargo', 'Débora Falabella', 'Débora Nascimento', 'Edson Celulari', 'Eliana', 'Eliane Giardini', 'Ellen Rocche', 'Emicida', 'Emilio Dantas', 'Eriberto Leão', 'Erika Januza', 'Evaristo Costa', 'Fabio Porchat', 'Fabrício Boliveira', 'Faustão', 'Felipe Andreoli', 'Felipe Simas', 'Felipe Titto', 'Fernanda Garay', 'Fernanda Gentil', 'Fernanda Lima', 'Fernanda Montenegro', 'Fernanda Paes Leme', 'Fernanda Souza', 'Fernanda Torres', 'Fernanda Vasconcellos', 'Fernanda de Freitas', 'Fiorella Mattheis', 'Fiuk', 'Flávia Alessandra', 'Flávio Canto', 'Francisco Cuoco', 'Fábio Assunção', 'Fátima Bernardes', 'Gabriel Barbosa (Gabigol)', 'Gabriel Braga Nunes', 'Gabriel Jesus', 'Gabriel Leone', 'Gabriel Medina', 'Gabriela Duarte', 'Gabriela Pugliesi', 'George Clooney', 'Geraldo Luís', 'Gerard Piqué', 'Giba', 'Giovanna Antonelli', 'Giovanna Ewbank', 'Giovanna Lancellotti', 'Gisele Bündchen', 'Glória Pires', 'Grazi Massafera', 'Guga', 'Gugu', 'Guilherme Leicam', 'Gustavo Borges', 'Gusttavo Lima', 'Helen Ganzarolli', 'Henri Castelli', 'Henrique & Juliano', 'Henrique Fogaça', 'Hugo Gloss', 'Humberto Carrão', 'Humberto Martins', 'IZA', 'Ingrid Guimarães', 'Isabeli Fontana', 'Isabella Fiorentino', 'Isabella Santoni', 'Isabelle Drummond', 'Isis Valverde', 'Ivete Sangalo', 'Izabel Goulart', 'Jacqueline Sato', 'Jaqueline (Volei)', 'Jayme Matarazzo', 'Jennifer Lopez', 'Jorge e Mateus', 'Joseval Peixoto', 'José Loreto', 'José Mayer', 'José de Abreu', 'João Baldasserini', 'João Côrtes', 'João Neto e Frederico', 'João Vicente de Castro', 'Juliana Paes', 'Juliana Paiva', 'Julianne Trevisol', 'Juliano Cazarré', 'Junior Cigano', 'Jô (jogador)', 'Jô Soares', 'Júlia Rabello', 'Karina Bacchi', 'Karol Conka', 'Katy Perry', 'Klebber Toledo', 'Kéfera Buchmann', 'Larissa Manoela', 'Laura Neiva', 'Lazaro Ramos', 'Leandro Hassum', 'Leonardo DiCaprio', 'Leticia Lima', 'Letícia Bufoni', 'Letícia Colin', 'Letícia Spiller', 'Lilia Cabral', 'Livia Andrade', 'Luan Santana', 'Lucas Lucco', 'Lucas Moura', 'Luciano Huck', 'Ludmilla', 'Luisa Arraes', 'Luiz Felipe Fonteles', 'Luiza Brunet', 'Luiza Possi', 'Lulu Santos', 'Luísa Sonza', 'Léo Dias', 'Léo Santana', 'Lília Cabral', 'Maiara & Maraisa', 'Malu Mader', 'Malvino Salvador', 'Manu Gavassi', 'Marcello Melo Jr.', 'Marcello Novaes', 'Marcelo', 'Marcelo Adnet', 'Marcelo Médici', 'Marcelo Serrado', 'Marcio Atalla', 'Marco Luque', 'Marco Pigossi', 'Marcos Mion', 'Marcos Pitombo', 'Marcos Veras', 'Marcos e Belutti', 'Marcão do Povo', 'Maria Casadevall', 'Maria Clara Gueiros', 'Maria Fernanda Cândido', 'Maria Ribeiro', 'Mariana Ferrão', 'Mariana Godoy', 'Mariana Rios', 'Mariana Xavier', 'Mariana Ximenes', 'Marieta Severo', 'Marina Ruy Barbosa', 'Marisa Orth', 'Marjorie Estiano', 'Marquinhos', 'Marta', 'Marília Gabriela', 'Marília Mendonça', 'Mateus Solano', 'Matheus e Kauan', 'Maya Gabeira', 'Messi', 'Michael Phelps', 'Michel Teló', 'Miranda', 'Monica Iozzi', 'Murilo Benicio', 'Márcio Garcia', 'Mário Frias', 'Nadja Haddad', 'Naiara Azevedo', 'Nanda Costa', 'Nathalia Dill', 'Nego do Borel', 'Neymar', 'Nicolas Prattes', 'Nikolas Antunes', 'Odilon Wagner', 'Otaviano Costa', 'Pabllo Vittar', 'Paloma Bernardi', 'Paola Carosella', 'Paolla Oliveira', 'Patricia Pillar', 'Patrícia Abravanel', 'Patrícia Poeta', 'Paulinho', 'Paulo Gustavo', 'Paulo Henrique Ganso', 'Paulo Miklos', 'Pedro Bial', 'Philippe Coutinho', 'Preta Gil', 'Priscila Fantin', 'Pâmela Tomé', 'Rachel Sheherazade', 'Rafa Brites', 'Rafael Cardoso', 'Rafael Nadal', 'Rafael Vitti', 'Ratinho', 'Raul Gil', 'Rebeca Abravanel', 'Regina Casé', 'Regina Duarte', 'Renato Augusto', 'Reynaldo Gianecchini', 'Ricardo Amorim', 'Ricardo Pereira', 'Ricardo Tozzi', 'Rick Bonadio', 'Roberta Rodrigues', 'Roberto Cabrini', 'Roberto Justus', 'Rodrigo Faro', 'Rodrigo Hilbert', 'Rodrigo Lombardi', 'Rodrigo Santoro', 'Rodrigo Simas', 'Roger Federer', 'Ronaldinho Gaúcho', 'Ronaldo', 'Rouge', 'Roupa Nova', 'Rômulo Arantes Neto', 'Rômulo Estrela', 'Sabrina Petraglia', 'Sabrina Sato', 'Sandy', 'Sasha Meneghel', 'Selton Mello', 'Serginho (Vôlei)', 'Serginho Groisman', 'Shakira', 'Sheron Menezzes', 'Sidney Oliveira', 'Silvia Abravanel', 'Simone & Simaria', 'Solange Almeida', 'Sophia Abrahão', 'Sophie Charlotte', 'Susana Vieira', 'Sérgio Guizé', 'Sérgio Malheiros', 'Sérgio Sette Câmara', 'Tadeu Schmidt', 'Tainá Muller', 'Tarcísio Meira', 'Tatá Werneck', 'Taís Araújo', 'Thaila Ayala', 'Thaís Fersoza', 'Thiago Braz', 'Thiago Fragoso', 'Thiago Lacerda', 'Thiago Martins', 'Thiaguinho', 'Tiago Iorc', 'Tiago Leifert', 'Ticiana Villas Boas', 'Tite', 'Tom Cavalcante', 'Tony Ramos', 'Totia Meireles', 'Usain Bolt', 'Vanessa Giácomo', 'Vera Holtz', 'Victor e Leo', 'Vitória Strada', 'Vladimir Brichta', 'Wagner Moura', 'Wanessa', 'Wesley Safadão', 'Xuxa', 'Yanna Lavigne', 'Zezé Di Camargo', 'Zezé Di Camargo e Luciano', 'Zizi Possi', 'Zé Neto & Cristiano', 'Érick Jacquin'], [15, 16, 17, 18, 19, 20, 21, 22, 23]],\n",
      "           labels=[[0, 1, 1, 1, 2, 3, 3, 4, 4, 4, 4, 4, 4, 4, 5, 5, 6, 6, 6, 7, 7, 8, 8, 9, 9, 9, 9, 9, 9, 10, 10, 10, 10, 11, 12, 13, 13, 13, 14, 15, 16, 17, 18, 18, 18, 18, 18, 19, 19, 19, 19, 20, 20, 20, 20, 20, 21, 21, 22, 23, 24, 25, 25, 25, 25, 26, 27, 27, 27, 27, 27, 27, 27, 28, 28, 28, 28, 28, 28, 28, 28, 28, 29, 30, 31, 31, 32, 33, 33, 34, 35, 35, 35, 35, 35, 35, 36, 37, 38, 38, 38, 39, 40, 41, 41, 42, 42, 42, 42, 42, 42, 42, 42, 42, 43, 44, 44, 45, 46, 47, 47, 47, 47, 47, 47, 47, 47, 48, 49, 50, 51, 51, 52, 52, 52, 52, 52, 52, 53, 53, 53, 54, 54, 55, 55, 55, 55, 55, 55, 56, 57, 58, 58, 58, 58, 59, 59, 59, 59, 59, 59, 59, 59, 60, 60, 60, 60, 60, 60, 61, 62, 63, 63, 64, 65, 66, 67, 68, 69, 69, 69, 69, 69, 70, 70, 70, 70, 70, 70, 70, 70, 70, 71, 72, 72, 72, 72, 73, 73, 73, 73, 73, 73, 73, 74, 75, 76, 77, 78, 78, 78, 78, 78, 78, 78, 78, 78, 79, 80, 80, 81, 81, 81, 81, 81, 82, 82, 82, 82, 82, 82, 83, 83, 84, 84, 84, 85, 86, 87, 87, 87, 87, 88, 89, 90, 90, 90, 91, 91, 92, 93, 94, 94, 94, 94, 94, 94, 94, 94, 95, 95, 96, 96, 96, 96, 97, 98, 99, 100, 101, 101, 101, 102, 102, 102, 103, 103, 103, 103, 103, 104, 104, 104, 105, 105, 105, 105, 105, 105, 105, 105, 105, 106, 107, 108, 109, 109, 109, 110, 111, 112, 112, 112, 113, 113, 113, 113, 113, 114, 115, 115, 115, 115, 115, 116, 117, 118, 118, 118, 119, 120, 120, 121, 121, 121, 121, 121, 121, 122, 123, 123, 123, 123, 123, 124, 124, 124, 124, 124, 124, 124, 125, 125, 125, 126, 127, 128, 129, 130, 130, 131, 132, 133, 134, 134, 134, 134, 134, 134, 134, 134, 135, 136, 137, 137, 137, 137, 138, 139, 139, 139, 140, 141, 141, 142, 143, 143, 143, 143, 143, 143, 144, 145, 145, 146, 146, 146, 146, 146, 146, 146, 146, 146, 147, 147, 147, 147, 147, 147, 147, 148, 148, 148, 148, 149, 149, 149, 149, 149, 149, 149, 149, 149, 150, 150, 150, 150, 151, 151, 151, 151, 151, 151, 151, 151, 152, 152, 152, 153, 153, 153, 153, 153, 154, 155, 156, 156, 156, 156, 157, 157, 158, 158, 158, 159, 159, 159, 160, 160, 160, 161, 161, 162, 163, 164, 164, 164, 165, 165, 165, 166, 166, 167, 167, 168, 168, 168, 168, 169, 169, 169, 169, 170, 170, 170, 170, 170, 170, 170, 171, 171, 171, 171, 171, 171, 171, 171, 171, 172, 173, 174, 175, 175, 175, 175, 176, 177, 177, 178, 179, 179, 179, 180, 180, 180, 181, 182, 183, 184, 185, 185, 185, 186, 186, 186, 186, 187, 187, 188, 189, 189, 190, 191, 192, 192, 193, 194, 195, 195, 195, 195, 195, 195, 196, 197, 197, 197, 197, 197, 197, 198, 198, 199, 200, 201, 201, 201, 201, 201, 202, 203, 204, 205, 206, 206, 207, 207, 207, 207, 208, 209, 209, 210, 210, 210, 210, 210, 210, 211, 211, 212, 213, 213, 213, 213, 213, 213, 213, 214, 214, 214, 214, 215, 216, 217, 218, 219, 219, 220, 221, 222, 223, 223, 223, 224, 224, 224, 224, 224, 225, 225, 226, 226, 226, 226, 226, 226, 227, 228, 229, 229, 229, 230, 231, 231, 231, 231, 231, 232, 233, 233, 234, 234, 234, 234, 235, 236, 236, 236, 236, 236, 237, 238, 239, 239, 240, 240, 241, 241, 242, 242, 243, 244, 244, 245, 246, 247, 248, 249, 250, 250, 250, 250, 250, 251, 251, 251, 252, 252, 252, 252, 252, 252, 252, 253, 253, 254, 254, 255, 256, 256, 257, 257, 257, 258, 258, 258, 258, 258, 258, 259, 259, 259, 259, 259, 260, 260, 260, 261, 262, 262, 263, 264, 264, 264, 264, 264, 265, 266, 266, 266, 266, 266, 267, 268, 268, 268, 268, 268, 269, 270, 270, 271, 272, 272, 273, 273, 273, 273, 273, 274, 274, 275, 275, 275, 275, 275, 275, 275, 276, 277, 278, 278, 279, 279, 279, 280, 280, 280, 281, 281, 282, 282, 282, 283, 283, 283, 283, 283, 283, 284, 284, 285, 285, 285, 285, 285, 285, 285, 285, 286, 286, 286, 287, 287, 288, 289, 290, 291, 292, 293, 293, 293, 294, 295, 296, 296, 296, 296, 297, 298, 298, 298, 298, 298, 299, 300, 301, 301, 301, 301, 301, 301, 301, 301, 302, 302, 303, 303, 303, 303, 304, 304, 305, 305, 306, 307, 307, 307, 307, 308, 309, 310, 311, 312, 313, 313, 313, 313, 313, 313, 313, 314, 315, 315, 315, 315, 315, 315, 315, 315, 315, 316, 316, 316, 316, 317, 317, 317, 317, 317, 318, 319, 320, 320, 321, 322, 322, 323, 324, 324, 324, 325, 326, 326, 327, 328, 328, 328, 328, 328, 328, 328, 328, 328, 329, 329, 329, 330, 331, 331, 332, 333, 334, 335, 336, 337, 337, 337, 337, 338, 338, 338, 338, 338, 338, 339, 339, 340, 340, 340, 340, 340, 341, 341, 341, 342, 342, 342, 343, 343, 343, 344, 345, 346, 347, 348, 348, 349, 349, 349, 349, 349, 349, 349, 349, 349, 350, 350, 350, 350, 350, 350, 351, 351, 352, 353, 354, 354, 355, 355, 355, 355, 356, 356, 357, 357, 357, 358, 358, 359, 359, 359, 359, 359, 359, 360, 360, 360, 360, 361, 361, 361, 362, 363, 363, 363, 363, 364, 365, 366, 366, 366, 367, 368, 368, 369, 369, 370, 370, 370, 370, 371, 372, 372, 372, 372, 372, 373, 373, 373, 373, 373, 373, 374, 374, 374, 374, 374, 374, 375, 375, 376, 377, 377, 378, 379, 379, 380, 380], [6, 3, 7, 8, 7, 5, 7, 0, 1, 2, 4, 5, 6, 7, 1, 7, 6, 7, 8, 4, 6, 1, 2, 0, 1, 2, 3, 6, 7, 0, 2, 3, 7, 6, 3, 3, 4, 8, 2, 6, 3, 8, 0, 1, 2, 6, 7, 0, 1, 2, 4, 2, 3, 4, 5, 6, 3, 5, 8, 3, 0, 1, 4, 5, 6, 8, 0, 1, 2, 4, 6, 7, 8, 0, 1, 2, 3, 4, 5, 6, 7, 8, 1, 2, 5, 8, 8, 0, 6, 8, 0, 2, 3, 4, 5, 6, 6, 4, 0, 5, 6, 6, 0, 4, 5, 0, 1, 2, 3, 4, 5, 6, 7, 8, 3, 3, 8, 6, 1, 0, 1, 2, 3, 4, 5, 6, 7, 3, 8, 7, 1, 8, 2, 3, 4, 5, 6, 8, 3, 5, 6, 0, 1, 0, 1, 4, 6, 7, 8, 5, 8, 0, 2, 5, 6, 1, 2, 3, 4, 5, 6, 7, 8, 2, 3, 4, 6, 7, 8, 0, 7, 5, 6, 2, 0, 1, 6, 6, 0, 3, 4, 5, 6, 0, 1, 2, 3, 4, 5, 6, 7, 8, 7, 1, 2, 5, 8, 2, 3, 4, 5, 6, 7, 8, 1, 7, 3, 8, 0, 1, 2, 3, 4, 5, 6, 7, 8, 2, 1, 2, 2, 3, 5, 6, 8, 0, 1, 2, 4, 6, 7, 0, 4, 3, 5, 6, 5, 0, 4, 6, 7, 8, 1, 0, 2, 4, 8, 6, 7, 5, 1, 1, 2, 3, 4, 5, 6, 7, 8, 5, 6, 0, 6, 7, 8, 2, 1, 8, 7, 6, 7, 8, 2, 4, 5, 0, 1, 4, 5, 6, 1, 3, 5, 0, 1, 2, 3, 4, 5, 6, 7, 8, 6, 1, 2, 4, 7, 8, 6, 6, 6, 7, 8, 0, 2, 6, 7, 8, 7, 0, 1, 2, 3, 5, 3, 0, 1, 4, 6, 8, 3, 7, 0, 1, 3, 4, 5, 8, 5, 0, 1, 2, 6, 7, 0, 2, 3, 4, 5, 6, 7, 5, 6, 7, 1, 1, 4, 4, 0, 1, 6, 2, 7, 0, 1, 3, 4, 5, 6, 7, 8, 8, 5, 3, 4, 6, 8, 7, 3, 4, 6, 6, 0, 1, 6, 1, 2, 3, 4, 5, 6, 5, 0, 5, 0, 1, 2, 3, 4, 5, 6, 7, 8, 0, 3, 4, 5, 6, 7, 8, 0, 1, 2, 6, 0, 1, 2, 3, 4, 5, 6, 7, 8, 0, 3, 5, 6, 0, 2, 3, 4, 5, 6, 7, 8, 0, 3, 4, 0, 1, 2, 3, 4, 4, 4, 1, 4, 6, 7, 7, 8, 1, 2, 6, 2, 5, 7, 5, 6, 7, 0, 1, 2, 5, 6, 7, 8, 1, 6, 8, 3, 7, 7, 8, 0, 1, 2, 6, 0, 2, 4, 5, 0, 3, 4, 5, 6, 7, 8, 0, 1, 2, 3, 4, 5, 6, 7, 8, 7, 2, 3, 1, 2, 4, 6, 6, 5, 8, 2, 1, 3, 4, 2, 3, 4, 7, 1, 2, 6, 4, 6, 8, 0, 3, 4, 5, 0, 8, 0, 0, 5, 2, 5, 0, 1, 2, 7, 3, 4, 5, 6, 7, 8, 6, 0, 1, 5, 6, 7, 8, 0, 8, 3, 7, 0, 1, 4, 6, 7, 1, 6, 0, 6, 5, 8, 1, 2, 3, 6, 8, 7, 8, 2, 4, 5, 6, 7, 8, 1, 6, 8, 0, 1, 3, 4, 5, 6, 8, 3, 4, 6, 7, 8, 8, 1, 1, 2, 8, 8, 8, 8, 1, 3, 5, 1, 2, 4, 5, 7, 1, 2, 1, 2, 5, 6, 7, 8, 7, 1, 2, 5, 6, 6, 0, 1, 2, 3, 8, 1, 4, 6, 2, 3, 5, 6, 7, 0, 4, 5, 7, 8, 1, 1, 3, 6, 4, 8, 6, 7, 0, 4, 1, 4, 5, 7, 7, 6, 0, 5, 0, 1, 2, 3, 7, 5, 6, 7, 0, 3, 4, 5, 6, 7, 8, 1, 2, 0, 8, 6, 3, 8, 3, 5, 8, 2, 4, 5, 6, 7, 8, 0, 1, 3, 4, 5, 3, 5, 6, 3, 3, 6, 2, 0, 2, 4, 5, 8, 6, 0, 1, 3, 4, 8, 2, 2, 3, 4, 5, 6, 6, 7, 8, 4, 4, 8, 0, 1, 3, 6, 7, 5, 6, 0, 1, 2, 3, 4, 5, 6, 8, 1, 5, 8, 0, 1, 3, 5, 6, 7, 2, 8, 5, 7, 8, 2, 3, 4, 5, 6, 7, 0, 7, 1, 2, 3, 4, 5, 6, 7, 8, 4, 6, 7, 5, 6, 4, 8, 2, 6, 6, 4, 6, 7, 0, 7, 1, 6, 7, 8, 3, 1, 2, 3, 5, 6, 5, 3, 1, 2, 3, 4, 5, 6, 7, 8, 3, 4, 5, 6, 7, 8, 1, 2, 1, 2, 6, 0, 1, 2, 3, 5, 7, 6, 2, 0, 2, 3, 4, 5, 6, 7, 8, 1, 0, 1, 2, 3, 4, 5, 6, 7, 8, 3, 5, 6, 7, 0, 3, 4, 5, 7, 0, 6, 4, 6, 8, 3, 7, 7, 0, 1, 2, 0, 6, 7, 7, 0, 1, 2, 3, 4, 5, 6, 7, 8, 3, 4, 8, 7, 0, 8, 4, 6, 6, 1, 6, 5, 6, 7, 8, 3, 4, 5, 6, 7, 8, 6, 7, 0, 1, 3, 6, 8, 0, 4, 7, 0, 4, 8, 0, 5, 6, 7, 6, 8, 5, 1, 2, 0, 1, 2, 3, 4, 5, 6, 7, 8, 0, 1, 3, 4, 6, 7, 0, 1, 4, 2, 4, 6, 1, 2, 6, 7, 4, 8, 4, 6, 7, 3, 4, 0, 2, 3, 5, 6, 8, 1, 2, 3, 4, 3, 4, 6, 2, 0, 3, 4, 6, 5, 2, 0, 4, 5, 3, 0, 3, 6, 8, 3, 5, 7, 8, 6, 2, 3, 4, 6, 7, 0, 1, 3, 4, 5, 8, 0, 1, 4, 6, 7, 8, 1, 8, 6, 3, 8, 7, 2, 7, 5, 7]],\n",
      "           names=['CELEBRIDADE', 'FLIGHT'])\n"
     ]
    }
   ],
   "source": [
    "idc = df_awareness.index\n",
    "print(idc)"
   ]
  },
  {
   "cell_type": "code",
   "execution_count": 71,
   "metadata": {},
   "outputs": [
    {
     "name": "stdout",
     "output_type": "stream",
     "text": [
      "AW                           N    S  AWARENESS AWARENESS_NIVEL\n",
      "CELEBRIDADE        FLIGHT                                     \n",
      "Alessandra Negrini 21       69  144   0.676056           Baixo\n",
      "                   22      101  129   0.560870           Baixo\n",
      "                   23      103  139   0.574380           Baixo\n"
     ]
    }
   ],
   "source": [
    "print(df_awareness.loc[['Alessandra Negrini', '21']])"
   ]
  },
  {
   "cell_type": "markdown",
   "metadata": {},
   "source": [
    "---"
   ]
  }
 ],
 "metadata": {
  "kernelspec": {
   "display_name": "Python 3",
   "language": "python",
   "name": "python3"
  },
  "language_info": {
   "codemirror_mode": {
    "name": "ipython",
    "version": 3
   },
   "file_extension": ".py",
   "mimetype": "text/x-python",
   "name": "python",
   "nbconvert_exporter": "python",
   "pygments_lexer": "ipython3",
   "version": "3.6.5"
  }
 },
 "nbformat": 4,
 "nbformat_minor": 2
}
