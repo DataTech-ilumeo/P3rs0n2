{
 "cells": [
  {
   "cell_type": "markdown",
   "metadata": {},
   "source": [
    "<h1>Persona - Série Histórica</h1>"
   ]
  },
  {
   "cell_type": "markdown",
   "metadata": {},
   "source": [
    "<h2>Leitura do arquivo de texto</h2>"
   ]
  },
  {
   "cell_type": "markdown",
   "metadata": {},
   "source": [
    "Primeiro é necessário importar as bibliotecas:"
   ]
  },
  {
   "cell_type": "code",
   "execution_count": 1,
   "metadata": {},
   "outputs": [],
   "source": [
    "import numpy as np\n",
    "import pandas as pd"
   ]
  },
  {
   "cell_type": "markdown",
   "metadata": {},
   "source": [
    "Cria as variáveis para no futuro criar os \"txt\" finais, que serão importados no SQL Server:"
   ]
  },
  {
   "cell_type": "code",
   "execution_count": 2,
   "metadata": {},
   "outputs": [],
   "source": [
    "# Mudar para 1 quando for gerar as bases\n",
    "\n",
    "OPT_GERAR_VW_BASE = 0\n",
    "OPT_GERAR_VW_BASE_METRICAS = 0\n",
    "OPT_GERAR_VW_COMP = 0\n",
    "OPT_GERAR_VW_METRICAS_LP = 0"
   ]
  },
  {
   "cell_type": "markdown",
   "metadata": {},
   "source": [
    "Cria uma variável que será usada para o caminho da pasta raíz do projeto; um atalho para buscar os próximos arquivos:"
   ]
  },
  {
   "cell_type": "code",
   "execution_count": 3,
   "metadata": {},
   "outputs": [],
   "source": [
    "# Se houver acentuação incorrerá em erro\n",
    "PATH = r'C:\\Users\\Kevin Nakasaki\\Documents\\KEVIN\\DT_PROJETOS\\PERSONA - SERIE HISTORICA\\Importacao'"
   ]
  },
  {
   "cell_type": "markdown",
   "metadata": {},
   "source": [
    "## Início de tratamento da BASE"
   ]
  },
  {
   "cell_type": "markdown",
   "metadata": {},
   "source": [
    "Lê o \"txt\" SERIE_HISTORICA_v2 e o aloca na variável \"df\":"
   ]
  },
  {
   "cell_type": "code",
   "execution_count": 4,
   "metadata": {
    "scrolled": false
   },
   "outputs": [],
   "source": [
    "# Se houver acentuação incorrerá em erro\n",
    "df = pd.read_csv(PATH + '\\SERIE_HISTORICA_v2.txt', sep='\\t', encoding= 'ISO-8859-1')\n",
    "\n",
    "#df = pd.read_csv(r'/Users/damorim/Documents/Notebooks/SERIE_HISTORICA.txt', sep='\\t', encoding= 'ISO-8859-1')"
   ]
  },
  {
   "cell_type": "markdown",
   "metadata": {},
   "source": [
    "Exceção para verificar se existem todas as colunas no DataFrame e deletar a coluna 'IP'.\n",
    "Se retornar um erro, o bloco de código passa sem executar nada:"
   ]
  },
  {
   "cell_type": "code",
   "execution_count": 5,
   "metadata": {},
   "outputs": [],
   "source": [
    "try:\n",
    "    df = df[pd.Series(['ID', 'FLIGHT', 'CELEBRIDADE', 'ESTADO', 'IDADE', 'ESTADO_CIVIL',\n",
    "       'TEM_FILHOS', 'RENDA', 'ESCOLARIDADE', 'SEXO', 'AWARENESS', 'NOME',\n",
    "       'OPINIAO', 'LEMBRANCA_DE_MARCA', 'GOSTO_MUITO', 'ME_IDENTIFICO',\n",
    "       'TENHO_RESPEITO', 'PRESTO_ATENCAO', 'CONFIO',\n",
    "       'MUITO_BOM_NAQUILO_QUE_FAZ', 'INTELIGENTE', 'DETERMINADO', 'HONESTO',\n",
    "       'ENGRAÇADO', 'LINDO', 'SEDUTOR', 'DO_POVO', 'CARA_DO_BRASIL',\n",
    "       'INOVADOR', 'GOSTA_DE_DESAFIOS', 'TENHO_VISTO_NA_MIDIA',\n",
    "       'BOA_PARA_PROPAGANDA', 'COMPRARIA_PRODUTOS_QUE_ANUNCIASSE',\n",
    "       'BOA_PARA_PROPAGANDA_PROJETOS_SOCIAIS',\n",
    "       'ME_ENVOLVERIA_COM_PROJETOS_SOCIAIS_QUE_ANUNCIASSE',\n",
    "       'INDICARIA_PARA_AMIGOS_MARCAS',\n",
    "       'COMENTARIA_COM_AMIGOS_PROJETOS_SOCIAIS_QUE_ANUNCIASSE'])]\n",
    "\n",
    "    del df[\"IP\"]\n",
    "except:\n",
    "    pass"
   ]
  },
  {
   "cell_type": "markdown",
   "metadata": {},
   "source": [
    "Cria um item no DataFrame 'df' chamado 'IX' e o configura para ser igual ao 'ID'. Em seguida o configura para ser o índice do dicionário:"
   ]
  },
  {
   "cell_type": "code",
   "execution_count": 6,
   "metadata": {},
   "outputs": [],
   "source": [
    "df[\"IX\"] = df[\"ID\"]\n",
    "df = df.set_index(\"IX\")"
   ]
  },
  {
   "cell_type": "markdown",
   "metadata": {},
   "source": [
    "---"
   ]
  },
  {
   "cell_type": "markdown",
   "metadata": {},
   "source": [
    "Define a função 'loadDF' que têm três argumentos:\n",
    "- file = nome do arquivo\n",
    "- enc = tipo de codificação (por padrão é 'utf-8')\n",
    "- sep = tipo do separador dos valores no arquivo (por padrão é ',')\n",
    "\n",
    "A função lê o arquivo (precisa ser \"txt\") e o aloca na variável em que for chamado:"
   ]
  },
  {
   "cell_type": "code",
   "execution_count": 7,
   "metadata": {},
   "outputs": [],
   "source": [
    "def loadDF(file, enc=\"UTF-8\", sep=','): return pd.read_csv(PATH+ r'\\{0}.txt'.format(file), encoding=enc, sep=sep)\n",
    "\n",
    "#def loadDF(file): return pd.read_csv(r'/Users/damorim/Documents/Notebooks/{0}.txt'.format(file), encoding=\"UTF-8\", sep=\",\")"
   ]
  },
  {
   "cell_type": "markdown",
   "metadata": {},
   "source": [
    "Define a função 'writeDF' que têm quatro argumentos:\n",
    "- dfr = nome do DataFrame ('df' alguma coisa) que é definido nesse script\n",
    "- file = nome do arquivo \"txt\" em que o DataFrame vai ser escrito\n",
    "- enc = tipo de codificação (por padrão é 'utf-8')\n",
    "- sep = tipo do separador dos valores no arquivo (por padrão é ',')\n",
    "\n",
    "A função escreve o DataFrame criado no python em um arquivo \"txt\":"
   ]
  },
  {
   "cell_type": "code",
   "execution_count": 8,
   "metadata": {},
   "outputs": [],
   "source": [
    "def writeDF(dfr, file, enc=\"UTF-8\", sep=','): return dfr.to_csv(PATH+ r'\\{0}.txt'.format(file), header=True, encoding=enc, sep=\",\", float_format=\"%.3f\")"
   ]
  },
  {
   "cell_type": "markdown",
   "metadata": {},
   "source": [
    "## Início de tratamento do METADADOS"
   ]
  },
  {
   "cell_type": "code",
   "execution_count": 9,
   "metadata": {},
   "outputs": [],
   "source": [
    "meta = loadDF(\"METADADOS\", enc=\"UTF-8\")\n",
    "meta[\"COLUNA2\"] = meta[\"COLUNA\"]\n",
    "meta = meta.set_index(\"COLUNA2\")"
   ]
  },
  {
   "cell_type": "markdown",
   "metadata": {},
   "source": [
    "## Início de tratamento de FOTOS"
   ]
  },
  {
   "cell_type": "markdown",
   "metadata": {},
   "source": [
    "Define o DataFrame 'df_fotos' utilizando a função 'loadDF' e já configura a coluna 'CELEBRIDADE' como índice:"
   ]
  },
  {
   "cell_type": "code",
   "execution_count": 10,
   "metadata": {},
   "outputs": [],
   "source": [
    "df_fotos = loadDF('\\FOTOS', enc= 'ISO-8859-1', sep='\\t').set_index('CELEBRIDADE')"
   ]
  },
  {
   "cell_type": "markdown",
   "metadata": {},
   "source": [
    "## Início de tratamento de CATEGORIAS"
   ]
  },
  {
   "cell_type": "markdown",
   "metadata": {},
   "source": [
    "Define o DataFrame 'df_categorias' utilizando a função 'loadDF':"
   ]
  },
  {
   "cell_type": "code",
   "execution_count": 11,
   "metadata": {},
   "outputs": [],
   "source": [
    "df_categorias = loadDF('\\CATEGORIAS', enc= 'ISO-8859-1', sep='\\t')"
   ]
  },
  {
   "cell_type": "markdown",
   "metadata": {},
   "source": [
    "Atualiza o DataFrame 'df_categorias' resetando o índice do DataFrame. **Por não ter o argumento *drop=True*, o índice antigo se transforma numa nova coluna no DataFrame**.\n",
    "\n",
    "Em seguida cria um DataFrame no qual o índice é a coluna 'CELEBRIDADE' e a coluna do DataFrame é a 'CATEGORIA', agrupando tudo através da função *lambda* definida, ao invés do padrão que é *numpy.mean* (**verificar com o Danilo para quê isso foi feito**):"
   ]
  },
  {
   "cell_type": "code",
   "execution_count": 12,
   "metadata": {},
   "outputs": [],
   "source": [
    "df_categorias = df_categorias  \\\n",
    "    .reset_index() \\\n",
    "    .pivot_table(index='CELEBRIDADE' ,columns=['CATEGORIA'], aggfunc=lambda x : x)"
   ]
  },
  {
   "cell_type": "markdown",
   "metadata": {},
   "source": [
    "---"
   ]
  },
  {
   "cell_type": "markdown",
   "metadata": {},
   "source": [
    "O código abaixo executa os seguintes passos:\n",
    "1. Reseta o índice do DataFrame 'df' (que puxou o arquivo 'SERIE_HISTORICA_v2')\n",
    "2. Configura como novo índice a coluna 'CELEBRIDADE'\n",
    "3. Junta o 'df' com 'df_fotos' utilizando os seus índices (de ambos são a coluna 'CELEBRIDADE')\n",
    "4. Reseta o índice de 'df' novamente (já que já foi utilizado para o *join*)\n",
    "5. Configura novamente o índice para a coluna 'IX'"
   ]
  },
  {
   "cell_type": "code",
   "execution_count": 13,
   "metadata": {},
   "outputs": [],
   "source": [
    "df = df.reset_index().set_index('CELEBRIDADE').join(df_fotos).reset_index().set_index('IX')"
   ]
  },
  {
   "cell_type": "markdown",
   "metadata": {},
   "source": [
    "A função *option_context()* é utilizada para permitir que todas as colunas sejam mostradas no *print()*, para conferir se o *join* foi realizado corretamente.\n",
    "\n",
    "A função *head()* retorna, por padrão, as primeiras 5 linhas do DataFrame para verificar os tipos de dados que o DataFrame contém."
   ]
  },
  {
   "cell_type": "code",
   "execution_count": null,
   "metadata": {
    "scrolled": true
   },
   "outputs": [],
   "source": [
    "# Verificação de print() sem o option_context()\n",
    "print(df.head())"
   ]
  },
  {
   "cell_type": "code",
   "execution_count": 14,
   "metadata": {
    "scrolled": true
   },
   "outputs": [
    {
     "name": "stdout",
     "output_type": "stream",
     "text": [
      "            CELEBRIDADE      ID  FLIGHT  ESTADO  IDADE  ESTADO_CIVIL  \\\n",
      "IX                                                                     \n",
      "105625  Adriana Birolli  105625      12     1.0    3.0           2.0   \n",
      "105626  Adriana Birolli  105626      12    18.0    2.0           1.0   \n",
      "105627  Adriana Birolli  105627      12     1.0    2.0           1.0   \n",
      "105628  Adriana Birolli  105628      12     1.0    2.0           1.0   \n",
      "105629  Adriana Birolli  105629      12     1.0    2.0           1.0   \n",
      "\n",
      "        TEM_FILHOS  RENDA  ESCOLARIDADE  SEXO  AWARENESS  \\\n",
      "IX                                                         \n",
      "105625         1.0    2.0           5.0   2.0        1.0   \n",
      "105626         2.0    6.0           4.0   2.0        2.0   \n",
      "105627         2.0    5.0           4.0   2.0        1.0   \n",
      "105628         2.0    8.0           4.0   2.0        1.0   \n",
      "105629         2.0    5.0           4.0   1.0        1.0   \n",
      "\n",
      "                                           NOME  \\\n",
      "IX                                                \n",
      "105625                      não sei o nome dela   \n",
      "105626                                 Não sei.   \n",
      "105627                Não me lembro exatamente.   \n",
      "105628  Não me lembro, mas sei que é uma atriz.   \n",
      "105629                          Adriana Birolli   \n",
      "\n",
      "                                                  OPINIAO  \\\n",
      "IX                                                          \n",
      "105625                                          Boa atriz   \n",
      "105626                          Tem uma beleza diferente.   \n",
      "105627  Acho muito bonita e o pouco que já vi do traba...   \n",
      "105628     Acho que ela é uma boa atriz e é muito bonita.   \n",
      "105629                                           Atraente   \n",
      "\n",
      "               LEMBRANCA_DE_MARCA  GOSTO_MUITO  ME_IDENTIFICO  TENHO_RESPEITO  \\\n",
      "IX                                                                              \n",
      "105625                        não          1.0            1.0             7.0   \n",
      "105626  Sim, mas não lembro qual.          2.0            2.0             2.0   \n",
      "105627                        Não          4.0            2.0             4.0   \n",
      "105628                Não lembro           4.0            6.0             4.0   \n",
      "105629                        Não          7.0            5.0             7.0   \n",
      "\n",
      "        PRESTO_ATENCAO  CONFIO  MUITO_BOM_NAQUILO_QUE_FAZ  INTELIGENTE  \\\n",
      "IX                                                                       \n",
      "105625             7.0     6.0                        4.0          4.0   \n",
      "105626             1.0     3.0                        1.0          2.0   \n",
      "105627             1.0     1.0                        7.0          3.0   \n",
      "105628             4.0     4.0                        5.0          4.0   \n",
      "105629             7.0     5.0                        7.0          7.0   \n",
      "\n",
      "        DETERMINADO  HONESTO  ENGRAÇADO  LINDO  SEDUTOR  DO_POVO  \\\n",
      "IX                                                                 \n",
      "105625          4.0      4.0        4.0    4.0      4.0      4.0   \n",
      "105626          2.0      2.0        2.0    6.0      7.0      2.0   \n",
      "105627          6.0      4.0        5.0    6.0      6.0      2.0   \n",
      "105628          4.0      4.0        4.0    7.0      6.0      4.0   \n",
      "105629          7.0      7.0        5.0    7.0      7.0      5.0   \n",
      "\n",
      "        CARA_DO_BRASIL  INOVADOR  GOSTA_DE_DESAFIOS  TENHO_VISTO_NA_MIDIA  \\\n",
      "IX                                                                          \n",
      "105625             4.0       4.0                4.0                   4.0   \n",
      "105626             1.0       2.0                2.0                   2.0   \n",
      "105627             4.0       3.0                3.0                   7.0   \n",
      "105628             6.0       5.0                4.0                   3.0   \n",
      "105629             5.0       7.0                7.0                   7.0   \n",
      "\n",
      "        BOA_PARA_PROPAGANDA  COMPRARIA_PRODUTOS_QUE_ANUNCIASSE  \\\n",
      "IX                                                               \n",
      "105625                  4.0                                4.0   \n",
      "105626                  3.0                                3.0   \n",
      "105627                  7.0                                4.0   \n",
      "105628                  7.0                                6.0   \n",
      "105629                  7.0                                4.0   \n",
      "\n",
      "        BOA_PARA_PROPAGANDA_PROJETOS_SOCIAIS  \\\n",
      "IX                                             \n",
      "105625                                   4.0   \n",
      "105626                                   1.0   \n",
      "105627                                   4.0   \n",
      "105628                                   7.0   \n",
      "105629                                   7.0   \n",
      "\n",
      "        ME_ENVOLVERIA_COM_PROJETOS_SOCIAIS_QUE_ANUNCIASSE  \\\n",
      "IX                                                          \n",
      "105625                                                4.0   \n",
      "105626                                                1.0   \n",
      "105627                                                2.0   \n",
      "105628                                                6.0   \n",
      "105629                                                4.0   \n",
      "\n",
      "        INDICARIA_PARA_AMIGOS_MARCAS  \\\n",
      "IX                                     \n",
      "105625                           4.0   \n",
      "105626                           3.0   \n",
      "105627                           4.0   \n",
      "105628                           6.0   \n",
      "105629                           4.0   \n",
      "\n",
      "        COMENTARIA_COM_AMIGOS_PROJETOS_SOCIAIS_QUE_ANUNCIASSE  \\\n",
      "IX                                                              \n",
      "105625                                                4.0       \n",
      "105626                                                1.0       \n",
      "105627                                                4.0       \n",
      "105628                                                6.0       \n",
      "105629                                                4.0       \n",
      "\n",
      "          personalityname                   FOTO_P                   FOTO_M  \\\n",
      "IX                                                                            \n",
      "105625   Alexandre Borges  p/Adriana%20Birolli.jpg  m/Adriana%20Birolli.jpg   \n",
      "105626   Alexandre Borges  p/Adriana%20Birolli.jpg  m/Adriana%20Birolli.jpg   \n",
      "105627   Alexandre Borges  p/Adriana%20Birolli.jpg  m/Adriana%20Birolli.jpg   \n",
      "105628   Alexandre Borges  p/Adriana%20Birolli.jpg  m/Adriana%20Birolli.jpg   \n",
      "105629   Alexandre Borges  p/Adriana%20Birolli.jpg  m/Adriana%20Birolli.jpg   \n",
      "\n",
      "                         FOTO_G  \n",
      "IX                               \n",
      "105625  g/Adriana%20Birolli.jpg  \n",
      "105626  g/Adriana%20Birolli.jpg  \n",
      "105627  g/Adriana%20Birolli.jpg  \n",
      "105628  g/Adriana%20Birolli.jpg  \n",
      "105629  g/Adriana%20Birolli.jpg  \n"
     ]
    }
   ],
   "source": [
    "with pd.option_context('display.max_rows', None, 'display.max_columns', 100):\n",
    "    print(df.head())"
   ]
  },
  {
   "cell_type": "code",
   "execution_count": null,
   "metadata": {},
   "outputs": [],
   "source": [
    "# with pd.option_context('display.max_rows', None, 'display.max_columns', 10):\n",
    "    # print(pd.Series(df[\"CELEBRIDADE\"].unique()))\n",
    "    # print(pd.Series(df[\"FLIGHT\"].unique()))\n",
    "    # print(pd.Series(df[\"ESTADO\"].unique()))\n",
    "    # print(pd.Series(sorted(df[\"IDADE\"].unique())))\n",
    "    # print(pd.Series(sorted(df[\"ESTADO_CIVIL\"].unique())))\n",
    "    # print(pd.Series(sorted(df[\"TEM_FILHOS\"].unique())))\n",
    "    # print(pd.Series(sorted(df[\"RENDA\"].unique())))\n",
    "    # print(pd.Series(sorted(df[\"ESCOLARIDADE\"].unique())))\n",
    "    # print(pd.Series(sorted(df[\"SEXO\"].unique())))\n",
    "    # print(pd.Series(sorted(df[\"AWARENESS\"].unique())))"
   ]
  },
  {
   "cell_type": "markdown",
   "metadata": {},
   "source": [
    "Cria a *Series* 'df2' como sendo o resultado do *subset* (no SQL = SELECT) de todos os Estados com valores maiores que 27.\n",
    "\n",
    "Em seguida printa o *subset* do *Series* 'df2' puxando todos os valores distintos na coluna 'FLIGHT' (no SQL = SELECT DISTINCT FLIGHT FROM df2):"
   ]
  },
  {
   "cell_type": "code",
   "execution_count": 15,
   "metadata": {},
   "outputs": [
    {
     "name": "stdout",
     "output_type": "stream",
     "text": [
      "[18]\n"
     ]
    }
   ],
   "source": [
    "# FLIGHT 18 TÁ CAGADO, fizeram alguma bosta na coluna de Estado. Tem que esperar o Gui arrumar\n",
    "df2 = df[ df[\"ESTADO\"] > 27 ]\n",
    "print(df2[\"FLIGHT\"].unique())"
   ]
  },
  {
   "cell_type": "markdown",
   "metadata": {},
   "source": [
    "A função *isnull()* (também conhecida como *isna()*) retorna 'True' para cada valor nulo na coluna. Foi utilizado para buscar por valores nulos no DataFrame (aparentemente esperava-se que tudo estivesse preenchido)."
   ]
  },
  {
   "cell_type": "code",
   "execution_count": 16,
   "metadata": {},
   "outputs": [
    {
     "name": "stdout",
     "output_type": "stream",
     "text": [
      "[9]\n",
      "[9]\n",
      "[9]\n",
      "[9]\n",
      "[9]\n",
      "[9]\n"
     ]
    }
   ],
   "source": [
    "# FLIGHT 9 TÁ CAGADO, fizeram alguma bosta nas colunas de perfil demográfico, pois estão vazias\n",
    "df2 =  df [ pd.isnull(df[\"IDADE\"]) ]\n",
    "print(df2[\"FLIGHT\"].unique())\n",
    "df2 =  df [ pd.isnull(df[\"ESTADO_CIVIL\"]) ]\n",
    "print(df2[\"FLIGHT\"].unique())\n",
    "df2 =  df [ pd.isnull(df[\"TEM_FILHOS\"]) ]\n",
    "print(df2[\"FLIGHT\"].unique())\n",
    "df2 =  df [ pd.isnull(df[\"RENDA\"]) ]\n",
    "print(df2[\"FLIGHT\"].unique())\n",
    "df2 =  df [ pd.isnull(df[\"ESCOLARIDADE\"]) ]\n",
    "print(df2[\"FLIGHT\"].unique())\n",
    "df2 =  df [ pd.isnull(df[\"SEXO\"]) ]\n",
    "print(df2[\"FLIGHT\"].unique())"
   ]
  },
  {
   "cell_type": "markdown",
   "metadata": {},
   "source": [
    "Faz a mesma verificação por valores nulos só que dessa vez criando uma cópia do resultado e o associando em 'df2':"
   ]
  },
  {
   "cell_type": "code",
   "execution_count": 17,
   "metadata": {},
   "outputs": [],
   "source": [
    "# FLIGHTS 8, 11, 12 possuem a coluna de 'AWARENESS' vazio\n",
    "df2 =  df [ pd.isnull(df[\"AWARENESS\"]) ].copy()"
   ]
  },
  {
   "cell_type": "markdown",
   "metadata": {},
   "source": [
    "Printa as quantidades de celebridades em 'df2' agrupando pela coluna 'FLIGHT':"
   ]
  },
  {
   "cell_type": "code",
   "execution_count": 18,
   "metadata": {},
   "outputs": [
    {
     "name": "stdout",
     "output_type": "stream",
     "text": [
      "FLIGHT\n",
      "8     308\n",
      "11    305\n",
      "12    329\n",
      "Name: CELEBRIDADE, dtype: int64\n"
     ]
    }
   ],
   "source": [
    "print(df2.groupby(\"FLIGHT\")[\"CELEBRIDADE\"].count() )"
   ]
  },
  {
   "cell_type": "markdown",
   "metadata": {},
   "source": [
    "Cria a variável 'ls_cols' e associa a ela uma lista criada a partir da coluna 'AWARENESS':"
   ]
  },
  {
   "cell_type": "code",
   "execution_count": 19,
   "metadata": {
    "scrolled": true
   },
   "outputs": [],
   "source": [
    "ls_cols = list([\"AWARENESS\"])"
   ]
  },
  {
   "cell_type": "markdown",
   "metadata": {},
   "source": [
    "Adiciona o conteúdo das listas 'ls_cols' e a lista gerada a partir de 'pd.Series(df.columns)[13:-3]', criando uma única lista em 'ls_cols'.\n",
    "\n",
    "O item *.columns* faz com que sejam \"puxados\" somente os *labels* das colunas que no caso são as escalas:"
   ]
  },
  {
   "cell_type": "code",
   "execution_count": 20,
   "metadata": {},
   "outputs": [],
   "source": [
    "ls_cols.extend(pd.Series(df.columns)[13:-3])"
   ]
  },
  {
   "cell_type": "markdown",
   "metadata": {},
   "source": [
    "Cria um DataFrame com a *Series* da lista 'ls_cols':"
   ]
  },
  {
   "cell_type": "code",
   "execution_count": 21,
   "metadata": {},
   "outputs": [],
   "source": [
    "df2 = df [ pd.Series(ls_cols) ]"
   ]
  },
  {
   "cell_type": "markdown",
   "metadata": {},
   "source": [
    "Printa um sumário com as principais estatísticas excluindo-se os valores *NaN*:"
   ]
  },
  {
   "cell_type": "code",
   "execution_count": 22,
   "metadata": {
    "scrolled": true
   },
   "outputs": [
    {
     "name": "stdout",
     "output_type": "stream",
     "text": [
      "           AWARENESS    GOSTO_MUITO  ME_IDENTIFICO  TENHO_RESPEITO  \\\n",
      "count  341960.000000  301937.000000  301937.000000   301937.000000   \n",
      "mean        1.278474       4.286113       3.934715        4.624107   \n",
      "std         0.448249       2.223004       2.222952        2.199939   \n",
      "min         1.000000       0.000000       0.000000        0.000000   \n",
      "25%         1.000000       2.000000       2.000000        3.000000   \n",
      "50%         1.000000       4.000000       4.000000        5.000000   \n",
      "75%         2.000000       6.000000       6.000000        7.000000   \n",
      "max         2.000000       7.000000       7.000000        7.000000   \n",
      "\n",
      "       PRESTO_ATENCAO         CONFIO  MUITO_BOM_NAQUILO_QUE_FAZ  \\\n",
      "count   301937.000000  301937.000000              301937.000000   \n",
      "mean         4.228154       4.104177                   4.844742   \n",
      "std          2.255347       2.196886                   2.227597   \n",
      "min          0.000000       0.000000                   0.000000   \n",
      "25%          2.000000       2.000000                   3.000000   \n",
      "50%          4.000000       4.000000                   6.000000   \n",
      "75%          6.000000       6.000000                   7.000000   \n",
      "max          7.000000       7.000000                   7.000000   \n",
      "\n",
      "         INTELIGENTE    DETERMINADO        HONESTO  \\\n",
      "count  301937.000000  301937.000000  301937.000000   \n",
      "mean        4.694711       4.683606       4.445378   \n",
      "std         2.186101       2.186610       2.144339   \n",
      "min         0.000000       0.000000       0.000000   \n",
      "25%         3.000000       3.000000       3.000000   \n",
      "50%         5.000000       5.000000       5.000000   \n",
      "75%         7.000000       7.000000       6.000000   \n",
      "max         7.000000       7.000000       7.000000   \n",
      "\n",
      "                               ...                            CARA_DO_BRASIL  \\\n",
      "count                          ...                             301937.000000   \n",
      "mean                           ...                                  4.367659   \n",
      "std                            ...                                  2.230409   \n",
      "min                            ...                                  0.000000   \n",
      "25%                            ...                                  3.000000   \n",
      "50%                            ...                                  5.000000   \n",
      "75%                            ...                                  7.000000   \n",
      "max                            ...                                  7.000000   \n",
      "\n",
      "            INOVADOR  GOSTA_DE_DESAFIOS  TENHO_VISTO_NA_MIDIA  \\\n",
      "count  301937.000000      301937.000000         301937.000000   \n",
      "mean        4.390595           4.557229              4.639557   \n",
      "std         2.192298           2.188502              2.257017   \n",
      "min         0.000000           0.000000              0.000000   \n",
      "25%         3.000000           3.000000              3.000000   \n",
      "50%         5.000000           5.000000              5.000000   \n",
      "75%         6.000000           7.000000              7.000000   \n",
      "max         7.000000           7.000000              7.000000   \n",
      "\n",
      "       BOA_PARA_PROPAGANDA  COMPRARIA_PRODUTOS_QUE_ANUNCIASSE  \\\n",
      "count        301937.000000                      301937.000000   \n",
      "mean              4.630165                           4.371339   \n",
      "std               2.219119                           2.205971   \n",
      "min               0.000000                           0.000000   \n",
      "25%               3.000000                           3.000000   \n",
      "50%               5.000000                           5.000000   \n",
      "75%               7.000000                           6.000000   \n",
      "max               7.000000                           7.000000   \n",
      "\n",
      "       BOA_PARA_PROPAGANDA_PROJETOS_SOCIAIS  \\\n",
      "count                         301937.000000   \n",
      "mean                               4.543931   \n",
      "std                                2.230696   \n",
      "min                                0.000000   \n",
      "25%                                3.000000   \n",
      "50%                                5.000000   \n",
      "75%                                7.000000   \n",
      "max                                7.000000   \n",
      "\n",
      "       ME_ENVOLVERIA_COM_PROJETOS_SOCIAIS_QUE_ANUNCIASSE  \\\n",
      "count                                      301689.000000   \n",
      "mean                                            4.346032   \n",
      "std                                             2.212154   \n",
      "min                                             0.000000   \n",
      "25%                                             3.000000   \n",
      "50%                                             4.000000   \n",
      "75%                                             6.000000   \n",
      "max                                             7.000000   \n",
      "\n",
      "       INDICARIA_PARA_AMIGOS_MARCAS  \\\n",
      "count                 301689.000000   \n",
      "mean                       4.359897   \n",
      "std                        2.213490   \n",
      "min                        0.000000   \n",
      "25%                        3.000000   \n",
      "50%                        5.000000   \n",
      "75%                        6.000000   \n",
      "max                        7.000000   \n",
      "\n",
      "       COMENTARIA_COM_AMIGOS_PROJETOS_SOCIAIS_QUE_ANUNCIASSE  \n",
      "count                                      288171.000000      \n",
      "mean                                            4.373320      \n",
      "std                                             2.232079      \n",
      "min                                             0.000000      \n",
      "25%                                             3.000000      \n",
      "50%                                             5.000000      \n",
      "75%                                             7.000000      \n",
      "max                                             7.000000      \n",
      "\n",
      "[8 rows x 24 columns]\n"
     ]
    }
   ],
   "source": [
    "print(df2.describe())"
   ]
  },
  {
   "cell_type": "code",
   "execution_count": null,
   "metadata": {},
   "outputs": [],
   "source": [
    "# As escalas ME_ENVOLVERIA_COM_PROJETOS_SOCIAIS_QUE_ANUNCIASSE e INDICARIA_PARA_AMIGOS_MARCAS não foram respondidas no flight 8"
   ]
  },
  {
   "cell_type": "markdown",
   "metadata": {},
   "source": [
    "**Legenda de AWARENESS na tabela: 1 - Sei; 2 - Não Sei**\n",
    "\n",
    "Busca no DataFrame 'df' quais são as CELEBRIDADES que são conhecidas e que os respondentes preencheram no campo 'GOSTO_MUITO'."
   ]
  },
  {
   "cell_type": "code",
   "execution_count": 23,
   "metadata": {},
   "outputs": [],
   "source": [
    "df2 = df[ df[\"AWARENESS\"] == 1 &  pd.notnull( df[\"GOSTO_MUITO\"]) ]"
   ]
  },
  {
   "cell_type": "markdown",
   "metadata": {},
   "source": [
    "Cria uma *Series* dos *labels* do DataFrame 'df2' para verificar o DataFrame contém todas as colunas necessárias:"
   ]
  },
  {
   "cell_type": "code",
   "execution_count": 24,
   "metadata": {
    "scrolled": true
   },
   "outputs": [
    {
     "name": "stdout",
     "output_type": "stream",
     "text": [
      "0                                           CELEBRIDADE\n",
      "1                                                    ID\n",
      "2                                                FLIGHT\n",
      "3                                                ESTADO\n",
      "4                                                 IDADE\n",
      "5                                          ESTADO_CIVIL\n",
      "6                                            TEM_FILHOS\n",
      "7                                                 RENDA\n",
      "8                                          ESCOLARIDADE\n",
      "9                                                  SEXO\n",
      "10                                            AWARENESS\n",
      "11                                                 NOME\n",
      "12                                              OPINIAO\n",
      "13                                   LEMBRANCA_DE_MARCA\n",
      "14                                          GOSTO_MUITO\n",
      "15                                        ME_IDENTIFICO\n",
      "16                                       TENHO_RESPEITO\n",
      "17                                       PRESTO_ATENCAO\n",
      "18                                               CONFIO\n",
      "19                            MUITO_BOM_NAQUILO_QUE_FAZ\n",
      "20                                          INTELIGENTE\n",
      "21                                          DETERMINADO\n",
      "22                                              HONESTO\n",
      "23                                            ENGRAÇADO\n",
      "24                                                LINDO\n",
      "25                                              SEDUTOR\n",
      "26                                              DO_POVO\n",
      "27                                       CARA_DO_BRASIL\n",
      "28                                             INOVADOR\n",
      "29                                    GOSTA_DE_DESAFIOS\n",
      "30                                 TENHO_VISTO_NA_MIDIA\n",
      "31                                  BOA_PARA_PROPAGANDA\n",
      "32                    COMPRARIA_PRODUTOS_QUE_ANUNCIASSE\n",
      "33                 BOA_PARA_PROPAGANDA_PROJETOS_SOCIAIS\n",
      "34    ME_ENVOLVERIA_COM_PROJETOS_SOCIAIS_QUE_ANUNCIASSE\n",
      "35                         INDICARIA_PARA_AMIGOS_MARCAS\n",
      "36    COMENTARIA_COM_AMIGOS_PROJETOS_SOCIAIS_QUE_ANU...\n",
      "37                                      personalityname\n",
      "38                                               FOTO_P\n",
      "39                                               FOTO_M\n",
      "40                                               FOTO_G\n",
      "dtype: object\n"
     ]
    }
   ],
   "source": [
    "print(pd.Series(df2.columns))"
   ]
  },
  {
   "cell_type": "markdown",
   "metadata": {},
   "source": [
    "Busca por colunas que possuem valores nulos e seus respectivos 'FLIGHTS':"
   ]
  },
  {
   "cell_type": "code",
   "execution_count": 25,
   "metadata": {
    "scrolled": true
   },
   "outputs": [
    {
     "name": "stdout",
     "output_type": "stream",
     "text": [
      "[]\n",
      "[]\n",
      "[]\n",
      "[]\n",
      "[]\n",
      "[]\n",
      "[]\n",
      "[]\n",
      "[]\n",
      "[]\n",
      "[]\n",
      "[]\n",
      "[]\n",
      "[]\n",
      "[]\n",
      "[]\n",
      "[]\n",
      "[]\n",
      "[]\n",
      "[]\n",
      "[8]\n",
      "[8]\n",
      "[20]\n",
      "\n",
      "\n",
      "\n"
     ]
    }
   ],
   "source": [
    "print( df2 [ pd.isnull(df2[\"GOSTO_MUITO\"]) ][\"FLIGHT\"].unique() )\n",
    "print( df2 [ pd.isnull(df2[\"ME_IDENTIFICO\"]) ][\"FLIGHT\"].unique() )\n",
    "print( df2 [ pd.isnull(df2[\"TENHO_RESPEITO\"]) ][\"FLIGHT\"].unique() )\n",
    "print( df2 [ pd.isnull(df2[\"PRESTO_ATENCAO\"]) ][\"FLIGHT\"].unique() )\n",
    "print( df2 [ pd.isnull(df2[\"CONFIO\"]) ][\"FLIGHT\"].unique() )\n",
    "print( df2 [ pd.isnull(df2[\"MUITO_BOM_NAQUILO_QUE_FAZ\"]) ][\"FLIGHT\"].unique() )\n",
    "print( df2 [ pd.isnull(df2[\"INTELIGENTE\"]) ][\"FLIGHT\"].unique() )\n",
    "print( df2 [ pd.isnull(df2[\"DETERMINADO\"]) ][\"FLIGHT\"].unique() )\n",
    "print( df2 [ pd.isnull(df2[\"HONESTO\"]) ][\"FLIGHT\"].unique() )\n",
    "print( df2 [ pd.isnull(df2[\"ENGRAÇADO\"]) ][\"FLIGHT\"].unique() )\n",
    "print( df2 [ pd.isnull(df2[\"LINDO\"]) ][\"FLIGHT\"].unique() )\n",
    "print( df2 [ pd.isnull(df2[\"SEDUTOR\"]) ][\"FLIGHT\"].unique() )\n",
    "print( df2 [ pd.isnull(df2[\"DO_POVO\"]) ][\"FLIGHT\"].unique() )\n",
    "print( df2 [ pd.isnull(df2[\"CARA_DO_BRASIL\"]) ][\"FLIGHT\"].unique() )\n",
    "print( df2 [ pd.isnull(df2[\"INOVADOR\"]) ][\"FLIGHT\"].unique() )\n",
    "print( df2 [ pd.isnull(df2[\"GOSTA_DE_DESAFIOS\"]) ][\"FLIGHT\"].unique() )\n",
    "print( df2 [ pd.isnull(df2[\"TENHO_VISTO_NA_MIDIA\"]) ][\"FLIGHT\"].unique() )\n",
    "print( df2 [ pd.isnull(df2[\"BOA_PARA_PROPAGANDA\"]) ][\"FLIGHT\"].unique() )\n",
    "print( df2 [ pd.isnull(df2[\"COMPRARIA_PRODUTOS_QUE_ANUNCIASSE\"]) ][\"FLIGHT\"].unique() )\n",
    "print( df2 [ pd.isnull(df2[\"BOA_PARA_PROPAGANDA_PROJETOS_SOCIAIS\"]) ][\"FLIGHT\"].unique() )\n",
    "print( df2 [ pd.isnull(df2[\"ME_ENVOLVERIA_COM_PROJETOS_SOCIAIS_QUE_ANUNCIASSE\"]) ][\"FLIGHT\"].unique() )\n",
    "print( df2 [ pd.isnull(df2[\"INDICARIA_PARA_AMIGOS_MARCAS\"]) ][\"FLIGHT\"].unique() )\n",
    "print( df2 [ pd.isnull(df2[\"COMENTARIA_COM_AMIGOS_PROJETOS_SOCIAIS_QUE_ANUNCIASSE\"]) ][\"FLIGHT\"].unique() )\n",
    "\n",
    "print (\"\\n\\n\")"
   ]
  },
  {
   "cell_type": "markdown",
   "metadata": {},
   "source": [
    "**Legenda de AWARENESS na tabela: 1 - Sei; 2 - Não Sei**\n",
    "\n",
    "Cria uma condição em que é necessário que as colunas sejam nulas e que o 'AWARENESS' seja igual a 1, para printar a quantidade de CELEBRIDADES agrupadas por 'FLIGHT' em que essas condições sejam verdadeiras:"
   ]
  },
  {
   "cell_type": "code",
   "execution_count": 26,
   "metadata": {},
   "outputs": [
    {
     "name": "stdout",
     "output_type": "stream",
     "text": [
      "FLIGHT\n",
      "8    38\n",
      "Name: CELEBRIDADE, dtype: int64\n",
      "FLIGHT\n",
      "8    38\n",
      "Name: CELEBRIDADE, dtype: int64\n",
      "\n",
      "\n",
      "\n"
     ]
    }
   ],
   "source": [
    "df3 = df2[ pd.isnull(df2[\"ME_ENVOLVERIA_COM_PROJETOS_SOCIAIS_QUE_ANUNCIASSE\"]) & df2[\"AWARENESS\"] == 1  ]\n",
    "print (df3.groupby('FLIGHT')[\"CELEBRIDADE\"].count())\n",
    "\n",
    "df3 = df2[ pd.isnull(df2[\"INDICARIA_PARA_AMIGOS_MARCAS\"]) & df2[\"AWARENESS\"] == 1  ]\n",
    "print (df3.groupby('FLIGHT')[\"CELEBRIDADE\"].count())\n",
    "\n",
    "print (\"\\n\\n\")"
   ]
  },
  {
   "cell_type": "markdown",
   "metadata": {},
   "source": [
    "**Verificar com Danilo por que foi feito pelo 'df' e não pelo 'df2' igual aos outros**"
   ]
  },
  {
   "cell_type": "code",
   "execution_count": 27,
   "metadata": {},
   "outputs": [
    {
     "name": "stdout",
     "output_type": "stream",
     "text": [
      "FLIGHT\n",
      "17    1\n",
      "Name: CELEBRIDADE, dtype: int64\n",
      "\n",
      "\n",
      "\n",
      "AWARENESS\n",
      "1.0    21159\n",
      "2.0     6884\n",
      "Name: CELEBRIDADE, dtype: int64\n"
     ]
    }
   ],
   "source": [
    "# FLIGHT 17 possui 1 registro que apesar de ter marcado que conhece o artista, não respondeu nenhuma escala\n",
    "df2 =  df [ df[\"AWARENESS\"] == 1 & pd.isnull(df[\"GOSTO_MUITO\"]) ]\n",
    "print(df2.groupby('FLIGHT')['CELEBRIDADE'].count())\n",
    "\n",
    "print (\"\\n\\n\") \n",
    "\n",
    "df2 = df[ df[\"FLIGHT\"] == 8 ]\n",
    "print(df2.groupby(\"AWARENESS\")[\"CELEBRIDADE\"].count() )"
   ]
  },
  {
   "cell_type": "markdown",
   "metadata": {},
   "source": [
    "<h2>Carregamento de tabelas auxiliares</h2>"
   ]
  },
  {
   "cell_type": "code",
   "execution_count": 28,
   "metadata": {},
   "outputs": [],
   "source": [
    "df_escolaridade = loadDF('ESCOLARIDADE')\n",
    "df_estado_civil = loadDF('ESTADOCIVIL')\n",
    "df_idade = loadDF('IDADE')\n",
    "df_renda = loadDF('RENDA')\n",
    "df_uf = loadDF('UF')"
   ]
  },
  {
   "cell_type": "markdown",
   "metadata": {},
   "source": [
    "Cria um dicionário para fazer a mesma função que as tabelas auxiliares que são importadas no SQL Server:"
   ]
  },
  {
   "cell_type": "code",
   "execution_count": 29,
   "metadata": {},
   "outputs": [],
   "source": [
    "dictAux = {     \"ESCOLARIDADE\" : df_escolaridade.set_index('COD_ESCOLARIDADE')\n",
    "              , \"ESTADOCIVIL\"  : df_estado_civil.set_index('COD_ESTADOCIVIL')\n",
    "              , \"IDADE\"        : df_idade.set_index('COD_IDADE')\n",
    "              , \"RENDA\"        : df_renda.set_index('COD_RENDA')\n",
    "              , \"UF\"           : df_uf.set_index('COD_ESTADO')\n",
    "          }"
   ]
  },
  {
   "cell_type": "markdown",
   "metadata": {},
   "source": [
    "<h2>Views Power BI</h2>"
   ]
  },
  {
   "cell_type": "markdown",
   "metadata": {},
   "source": [
    "<h3 style='color:red'>VW_BASE</h3>"
   ]
  },
  {
   "cell_type": "markdown",
   "metadata": {},
   "source": [
    "Cria uma cópia do DataFrame 'df' e o nomeia como 'df_base'.\n",
    "\n",
    "Em seguida faz os *joins* para buscar as informações do dicionário auxiliar (semelhante a buscar informações das tabelas auxiliares).\n",
    "\n",
    "**Verificar com o Danilo o por quê de ele igualar as colunas de 'df_base' com as de 'df'**\n",
    "\n",
    "A função *where()* é semelhante à um *if* no excel, em que se determinada condição for satisfeita, executar a primeira opção, caso contrário executar a segunda (*where(condition, True, False)*):"
   ]
  },
  {
   "cell_type": "code",
   "execution_count": 30,
   "metadata": {},
   "outputs": [],
   "source": [
    "df_base = df.copy()\n",
    "\n",
    "df_base = df_base.set_index('ESCOLARIDADE').join(dictAux[\"ESCOLARIDADE\"])\n",
    "df_base = df_base.set_index('ESTADO_CIVIL').join(dictAux[\"ESTADOCIVIL\"])\n",
    "df_base = df_base.set_index('IDADE').join(dictAux[\"IDADE\"])\n",
    "df_base = df_base.set_index('RENDA').join(dictAux[\"RENDA\"])\n",
    "df_base = df_base.set_index('ESTADO').join(dictAux[\"UF\"])\n",
    "df_base[\"ESCOLARIDADE\"] = df[\"ESCOLARIDADE\"]\n",
    "df_base[\"ESTADO_CIVIL\"] = df[\"ESTADO_CIVIL\"]\n",
    "df_base[\"IDADE\"] = df[\"IDADE\"]\n",
    "df_base[\"RENDA\"] = df[\"RENDA\"]\n",
    "df_base[\"ESTADO\"] = df[\"ESTADO\"]\n",
    "\n",
    "# Correção realizada: 1 - Masculino ; 2 - Feminino\n",
    "df_base[\"SEXO\"] = np.where(df[\"SEXO\"] == 1, \"Masculino\", \"Feminino\")\n",
    "df_base[\"TEM_FILHOS\"] = np.where(df[\"TEM_FILHOS\"] == 1, \"Sim\", \"Não\")\n",
    "\n",
    "#with pd.option_context('display.max_rows', None, 'display.max_columns', 100):\n",
    "    #print( df_base[ pd.isnull(df_base['REGIAO']) ].groupby('FLIGHT')[\"ID\"].count()  )\n",
    "    #print( sorted(df_base[ df_base[\"FLIGHT\"] == 9 ][\"ESTADO\"].unique()) ) \n",
    "\n",
    "#print(pd.Series(df_base.columns)) "
   ]
  },
  {
   "cell_type": "markdown",
   "metadata": {},
   "source": [
    "Deleta as colunas de 'df_base' que estão com os valores antigos, usados para puxar os valores no *join* e renomeia as colunas que vieram das \"tabelas auxiliares\" para fazer o papel das colunas deletadas:"
   ]
  },
  {
   "cell_type": "code",
   "execution_count": 31,
   "metadata": {},
   "outputs": [],
   "source": [
    "del df_base[\"ESTADO\"]\n",
    "del df_base[\"RENDA\"]\n",
    "del df_base[\"ESCOLARIDADE\"]\n",
    "del df_base[\"IDADE\"]\n",
    "\n",
    "df_base.rename( columns ={ \n",
    "    \"UF_NOME\" : \"ESTADO\" ,\n",
    "    \"RENDA_DESC2\": \"RENDA\",\n",
    "    \"ESCOLARIDADE_DESC2\" : \"ESCOLARIDADE\",\n",
    "    \"ESTADOCIVIL_DESC\": \"ESTADOCIVIL\",\n",
    "    \"IDADE_INT\": \"IDADE\"\n",
    "}, inplace=True)"
   ]
  },
  {
   "cell_type": "markdown",
   "metadata": {},
   "source": [
    "Bloco para gerar o arquivo que será usado na importação no SQL Server.\n",
    "\n",
    "Ordena pela coluna 'ID' de forma ascendente e a configura para ser índice (key).\n",
    "Em seguida usa a função 'writeDF' para escrever o DataFrame no arquivo \"VW_BASE.txt\":"
   ]
  },
  {
   "cell_type": "code",
   "execution_count": 32,
   "metadata": {},
   "outputs": [],
   "source": [
    "if OPT_GERAR_VW_BASE == 1:\n",
    "    df_base = df_base        \\\n",
    "        .sort_values(by=['ID'], ascending=True)        \\\n",
    "        .set_index(\"ID\")\n",
    "\n",
    "    writeDF(df_base, 'VW_BASE')\n",
    "        \n",
    "    print(\"Arquivo gerado\")"
   ]
  },
  {
   "cell_type": "markdown",
   "metadata": {},
   "source": [
    "<h3 style='color:red'>VW_BASE_METRICAS</h3>"
   ]
  },
  {
   "cell_type": "markdown",
   "metadata": {},
   "source": [
    "**Verificar com Danilo qual a finalidade das definições abaixo**"
   ]
  },
  {
   "cell_type": "code",
   "execution_count": null,
   "metadata": {},
   "outputs": [],
   "source": [
    "df_awareness = df.copy()\n",
    "print(df_awareness.head())"
   ]
  },
  {
   "cell_type": "code",
   "execution_count": null,
   "metadata": {},
   "outputs": [],
   "source": [
    "df_awareness['AW'] = np.where( df_awareness['AWARENESS'] == 1, 'S', 'N' )"
   ]
  },
  {
   "cell_type": "code",
   "execution_count": null,
   "metadata": {},
   "outputs": [],
   "source": [
    "df_awareness = df_awareness.groupby(['FLIGHT','CELEBRIDADE','AW'], as_index=False).count()\n",
    "print(df_awareness.head())"
   ]
  },
  {
   "cell_type": "code",
   "execution_count": null,
   "metadata": {},
   "outputs": [],
   "source": [
    "df_awareness = df_awareness[ pd.Series(['CELEBRIDADE','FLIGHT','AW', 'ID']) ].pivot_table('ID',['CELEBRIDADE','FLIGHT'],'AW')\n",
    "print(df_awareness.head())"
   ]
  },
  {
   "cell_type": "code",
   "execution_count": null,
   "metadata": {},
   "outputs": [],
   "source": [
    "df_awareness[\"AWARENESS\"] = df_awareness['S'] / (df_awareness['S'] + df_awareness['N'])\n",
    "print(df_awareness)"
   ]
  },
  {
   "cell_type": "code",
   "execution_count": null,
   "metadata": {},
   "outputs": [],
   "source": [
    "df_awareness[\"AWARENESS_NIVEL\"] = np.where( df_awareness['AWARENESS'] >= 0.65, 'Alto', 'Baixo' )\n",
    "print(df_awareness)"
   ]
  },
  {
   "cell_type": "code",
   "execution_count": null,
   "metadata": {},
   "outputs": [],
   "source": [
    "cols = [\n",
    "    'ID',\n",
    "    'CELEBRIDADE',\n",
    "    'FLIGHT',\n",
    "    'GOSTO_MUITO',\n",
    "    'ME_IDENTIFICO',\n",
    "    'TENHO_RESPEITO',\n",
    "    'PRESTO_ATENCAO',\n",
    "    'CONFIO',\n",
    "    'MUITO_BOM_NAQUILO_QUE_FAZ',\n",
    "    'INTELIGENTE',\n",
    "    'DETERMINADO',\n",
    "    'HONESTO',\n",
    "    'ENGRAÇADO',\n",
    "    'LINDO',\n",
    "    'SEDUTOR',\n",
    "    'DO_POVO',\n",
    "    'CARA_DO_BRASIL',\n",
    "    'INOVADOR',\n",
    "    'GOSTA_DE_DESAFIOS',\n",
    "    'TENHO_VISTO_NA_MIDIA',\n",
    "    'BOA_PARA_PROPAGANDA',\n",
    "    'COMPRARIA_PRODUTOS_QUE_ANUNCIASSE',\n",
    "    'BOA_PARA_PROPAGANDA_PROJETOS_SOCIAIS',\n",
    "    'ME_ENVOLVERIA_COM_PROJETOS_SOCIAIS_QUE_ANUNCIASSE',\n",
    "    'INDICARIA_PARA_AMIGOS_MARCAS',\n",
    "    'COMENTARIA_COM_AMIGOS_PROJETOS_SOCIAIS_QUE_ANUNCIASSE'\n",
    "]\n",
    "\n",
    "df_metricas = df.copy()\n",
    "print(df_metricas.head())"
   ]
  },
  {
   "cell_type": "code",
   "execution_count": null,
   "metadata": {},
   "outputs": [],
   "source": [
    "df_metricas = df_metricas[ pd.Series(cols) ]    \\\n",
    "    .melt(id_vars=['ID', 'CELEBRIDADE', 'FLIGHT' ],  value_name= 'VALOR', var_name='METRICA')     \\\n",
    "    .set_index(\"METRICA\")     \\\n",
    "    .join(meta)"
   ]
  },
  {
   "cell_type": "code",
   "execution_count": null,
   "metadata": {},
   "outputs": [],
   "source": [
    "df_metricas[\"TOP2\"] = np.where( df_metricas[\"VALOR\"] >= 6 , 1 , 0 )\n",
    "df_metricas[\"BOT2\"] = np.where( (df_metricas[\"VALOR\"] <= 2) & (df_metricas[\"VALOR\"] > 0) , 1 , 0 )\n",
    "print(df_metricas.head())"
   ]
  },
  {
   "cell_type": "code",
   "execution_count": null,
   "metadata": {},
   "outputs": [],
   "source": [
    "del df_metricas[\"PERGUNTA\"]\n",
    "del df_metricas[\"COLUNA\"]"
   ]
  },
  {
   "cell_type": "code",
   "execution_count": null,
   "metadata": {},
   "outputs": [],
   "source": [
    "df_metricas = df_metricas     \\\n",
    "        .set_index(['CELEBRIDADE','FLIGHT'])     \\\n",
    "        .join(df_awareness)     \\\n",
    "        .set_index(\"ID\")     \\\n",
    "        .join( df[ pd.Series([ \"FOTO_G\" , \"FOTO_M\" , \"FOTO_P\", 'CELEBRIDADE', 'FLIGHT' ]) ]  )\n",
    "print(df_metricas.head())"
   ]
  },
  {
   "cell_type": "markdown",
   "metadata": {},
   "source": [
    "----------"
   ]
  },
  {
   "cell_type": "markdown",
   "metadata": {},
   "source": [
    "<h3 style='color:red'>VW_BASE_METRICAS (FULL)</h3>"
   ]
  },
  {
   "cell_type": "code",
   "execution_count": 33,
   "metadata": {},
   "outputs": [],
   "source": [
    "df_awareness = df.copy()\n",
    "\n",
    "df_awareness['AW'] = np.where( df_awareness['AWARENESS'] == 1, 'S', 'N' )\n",
    "df_awareness = df_awareness.groupby(['FLIGHT','CELEBRIDADE','AW'], as_index=False).count()\n",
    "df_awareness = df_awareness[ pd.Series(['CELEBRIDADE','FLIGHT','AW', 'ID']) ].pivot_table('ID',['CELEBRIDADE','FLIGHT'],'AW')\n",
    "df_awareness[\"AWARENESS\"] = df_awareness['S'] / (df_awareness['S'] + df_awareness['N'])\n",
    "df_awareness[\"AWARENESS_NIVEL\"] = np.where( df_awareness['AWARENESS'] >= 0.65, 'Alto', 'Baixo' )"
   ]
  },
  {
   "cell_type": "code",
   "execution_count": 34,
   "metadata": {},
   "outputs": [],
   "source": [
    "cols = [\n",
    "    'ID',\n",
    "    'CELEBRIDADE',\n",
    "    'FLIGHT',\n",
    "    'GOSTO_MUITO',\n",
    "    'ME_IDENTIFICO',\n",
    "    'TENHO_RESPEITO',\n",
    "    'PRESTO_ATENCAO',\n",
    "    'CONFIO',\n",
    "    'MUITO_BOM_NAQUILO_QUE_FAZ',\n",
    "    'INTELIGENTE',\n",
    "    'DETERMINADO',\n",
    "    'HONESTO',\n",
    "    'ENGRAÇADO',\n",
    "    'LINDO',\n",
    "    'SEDUTOR',\n",
    "    'DO_POVO',\n",
    "    'CARA_DO_BRASIL',\n",
    "    'INOVADOR',\n",
    "    'GOSTA_DE_DESAFIOS',\n",
    "    'TENHO_VISTO_NA_MIDIA',\n",
    "    'BOA_PARA_PROPAGANDA',\n",
    "    'COMPRARIA_PRODUTOS_QUE_ANUNCIASSE',\n",
    "    'BOA_PARA_PROPAGANDA_PROJETOS_SOCIAIS',\n",
    "    'ME_ENVOLVERIA_COM_PROJETOS_SOCIAIS_QUE_ANUNCIASSE',\n",
    "    'INDICARIA_PARA_AMIGOS_MARCAS',\n",
    "    'COMENTARIA_COM_AMIGOS_PROJETOS_SOCIAIS_QUE_ANUNCIASSE'\n",
    "]\n",
    "\n",
    "df_metricas = df.copy()\n",
    "\n",
    "df_metricas = df_metricas[ pd.Series(cols) ]    \\\n",
    "    .melt(id_vars=['ID', 'CELEBRIDADE', 'FLIGHT' ],  value_name= 'VALOR', var_name='METRICA')     \\\n",
    "    .set_index(\"METRICA\")     \\\n",
    "    .join(meta)\n",
    "    \n",
    "df_metricas[\"TOP2\"] = np.where( df_metricas[\"VALOR\"] >= 6 , 1 , 0 )\n",
    "df_metricas[\"BOT2\"] = np.where( (df_metricas[\"VALOR\"] <= 2) & (df_metricas[\"VALOR\"] > 0) , 1 , 0 )\n",
    "\n",
    "del df_metricas[\"PERGUNTA\"]\n",
    "del df_metricas[\"COLUNA\"]\n",
    "\n",
    "df_metricas = df_metricas     \\\n",
    "        .set_index(['CELEBRIDADE','FLIGHT'])     \\\n",
    "        .join(df_awareness)     \\\n",
    "        .set_index(\"ID\")     \\\n",
    "        .join( df[ pd.Series([ \"FOTO_G\" , \"FOTO_M\" , \"FOTO_P\", 'CELEBRIDADE', 'FLIGHT' ]) ]  )\n",
    "\n",
    "\n",
    "if OPT_GERAR_VW_BASE_METRICAS == 1:\n",
    "    \n",
    "    df_metricas = df_metricas.reset_index()    \n",
    "    df_metricas.rename( columns ={ \"index\" : \"ID\"}, inplace=True)    \n",
    "    df_metricas = df_metricas.set_index(\"ID\")\n",
    "    writeDF(df_metricas, 'VW_BASE_METRICAS')\n",
    "    \n",
    "    print(\"Arquivo exportado\")"
   ]
  },
  {
   "cell_type": "markdown",
   "metadata": {},
   "source": [
    "<h3 style='color:red'>VW_COMPARATIVO</h3>"
   ]
  },
  {
   "cell_type": "code",
   "execution_count": null,
   "metadata": {},
   "outputs": [],
   "source": [
    "df_latest_flight = df.groupby('CELEBRIDADE').max()['FLIGHT'].reset_index().set_index(['CELEBRIDADE','FLIGHT'])\n",
    "print(df_latest_flight.head())"
   ]
  },
  {
   "cell_type": "code",
   "execution_count": null,
   "metadata": {},
   "outputs": [],
   "source": [
    "df_comp = df_metricas \\\n",
    "    .join(df['AWARENESS'], rsuffix='_SN')\n",
    "print(df_comp.head())"
   ]
  },
  {
   "cell_type": "code",
   "execution_count": null,
   "metadata": {},
   "outputs": [],
   "source": [
    "df_count_total = df \\\n",
    "        .groupby(['FLIGHT','CELEBRIDADE'], as_index=False)['ID'] \\\n",
    "        .count()\n",
    "print(df_count_total.head(10))"
   ]
  },
  {
   "cell_type": "code",
   "execution_count": null,
   "metadata": {},
   "outputs": [],
   "source": [
    "df_count_total.rename( columns ={ \"ID\": \"COUNT\"}, inplace=True)\n",
    "print(df_count_total.head())"
   ]
  },
  {
   "cell_type": "code",
   "execution_count": null,
   "metadata": {},
   "outputs": [],
   "source": [
    "df_count_aw = df[ df['AWARENESS']==1 ] \\\n",
    "        .groupby(['FLIGHT','CELEBRIDADE'], as_index=False)['ID'] \\\n",
    "        .count()\n",
    "print(df_count_aw.head())"
   ]
  },
  {
   "cell_type": "code",
   "execution_count": null,
   "metadata": {},
   "outputs": [],
   "source": [
    "df_count_aw.rename( columns ={ \"ID\": \"COUNT\"}, inplace=True)\n",
    "print(df_count_aw.head())"
   ]
  },
  {
   "cell_type": "code",
   "execution_count": null,
   "metadata": {},
   "outputs": [],
   "source": [
    "df_count = df_count_total \\\n",
    "        .set_index(['FLIGHT','CELEBRIDADE']) \\\n",
    "        .join(df_count_aw.set_index(['FLIGHT','CELEBRIDADE']), rsuffix='_AW')\n",
    "print(df_count.head())"
   ]
  },
  {
   "cell_type": "code",
   "execution_count": null,
   "metadata": {},
   "outputs": [],
   "source": [
    "del df_count_total\n",
    "del df_count_aw"
   ]
  },
  {
   "cell_type": "code",
   "execution_count": null,
   "metadata": {},
   "outputs": [],
   "source": [
    "df_comp = df_comp[ df_comp['AWARENESS_SN'] == 1 ] \\\n",
    "        .groupby(['FLIGHT','CELEBRIDADE', 'FOTO_M','FOTO_P','FOTO_G','AWARENESS', 'AWARENESS_NIVEL', 'CONSTRUCTO','METRICA'], as_index=False) \\\n",
    "        .agg({ \"TOP2\" : \"sum\", \"BOT2\" : \"sum\" })\n",
    "print(df_comp.head())"
   ]
  },
  {
   "cell_type": "code",
   "execution_count": null,
   "metadata": {},
   "outputs": [],
   "source": [
    "df_comp = df_comp \\\n",
    "        .reset_index()  \\\n",
    "        .set_index(['FLIGHT','CELEBRIDADE']) \\\n",
    "        .join(df_count)\n",
    "print(df_comp.head())"
   ]
  },
  {
   "cell_type": "code",
   "execution_count": null,
   "metadata": {},
   "outputs": [],
   "source": [
    "df_comp['TOP2'] = df_comp['TOP2'] / df_comp['COUNT_AW']\n",
    "df_comp['BOT2'] = df_comp['BOT2'] / df_comp['COUNT_AW']\n",
    "print(df_comp['TOP2'].head())\n",
    "print(df_comp['BOT2'].head())"
   ]
  },
  {
   "cell_type": "code",
   "execution_count": null,
   "metadata": {},
   "outputs": [],
   "source": [
    "df_comp = df_comp \\\n",
    "    .reset_index() \\\n",
    "    .set_index(['CELEBRIDADE','FLIGHT']) \\\n",
    "    .join( df_latest_flight, how='inner' )\n",
    "print(df_comp.head())"
   ]
  },
  {
   "cell_type": "code",
   "execution_count": null,
   "metadata": {},
   "outputs": [],
   "source": [
    "df_comp = df_comp \\\n",
    "    .reset_index() \\\n",
    "    .set_index(['CONSTRUCTO','METRICA'])\n",
    "print(df_comp.head())"
   ]
  },
  {
   "cell_type": "code",
   "execution_count": null,
   "metadata": {},
   "outputs": [],
   "source": [
    "del df_comp['COUNT']\n",
    "del df_comp['COUNT_AW']"
   ]
  },
  {
   "cell_type": "code",
   "execution_count": null,
   "metadata": {},
   "outputs": [],
   "source": [
    "df_compf = df_comp.join(df_comp, lsuffix = '_1', rsuffix = '_2')\n",
    "print(df_compf.head())"
   ]
  },
  {
   "cell_type": "markdown",
   "metadata": {},
   "source": [
    "-----"
   ]
  },
  {
   "cell_type": "markdown",
   "metadata": {},
   "source": [
    "<h3 style='color:red'>VW_COMPARATIVO (FULL)</h3>"
   ]
  },
  {
   "cell_type": "code",
   "execution_count": 94,
   "metadata": {},
   "outputs": [],
   "source": [
    "# Comparativo pelo último flight (21)\n",
    "df_latest_flight = df.groupby('CELEBRIDADE').max()['FLIGHT'].reset_index().set_index(['CELEBRIDADE','FLIGHT'])\n",
    "\n",
    "df_comp = df_metricas \\\n",
    "    .join(df['AWARENESS'], rsuffix='_SN') \n",
    "\n",
    "df_count_total = df \\\n",
    "        .groupby(['FLIGHT','CELEBRIDADE'], as_index=False)['ID'] \\\n",
    "        .count()\n",
    "df_count_total.rename( columns ={ \"ID\": \"COUNT\"}, inplace=True)    \n",
    "df_count_aw = df[ df['AWARENESS']==1 ] \\\n",
    "        .groupby(['FLIGHT','CELEBRIDADE'], as_index=False)['ID'] \\\n",
    "        .count()\n",
    "df_count_aw.rename( columns ={ \"ID\": \"COUNT\"}, inplace=True)    \n",
    "\n",
    "df_count = df_count_total \\\n",
    "        .set_index(['FLIGHT','CELEBRIDADE']) \\\n",
    "        .join(df_count_aw.set_index(['FLIGHT','CELEBRIDADE']), rsuffix='_AW')\n",
    "\n",
    "del df_count_total\n",
    "del df_count_aw\n",
    "\n",
    "df_comp = df_comp[ df_comp['AWARENESS_SN'] == 1 ] \\\n",
    "        .groupby(['FLIGHT','CELEBRIDADE', 'FOTO_M','FOTO_P','FOTO_G','AWARENESS', 'AWARENESS_NIVEL', 'CONSTRUCTO','METRICA'], as_index=False) \\\n",
    "        .agg({ \"TOP2\" : \"sum\", \"BOT2\" : \"sum\" })\n",
    "\n",
    "df_comp = df_comp \\\n",
    "        .reset_index()  \\\n",
    "        .set_index(['FLIGHT','CELEBRIDADE']) \\\n",
    "        .join(df_count)\n",
    "\n",
    "df_comp['TOP2'] = df_comp['TOP2'] / df_comp['COUNT_AW']\n",
    "df_comp['BOT2'] = df_comp['BOT2'] / df_comp['COUNT_AW']\n",
    "\n",
    "df_comp = df_comp \\\n",
    "    .reset_index() \\\n",
    "    .set_index(['CELEBRIDADE','FLIGHT']) \\\n",
    "    .join( df_latest_flight, how='inner' )\n",
    "\n",
    "df_comp = df_comp \\\n",
    "    .reset_index() \\\n",
    "    .set_index(['CONSTRUCTO','METRICA'])\n",
    "\n",
    "del df_comp['COUNT']\n",
    "del df_comp['COUNT_AW']\n",
    "\n",
    "df_compf = df_comp.join(df_comp, lsuffix = '_1', rsuffix = '_2')\n",
    "\n",
    "\n",
    "if OPT_GERAR_VW_COMP == 1:\n",
    "    \n",
    "    writeDF(df_compf, 'VW_COMPARATIVO')\n",
    "    \n",
    "    print(\"Arquivo exportado\")"
   ]
  },
  {
   "cell_type": "markdown",
   "metadata": {},
   "source": [
    "---"
   ]
  },
  {
   "cell_type": "markdown",
   "metadata": {},
   "source": [
    "<strong>Pegar somente a quantidade de 'S' de cada 'CELEBRIDADE':</strong>"
   ]
  },
  {
   "cell_type": "code",
   "execution_count": 77,
   "metadata": {},
   "outputs": [
    {
     "name": "stdout",
     "output_type": "stream",
     "text": [
      "MultiIndex(levels=[['Adriana Birolli', 'Adriana Esteves', 'Adriana Lima', 'Adriane Galisteu', 'Agatha Moreira', 'Ailton Graça', 'Al Pacino', 'Alcione', 'Alessandra Ambrósio', 'Alessandra Negrini', 'Alexandre (Aviões)', 'Alexandre (aviões)', 'Alexandre Borges', 'Alexandre Nero', 'Alice Braga', 'Alice Wegmann', 'Aline Riscado', 'Alinne Moraes', 'Alinne Rosa', 'Alisson Becker', 'Amaury Jr', 'Ami James', 'Ana Beatriz Barros', 'Ana Brenda', 'Ana Hickmann', 'Ana Maria Braga', 'Ana Paula Arósio', 'Ana Paula Furtado', 'Ana Paula Padrão', 'AnaVitória', 'Anderson Silva', 'Anderson Varejão', 'André Heller', 'André Marques', 'Andréa Beltrão', 'Andréia Horta', 'Angélica', 'Anitta', 'Antonio Fagundes', 'Antônia Morais', 'Aracy Balabanian', 'Arlete Salles', 'Arlindo Grund', 'Arthur Aguiar', 'Bela Gil', 'Bell Marques', 'Belo', 'Bernard', 'Bernardinho', 'Bia e Branca', 'Bianca Bin', 'Blake Lively', 'Britto Jr.', 'Bruna Hamu', 'Bruna Linzmeyer', 'Bruna Marquezine', 'Bruninho', 'Bruninho e Davi', 'Bruno Cabrerizo', 'Bruno Ferrari', 'Bruno Gagliasso', 'Bruno Gissoni', 'Bruno Mazzeo', 'Bruno Senna', 'Buddy Valastro', 'Bárbara Paz', 'Caco Ciocler', 'Caio Blat', 'Caio Castro', 'Caio Paduan', 'Camila Alves', 'Camila Pitanga', 'Camila Queiroz', 'Camila Rodrigues', 'Camilla Uckers', 'Carla Diaz', 'Carlinhos Brown', 'Carlos Alberto de Nóbrega', 'Carlos Bertolazzi', 'Carlos Nascimento', 'Carmo Dalla Vecchia', 'Carol Castro', 'Carol Celico', 'Carol Fiorentino', 'Carol Nakamura', 'Carolina Dieckmann', 'Carolina Ferraz', 'Casemiro', 'Cassius Zeilmann', 'Cauã Reymond', 'Celso Portiolli', 'Chay Suede', 'Chris Flores', 'Christiane Torloni', 'Christina Rocha', 'Cissa Guimarães', 'Clarice Falcão', 'Claude Troisgros', 'Claudia Leitte', 'Claudia Ohana', 'Cláudia Abreu', 'Cláudia Raia', 'Cléo Pires', 'Coronel Frank', 'Cris Vianna', 'Cristiane Cardoso', 'Cristiano Ronaldo', 'César Filho', 'Dan Stulbach', 'Dani Calabresa', 'Daniel', 'Daniel Alves', 'Daniel Boaventura', 'Daniel Rocha', 'Daniel de Oliveira', 'Daniela Mercury', 'Daniele Hypólito', 'Daniele Suzuki', 'Danielle Winits', 'Danilo Gentili', 'Dante', 'David Luiz', 'Deborah Evelyn', 'Deborah Secco', 'Demi Lovato', 'Denise Fraga', 'Di Ferrero', 'Didi Wagner', 'Diego Cavalieri', 'Diego Hypólito', 'Dira Paes', 'Drica Moraes', 'Du Moscovis', 'Duda - Handebol', 'Dudu Camargo', 'Dunga', 'Débora Falabella', 'Débora Nascimento', 'Edson Celulari', 'Edu Guedes', 'Eliana', 'Eliane Giardini', 'Ellen Rocche', 'Emicida', 'Emílio Dantas', 'Enrique Diaz', 'Eriberto Leão', 'Erika Januza', 'Evaristo Costa', 'Fabiana Karla', 'Falcão', 'Faustão', 'Felipe Andreoli', 'Felipe Massa', 'Felipe Simas', 'Felipe Titto', 'Felipão', 'Fernanda Gentil', 'Fernanda Lima', 'Fernanda Montenegro', 'Fernanda Motta', 'Fernanda Paes Leme', 'Fernanda Souza', 'Fernanda Torres', 'Fernanda Vasconcellos', 'Fernanda de Freitas', 'Fernandinho', 'Fernando & Sorocaba', 'Fiorella Mattheis', 'Fiuk', 'Flávia Alessandra', 'Flávio Canto', 'Francisco Cuoco', 'Fred', 'Fábio Assunção', 'Fábio Júnior', 'Fábio Porchat', 'Fátima Bernardes', 'Gabriel Braga Nunes', 'Gabriel Jesus', 'Gabriel Leone', 'Gabriel Medina', 'Gabriel Pensador', 'Gabriela Duarte', 'Gabriela Pugliesi', 'Gaby Amarantos', 'Geraldo Luís', 'Gerard Piqué', 'Gianne Albertoni', 'Giba', 'Giovanna Antonelli', 'Giovanna Ewbank', 'Giovanna Lancellotti', 'Gisele Bündchen', 'Giselle Itié', 'Glória Pires', 'Grazi Massafera', 'Gregório Duvivier', 'Guga', 'Gugu', 'Guilherme Leicam', 'Gustavo Borges', 'Gusttavo Lima', 'Helio de La Peña', 'Henri Castelli', 'Henrique Adriano Buss', 'Henrique Fogaça', 'Henrique e Juliano', 'Hernanes', 'Hugo Gloss', 'Hulk', 'Humberto Carrão', 'Humberto Martins', 'IZA', 'Ingrid Guimarães', 'Isabeli Fontana', 'Isabella Fiorentino', 'Isabella Santoni', 'Isabelle Drummond', 'Isaquias Queiroz', 'Isis Valverde', 'Ivan Lins', 'Ivete Sangalo', 'Izabel Goulart', 'Jacqueline Sato', 'Jade Barbosa', 'Jamie Oliver', 'Jaqueline (volei)', 'Jayme Matarazzo', 'Jefferson', 'Joaquim Lopes', 'Joel Santana', 'Joelma', 'Johnny Knoxville', 'Jorge & Mateus', 'Joseval Peixoto', 'Josie Pessoa', 'José Loreto', 'José Mayer', 'João Baldasserini', 'João Côrtes', 'João Miguel', 'João Neto e Frederico', 'João Vicente de Castro', 'Julia Lemmertz', 'Juliana Alves', 'Juliana Didone', 'Juliana Paes', 'Juliana Paiva', 'Julianne Trevisol', 'Juliano Cazarré', 'Junior Cigano', 'Jô (jogador)', 'Jô Soares', 'Júlia Rabello', 'Júlio César', 'Kaká', 'Karol Conka', 'Klebber Toledo', 'Kéfera Buchmann', 'Larissa Manoela', 'Laura Neiva', 'Leandra Leal', 'Leandro Hassum', 'Lethicia Bronstein', 'Leticia Lima', 'Letícia Bufoni', 'Letícia Colin', 'Letícia Sabatella', 'Letícia Spiller', 'Luan Santana', 'Luana Piovani', 'Lucas Lucco', 'Lucas Moura', 'Luciano Huck', 'Ludmilla', 'Luisa Arraes', 'Luiz Fernando Guimarães', 'Luiz Gustavo', 'Luiza Possi', 'Lulu Santos', 'Lyoto Machida', 'Lázaro Ramos', 'Lília Cabral', 'MC Guimê', 'Maiara & Maraisa', 'Maicon', 'Malu Mader', 'Malvino Salvador', 'Marcello Melo Jr.', 'Marcello Novaes', 'Marcelo (jogador)', 'Marcelo Adnet', 'Marcelo Melo e Bruno Soares', 'Marcelo Médici', 'Marcelo Serrado', 'Marcelo Tas', 'Marcio Atalla', 'Marco Pigossi', 'Marcos (goleiro)', 'Marcos Mion', 'Marcos Palmeira', 'Marcos Pasquim', 'Marcos Pitombo', 'Marcos Veras', 'Marcos e Belutti', 'Marcão do Povo', 'Maria Casadevall', 'Maria Clara Gueiros', 'Maria Fernanda Cândido', 'Maria Ribeiro', 'Maria Suelen', 'Mariana Godoy', 'Mariana Rios', 'Mariana Weickert', 'Mariana Xavier', 'Mariana Ximenes', 'Marieta Severo', 'Marina Ruy Barbosa', 'Mario Balotelli', 'Marisa Orth', 'Marjorie Estiano', 'Marlon Teixeira', 'Marlon Zanotelli', 'Marquinhos', 'Marta', 'Marília Gabriela', 'Marília Mendonça', 'Mateus Solano', 'Matheus e Kauan', 'Mauricio Lima', 'Mauro Vinicius (Duda)', 'Maurício Destri', 'Maxwell', 'Maya Gabeira', 'Mayra Aguiar', 'Mc Marcelly', 'Messi', 'Michael Phelps', 'Michel Teló', 'Miguel Falabella', 'Minotauro', 'Miranda', 'Monica Iozzi', 'Murilo Benício', 'Márcio Garcia', 'Naiara Azevedo', 'Naldo', 'Nanda Costa', 'Narcisa', 'Nathalia Dill', 'Nathalia Timberg', 'Nego do Borel', 'Neymar', 'Odilon Wagner', 'Olivier Anquier', 'Oscar (Chelsea)', 'Oscar Schmidt', 'Otaviano Costa', 'Otávio Mesquita', 'Pabllo Vittar', 'Pablo do Arrocha', 'Palmirinha', 'Paloma Bernardi', 'Paola Carosella', 'Paolla Oliveira', 'Patricia Pillar', 'Patrícia Abravanel', 'Patrícia Poeta', 'Paula Fernandes', 'Paulinho', 'Paulo Betti', 'Paulo Gustavo', 'Paulo Miklos', 'Paulo Ricardo', 'Paulo Vilhena', 'Paulo Zulu', 'Pedro Bial', 'Pelé', 'Philippe Coutinho', 'Preta Gil', 'Priscila Fantin', 'Rachel Sheherazade', 'Rafa Brites', 'Rafael Cardoso', 'Rafael Infante', 'Rafael Nadal', 'Rafael Silva', 'Rafael Vitti', 'Rafinha Bastos', 'Ramires', 'Ratinho', 'Raul Gil', 'Rebeca Abravanel', 'Regina Casé', 'Regina Duarte', 'Renata Alves', 'Renata Kuerten', 'Renata Sorrah', 'Renato Augusto', 'Renato Cardoso', 'Renato Gaúcho', 'Reynaldo Gianecchini', 'Ricardo Amorim', 'Ricardo Tozzi', 'Rick Bonadio', 'Robert Scheidt', 'Roberta Almeida', 'Roberta Rodrigues', 'Roberto Cabrini', 'Roberto Justus', 'Rodrigo Faro', 'Rodrigo Hilbert', 'Rodrigo Lombardi', 'Rodrigo Santoro', 'Rodrigo Simas', 'Roger Federer', 'Romário', 'Ronaldinho Gaúcho', 'Ronaldo', 'Roupa Nova', 'Rubens Barrichello', 'Rômulo Arantes Neto', 'Rômulo Estrela', 'Sabrina Sato', 'Samantha Schmutz', 'Sandy', 'Saulo Fernandes', 'Selena Gomez', 'Selton Mello', 'Serginho (Vôlei)', 'Serginho Groisman', 'Shakira', 'Sheilla Castro', 'Sheron Menezzes', 'Sidney Oliveira', 'Silvia Abravanel', 'Simone e Simaria', 'Solange Almeida', 'Solange Frazão', 'Sophia Abrahão', 'Sophia Vergara', 'Sophie Charlotte', 'Susana Vieira', 'Sylvester Stallone', 'Sérgio Guizé', 'Sérgio Marone', 'Sérgio Sette Câmara', 'Tainá Müller', 'Tarcísio Meira', 'Tatá Werneck', 'Taís Araújo', 'Terry Crews', 'Thaila Ayala', 'Thaís Fersoza', 'Thiago Arancam', 'Thiago Braz', 'Thiago Fragoso', 'Thiago Lacerda', 'Thiago Martins', 'Thiago Pereira', 'Thiago Rodrigues', 'Thiago Silva', 'Thiaguinho', 'Tiago Abravanel', 'Tiago Iorc', 'Tiago Leifert', 'Ticiana Villas Boas', 'Ticiane Pinheiro', 'Tite', 'Tom Cavalcante', 'Tony Ramos', 'Totia Meireles', 'Usain Bolt', 'Valesca Popozuda', 'Vanessa Giácomo', 'Vera Holtz', 'Victor (jogador)', 'Victor e Leo', 'Vitor Belfort', 'Vitória Strada', 'Viviane Araújo', 'Vladimir Brichta', 'Wagner Moura', 'Wanessa Camargo', 'Wesley Safadão', 'Willian', 'Xuxa', 'Yane Marques', 'Yanna Lavigne', 'Yasmin Brunet', 'Zezé Di Camargo', 'Zezé Di Camargo e Luciano', 'Zé Neto e Cristiano', 'reynaldo gianecchini', 'Érick Jacquin'], [8, 9, 10, 11, 12, 13, 14, 15, 16, 17, 18, 19, 20, 21]],\n",
      "           labels=[[0, 1, 1, 1, 1, 2, 3, 4, 4, 4, 4, 4, 4, 4, 5, 5, 6, 7, 8, 8, 8, 8, 8, 9, 10, 10, 10, 10, 11, 11, 12, 12, 12, 12, 13, 13, 13, 13, 13, 13, 13, 13, 13, 14, 15, 15, 15, 16, 17, 17, 17, 17, 18, 19, 20, 21, 22, 23, 24, 24, 24, 24, 24, 24, 24, 24, 25, 25, 25, 25, 25, 25, 25, 25, 26, 27, 27, 27, 27, 27, 27, 28, 28, 28, 28, 28, 29, 30, 30, 30, 30, 30, 30, 30, 31, 32, 33, 33, 33, 34, 35, 35, 35, 35, 35, 36, 36, 36, 36, 36, 36, 36, 36, 36, 36, 36, 36, 37, 37, 37, 37, 37, 37, 37, 37, 37, 37, 37, 37, 37, 38, 39, 39, 40, 41, 41, 42, 43, 44, 44, 44, 45, 45, 46, 47, 48, 48, 48, 48, 48, 48, 48, 49, 49, 50, 50, 50, 50, 51, 52, 53, 54, 54, 55, 55, 55, 55, 55, 55, 55, 55, 55, 55, 55, 55, 55, 56, 57, 58, 59, 60, 60, 60, 60, 60, 60, 60, 60, 60, 60, 60, 61, 61, 61, 62, 63, 63, 63, 64, 65, 66, 67, 67, 67, 68, 68, 68, 68, 68, 68, 68, 68, 68, 68, 69, 69, 69, 70, 71, 71, 71, 71, 71, 71, 71, 72, 72, 72, 72, 72, 72, 73, 74, 75, 76, 76, 76, 76, 76, 76, 76, 76, 76, 77, 78, 78, 78, 78, 78, 78, 78, 79, 79, 79, 79, 80, 80, 81, 81, 81, 82, 83, 83, 84, 85, 85, 86, 86, 86, 86, 87, 88, 89, 89, 89, 89, 89, 89, 89, 89, 89, 89, 89, 90, 90, 90, 90, 90, 90, 90, 90, 90, 90, 91, 91, 91, 91, 91, 91, 91, 92, 92, 92, 92, 92, 93, 93, 94, 94, 95, 95, 95, 96, 97, 97, 98, 98, 98, 98, 98, 98, 98, 98, 98, 98, 98, 98, 98, 98, 99, 100, 100, 100, 101, 101, 101, 101, 101, 101, 102, 102, 102, 102, 102, 102, 102, 103, 104, 104, 105, 106, 106, 106, 107, 107, 108, 108, 109, 109, 109, 110, 110, 110, 110, 110, 111, 111, 111, 112, 113, 113, 113, 114, 114, 115, 115, 116, 117, 117, 117, 117, 118, 119, 119, 119, 119, 119, 119, 119, 119, 119, 119, 119, 119, 120, 121, 121, 121, 121, 121, 122, 123, 123, 123, 123, 123, 124, 125, 126, 127, 127, 128, 129, 130, 130, 130, 131, 131, 131, 131, 132, 132, 133, 134, 135, 136, 136, 136, 136, 137, 137, 137, 137, 137, 137, 137, 138, 138, 138, 138, 138, 139, 140, 140, 140, 140, 140, 140, 140, 140, 140, 140, 140, 140, 140, 141, 142, 143, 144, 145, 146, 147, 148, 149, 150, 151, 151, 151, 151, 151, 151, 151, 151, 151, 151, 151, 151, 152, 152, 152, 153, 154, 155, 155, 155, 156, 156, 156, 157, 158, 158, 158, 158, 158, 158, 158, 158, 158, 158, 158, 159, 159, 159, 160, 161, 161, 161, 161, 161, 162, 162, 162, 162, 162, 162, 162, 162, 162, 163, 163, 163, 163, 163, 163, 163, 164, 165, 165, 165, 166, 167, 167, 167, 168, 168, 168, 168, 169, 169, 170, 170, 170, 170, 170, 171, 172, 173, 174, 174, 175, 175, 176, 176, 176, 176, 176, 176, 176, 176, 177, 177, 177, 177, 177, 177, 177, 177, 177, 177, 177, 177, 177, 178, 178, 178, 178, 178, 178, 179, 179, 179, 180, 181, 181, 181, 181, 181, 181, 182, 183, 184, 184, 185, 186, 186, 186, 186, 186, 186, 186, 187, 188, 189, 189, 190, 190, 190, 190, 190, 190, 190, 190, 190, 190, 190, 190, 190, 191, 191, 191, 191, 191, 191, 191, 191, 192, 192, 192, 192, 192, 193, 193, 193, 193, 193, 193, 193, 193, 193, 193, 193, 193, 193, 193, 194, 195, 195, 195, 195, 195, 195, 195, 196, 196, 196, 196, 196, 196, 196, 196, 196, 196, 196, 196, 196, 197, 197, 197, 197, 197, 197, 198, 198, 198, 198, 199, 199, 199, 199, 199, 199, 199, 200, 200, 201, 202, 202, 202, 203, 204, 204, 204, 204, 204, 205, 206, 206, 206, 206, 207, 207, 207, 207, 208, 209, 209, 210, 211, 212, 212, 212, 213, 214, 214, 214, 214, 215, 215, 215, 216, 217, 217, 217, 217, 218, 218, 218, 218, 218, 218, 219, 220, 220, 220, 220, 220, 220, 220, 220, 221, 221, 222, 222, 222, 222, 222, 222, 222, 222, 222, 222, 222, 222, 222, 222, 223, 224, 225, 226, 227, 228, 228, 228, 228, 229, 230, 230, 231, 231, 231, 231, 231, 232, 232, 233, 234, 234, 235, 236, 237, 237, 237, 238, 238, 238, 238, 238, 238, 239, 239, 240, 240, 241, 242, 243, 243, 243, 244, 244, 244, 245, 246, 247, 247, 247, 247, 247, 247, 247, 247, 247, 247, 248, 248, 248, 249, 250, 250, 250, 251, 252, 252, 253, 253, 254, 254, 255, 255, 256, 257, 257, 257, 257, 258, 258, 258, 258, 258, 258, 259, 260, 260, 261, 261, 262, 262, 262, 263, 263, 263, 264, 265, 266, 267, 268, 269, 269, 269, 269, 269, 269, 270, 270, 270, 270, 270, 270, 270, 270, 270, 270, 271, 271, 272, 272, 272, 272, 272, 272, 272, 273, 273, 273, 274, 274, 274, 274, 274, 274, 274, 274, 274, 274, 274, 274, 275, 275, 275, 275, 276, 277, 278, 279, 280, 280, 280, 280, 280, 280, 281, 282, 282, 282, 282, 282, 282, 283, 283, 283, 283, 283, 284, 284, 285, 285, 285, 285, 286, 287, 287, 288, 288, 288, 288, 288, 288, 288, 288, 288, 289, 290, 290, 290, 290, 290, 291, 291, 292, 292, 292, 292, 293, 294, 295, 295, 295, 296, 296, 296, 296, 296, 296, 297, 297, 297, 297, 298, 298, 298, 299, 299, 300, 300, 300, 301, 301, 301, 301, 302, 303, 304, 304, 304, 305, 305, 306, 307, 307, 307, 307, 307, 307, 308, 308, 308, 309, 309, 309, 310, 311, 312, 313, 313, 313, 314, 314, 314, 315, 316, 316, 316, 316, 316, 316, 317, 317, 317, 317, 318, 318, 318, 318, 318, 318, 318, 318, 318, 318, 319, 320, 320, 321, 321, 321, 322, 323, 324, 325, 326, 326, 326, 326, 326, 326, 327, 327, 327, 327, 328, 328, 328, 328, 328, 328, 328, 329, 329, 329, 330, 331, 332, 333, 334, 334, 335, 336, 337, 337, 337, 337, 338, 338, 339, 339, 339, 339, 339, 339, 339, 339, 339, 340, 341, 342, 343, 343, 343, 343, 343, 343, 343, 343, 344, 344, 344, 345, 345, 345, 345, 345, 345, 345, 346, 347, 347, 348, 348, 349, 349, 350, 350, 350, 350, 350, 350, 350, 351, 352, 352, 353, 353, 353, 353, 353, 353, 353, 353, 353, 353, 353, 353, 353, 354, 355, 355, 356, 356, 357, 358, 358, 358, 358, 359, 360, 360, 361, 362, 362, 363, 363, 364, 364, 364, 365, 365, 365, 365, 365, 365, 365, 365, 365, 366, 367, 367, 367, 367, 367, 367, 367, 367, 367, 367, 368, 368, 368, 368, 369, 369, 369, 369, 370, 370, 370, 370, 370, 371, 372, 372, 372, 372, 373, 373, 374, 375, 376, 377, 377, 378, 378, 378, 378, 378, 379, 380, 380, 380, 380, 380, 381, 381, 381, 382, 382, 382, 382, 382, 383, 383, 384, 384, 384, 384, 384, 384, 385, 386, 387, 388, 389, 390, 391, 391, 391, 391, 391, 391, 391, 391, 391, 392, 392, 392, 392, 393, 393, 394, 394, 394, 394, 394, 394, 395, 395, 396, 397, 398, 399, 400, 401, 402, 402, 402, 402, 402, 402, 402, 402, 403, 404, 404, 405, 406, 407, 408, 409, 409, 409, 409, 409, 409, 410, 410, 411, 411, 411, 411, 411, 411, 411, 411, 411, 411, 411, 411, 411, 411, 412, 412, 412, 412, 412, 412, 412, 412, 412, 413, 413, 413, 413, 413, 413, 413, 414, 415, 416, 416, 417, 417, 418, 419, 419, 419, 420, 420, 420, 421, 422, 422, 423, 424, 424, 424, 424, 424, 424, 424, 424, 424, 424, 424, 424, 424, 424, 425, 426, 426, 426, 427, 427, 428, 429, 429, 430, 431, 431, 432, 432, 432, 432, 433, 434, 434, 435, 436, 436, 437, 437, 437, 437, 438, 438, 438, 438, 438, 438, 439, 439, 440, 440, 440, 440, 440, 441, 442, 442, 442, 442, 442, 443, 443, 443, 443, 444, 445, 445, 445, 445, 446, 446, 447, 448, 448, 448, 448, 448, 449, 449, 450, 450, 450, 450, 450, 450, 450, 450, 450, 450, 450, 450, 450, 451, 451, 451, 451, 451, 451, 451, 452, 452, 453, 453, 453, 453, 453, 454, 455, 456, 457, 457, 457, 457, 457, 457, 458, 458, 458, 458, 458, 459, 459, 459, 460, 461, 461, 462, 462, 462, 463, 463, 463, 463, 463, 464, 464, 465, 465, 466, 466, 466, 466, 466, 466, 466, 466, 467, 467, 467, 467, 467, 467, 468, 468, 469, 469, 469, 470, 471, 471, 471, 471, 471, 471, 471, 471, 471, 472, 473, 473, 474, 474, 475, 475, 475, 475, 475, 476, 477, 478, 478, 478, 479, 479, 479, 479, 480, 481, 481, 482, 482, 482, 483, 483, 483, 483, 484, 484, 484, 484, 484, 484, 485, 485, 485, 485, 485, 486, 487, 487, 487, 487, 487, 487, 487, 487, 487, 487, 488, 489, 490, 491, 492, 493, 494, 495, 495, 495], [4, 3, 4, 5, 10, 2, 12, 6, 7, 8, 9, 11, 12, 13, 3, 4, 1, 0, 0, 1, 2, 5, 8, 13, 2, 3, 4, 11, 0, 1, 5, 6, 8, 9, 0, 2, 4, 6, 7, 8, 9, 10, 13, 0, 7, 9, 10, 10, 0, 6, 10, 11, 9, 13, 10, 5, 2, 5, 2, 4, 5, 6, 7, 8, 9, 13, 3, 4, 5, 6, 7, 8, 9, 11, 5, 6, 9, 10, 11, 12, 13, 4, 5, 6, 10, 12, 10, 0, 1, 2, 3, 4, 6, 7, 0, 1, 4, 5, 6, 5, 4, 8, 11, 12, 13, 0, 1, 2, 3, 4, 5, 6, 7, 8, 9, 11, 13, 0, 1, 3, 4, 5, 6, 7, 8, 9, 10, 11, 12, 13, 8, 2, 3, 9, 4, 5, 6, 12, 6, 7, 13, 1, 5, 0, 2, 5, 7, 9, 10, 11, 12, 13, 4, 11, 0, 7, 12, 13, 0, 5, 7, 11, 12, 0, 1, 2, 4, 5, 6, 7, 8, 9, 10, 11, 12, 13, 10, 10, 13, 8, 3, 4, 5, 6, 7, 8, 9, 10, 11, 12, 13, 1, 5, 10, 5, 0, 1, 2, 6, 6, 0, 0, 4, 8, 0, 1, 4, 5, 6, 9, 10, 11, 12, 13, 10, 12, 13, 2, 1, 3, 4, 5, 6, 7, 8, 5, 6, 7, 8, 11, 13, 5, 1, 12, 0, 1, 3, 4, 6, 7, 9, 12, 13, 6, 6, 8, 9, 10, 11, 12, 13, 9, 10, 11, 13, 4, 7, 0, 2, 3, 0, 12, 13, 9, 0, 7, 0, 1, 5, 8, 13, 13, 0, 1, 2, 3, 4, 6, 7, 10, 11, 12, 13, 4, 5, 6, 7, 8, 9, 10, 11, 12, 13, 3, 4, 5, 6, 8, 9, 12, 9, 10, 11, 12, 13, 4, 8, 5, 6, 5, 6, 10, 0, 0, 1, 0, 1, 2, 3, 4, 5, 6, 7, 8, 9, 10, 11, 12, 13, 9, 3, 8, 9, 2, 4, 9, 10, 12, 13, 5, 6, 7, 8, 9, 11, 13, 1, 7, 11, 6, 10, 12, 13, 5, 6, 4, 12, 5, 6, 7, 0, 1, 2, 3, 4, 2, 11, 13, 8, 1, 4, 7, 9, 11, 1, 13, 12, 1, 5, 6, 8, 0, 0, 1, 3, 4, 5, 6, 8, 9, 10, 11, 12, 13, 2, 0, 1, 2, 12, 13, 3, 0, 1, 4, 7, 13, 3, 0, 9, 2, 3, 0, 3, 1, 5, 8, 3, 4, 5, 6, 5, 6, 3, 13, 5, 4, 9, 11, 12, 0, 3, 7, 8, 11, 12, 13, 4, 5, 8, 10, 12, 4, 0, 1, 3, 4, 5, 6, 7, 8, 9, 10, 11, 12, 13, 13, 8, 9, 11, 4, 13, 13, 13, 1, 1, 0, 1, 2, 3, 4, 5, 6, 7, 8, 9, 10, 12, 0, 5, 10, 0, 7, 8, 11, 13, 0, 1, 2, 10, 0, 1, 2, 4, 5, 6, 7, 8, 10, 11, 12, 1, 3, 12, 2, 2, 7, 8, 9, 13, 3, 5, 6, 7, 9, 10, 11, 12, 13, 0, 1, 2, 3, 5, 12, 13, 8, 2, 3, 8, 2, 1, 2, 3, 0, 1, 4, 11, 5, 11, 0, 1, 2, 7, 8, 13, 9, 2, 5, 6, 0, 5, 0, 1, 4, 5, 6, 7, 9, 13, 0, 1, 2, 3, 4, 5, 6, 7, 8, 10, 11, 12, 13, 0, 1, 3, 4, 5, 12, 10, 11, 13, 6, 3, 4, 5, 10, 11, 13, 1, 13, 7, 8, 0, 6, 8, 9, 10, 11, 12, 13, 12, 3, 7, 12, 0, 1, 2, 3, 5, 6, 7, 8, 9, 10, 11, 12, 13, 0, 2, 6, 7, 10, 11, 12, 13, 4, 7, 8, 9, 13, 0, 1, 2, 3, 4, 5, 6, 7, 8, 9, 10, 11, 12, 13, 6, 3, 4, 5, 7, 10, 12, 13, 0, 1, 2, 3, 4, 5, 6, 7, 9, 10, 11, 12, 13, 0, 1, 2, 3, 4, 5, 4, 7, 10, 11, 5, 6, 7, 8, 9, 10, 11, 3, 11, 11, 8, 11, 13, 0, 0, 5, 8, 9, 13, 2, 5, 6, 12, 13, 4, 5, 9, 12, 2, 7, 8, 2, 9, 0, 1, 12, 13, 4, 5, 8, 13, 0, 1, 10, 6, 7, 8, 9, 13, 2, 5, 7, 9, 11, 12, 3, 1, 2, 4, 7, 10, 11, 12, 13, 2, 3, 0, 1, 2, 3, 4, 5, 6, 7, 8, 9, 10, 11, 12, 13, 2, 9, 3, 0, 10, 8, 9, 11, 13, 2, 4, 6, 0, 1, 2, 3, 4, 0, 1, 2, 4, 12, 9, 4, 8, 10, 11, 0, 3, 4, 9, 10, 11, 4, 8, 5, 9, 4, 13, 0, 11, 13, 0, 1, 6, 3, 6, 0, 1, 2, 3, 4, 5, 7, 10, 11, 12, 2, 3, 7, 7, 0, 7, 12, 9, 2, 12, 7, 8, 0, 9, 1, 2, 1, 10, 11, 12, 13, 3, 4, 7, 8, 12, 13, 7, 6, 10, 0, 1, 0, 3, 4, 4, 5, 8, 3, 7, 13, 12, 5, 0, 5, 8, 9, 10, 13, 1, 2, 3, 4, 5, 6, 9, 11, 12, 13, 3, 4, 1, 2, 3, 4, 5, 8, 13, 0, 1, 2, 0, 1, 3, 4, 5, 6, 7, 8, 10, 11, 12, 13, 6, 10, 11, 13, 5, 5, 2, 8, 0, 2, 3, 4, 6, 9, 0, 1, 5, 7, 8, 11, 13, 2, 4, 8, 10, 12, 1, 5, 8, 9, 11, 12, 2, 8, 9, 0, 1, 2, 3, 4, 8, 9, 12, 13, 8, 0, 4, 9, 12, 13, 2, 13, 7, 8, 9, 10, 3, 8, 1, 11, 13, 0, 1, 2, 3, 4, 5, 9, 10, 12, 13, 7, 11, 12, 1, 2, 5, 6, 8, 0, 3, 4, 5, 0, 8, 5, 10, 13, 5, 11, 13, 0, 3, 4, 5, 7, 11, 3, 5, 8, 4, 11, 12, 4, 3, 13, 0, 2, 7, 2, 3, 5, 12, 0, 5, 7, 8, 9, 10, 5, 6, 12, 13, 2, 3, 4, 5, 6, 7, 10, 11, 12, 13, 0, 8, 9, 2, 4, 7, 5, 3, 13, 10, 1, 4, 5, 6, 10, 12, 9, 11, 12, 13, 0, 1, 7, 8, 10, 11, 12, 10, 12, 13, 1, 3, 6, 2, 1, 10, 3, 1, 0, 1, 10, 13, 2, 9, 0, 1, 2, 3, 6, 7, 9, 11, 12, 6, 0, 13, 1, 4, 5, 6, 7, 8, 10, 11, 1, 2, 9, 0, 4, 9, 10, 11, 12, 13, 11, 0, 1, 4, 11, 0, 1, 0, 3, 4, 7, 8, 10, 13, 3, 12, 13, 0, 2, 3, 4, 5, 6, 7, 8, 9, 10, 11, 12, 13, 12, 0, 5, 1, 2, 0, 5, 7, 8, 10, 5, 12, 13, 3, 0, 1, 3, 9, 5, 6, 12, 0, 1, 2, 4, 9, 10, 11, 12, 13, 7, 3, 4, 5, 6, 8, 9, 10, 11, 12, 13, 3, 6, 11, 13, 0, 3, 4, 5, 0, 1, 2, 12, 13, 4, 0, 1, 4, 11, 4, 9, 5, 4, 0, 4, 13, 0, 1, 2, 3, 4, 13, 2, 3, 5, 11, 13, 1, 4, 7, 4, 5, 6, 8, 13, 5, 10, 4, 8, 9, 10, 12, 13, 1, 12, 3, 10, 1, 2, 4, 5, 6, 8, 9, 10, 11, 12, 13, 5, 6, 10, 11, 12, 13, 0, 1, 3, 6, 8, 9, 8, 9, 6, 2, 6, 13, 6, 0, 0, 1, 2, 5, 6, 7, 8, 9, 12, 1, 13, 9, 3, 3, 7, 6, 9, 10, 11, 12, 13, 6, 8, 0, 1, 2, 3, 4, 5, 6, 7, 8, 9, 10, 11, 12, 13, 0, 1, 3, 4, 5, 6, 10, 12, 13, 1, 5, 6, 7, 10, 11, 12, 7, 13, 11, 13, 0, 1, 0, 0, 2, 10, 7, 8, 9, 5, 4, 7, 13, 0, 1, 2, 3, 4, 5, 6, 7, 8, 9, 10, 11, 12, 13, 4, 5, 10, 11, 0, 3, 5, 1, 7, 11, 5, 13, 0, 1, 2, 3, 2, 3, 8, 13, 12, 13, 10, 11, 12, 13, 0, 1, 2, 3, 4, 13, 0, 1, 4, 7, 8, 10, 13, 1, 3, 4, 5, 7, 11, 3, 6, 7, 11, 0, 3, 7, 12, 13, 5, 6, 13, 1, 2, 3, 5, 12, 8, 9, 0, 1, 2, 3, 4, 5, 7, 8, 9, 10, 11, 12, 13, 3, 6, 7, 8, 10, 11, 13, 0, 2, 0, 2, 5, 7, 8, 11, 3, 9, 1, 3, 4, 5, 11, 13, 1, 3, 4, 8, 9, 3, 5, 11, 3, 0, 5, 0, 1, 2, 1, 4, 5, 11, 13, 0, 5, 10, 11, 3, 4, 5, 7, 9, 10, 12, 13, 5, 6, 8, 9, 10, 11, 5, 6, 10, 11, 13, 9, 0, 2, 3, 5, 6, 7, 10, 11, 13, 12, 2, 9, 1, 2, 2, 6, 7, 11, 12, 10, 2, 5, 7, 10, 0, 1, 2, 5, 13, 3, 4, 5, 10, 12, 0, 5, 6, 13, 0, 1, 9, 10, 11, 13, 7, 8, 10, 11, 12, 2, 0, 1, 2, 4, 5, 6, 7, 8, 11, 13, 3, 8, 2, 13, 10, 9, 10, 5, 6, 12]],\n",
      "           names=['CELEBRIDADE', 'FLIGHT'])\n"
     ]
    }
   ],
   "source": [
    "idc = df_awareness.index\n",
    "print(idc)"
   ]
  },
  {
   "cell_type": "code",
   "execution_count": 93,
   "metadata": {},
   "outputs": [
    {
     "name": "stdout",
     "output_type": "stream",
     "text": [
      "AW                            N      S  AWARENESS AWARENESS_NIVEL\n",
      "CELEBRIDADE        FLIGHT                                        \n",
      "Alessandra Negrini 21      69.0  144.0   0.676056            Alto\n"
     ]
    }
   ],
   "source": [
    "print(df_awareness.loc[['Alessandra Negrini', '21']])"
   ]
  },
  {
   "cell_type": "markdown",
   "metadata": {},
   "source": [
    "---"
   ]
  }
 ],
 "metadata": {
  "kernelspec": {
   "display_name": "Python 3",
   "language": "python",
   "name": "python3"
  },
  "language_info": {
   "codemirror_mode": {
    "name": "ipython",
    "version": 3
   },
   "file_extension": ".py",
   "mimetype": "text/x-python",
   "name": "python",
   "nbconvert_exporter": "python",
   "pygments_lexer": "ipython3",
   "version": "3.6.5"
  }
 },
 "nbformat": 4,
 "nbformat_minor": 2
}
