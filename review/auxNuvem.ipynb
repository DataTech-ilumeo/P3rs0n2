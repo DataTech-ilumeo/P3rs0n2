{
 "cells": [
  {
   "cell_type": "code",
   "execution_count": 1,
   "metadata": {},
   "outputs": [],
   "source": [
    "import numpy as np\n",
    "import pandas as pd"
   ]
  },
  {
   "cell_type": "code",
   "execution_count": 2,
   "metadata": {},
   "outputs": [],
   "source": [
    "OPT_GERAR_AUX_NUVEM = 0"
   ]
  },
  {
   "cell_type": "code",
   "execution_count": 3,
   "metadata": {},
   "outputs": [],
   "source": [
    "PATH = r'C:\\Users\\Kevin Nakasaki\\Documents\\KEVIN\\DT_PROJETOS\\PERSONA - SERIE HISTORICA\\Importacao'"
   ]
  },
  {
   "cell_type": "code",
   "execution_count": 4,
   "metadata": {},
   "outputs": [],
   "source": [
    "df = pd.read_csv(PATH + '\\SERIE_HISTORICA_v2.txt', sep='\\t', encoding= 'ISO-8859-1')"
   ]
  },
  {
   "cell_type": "code",
   "execution_count": 5,
   "metadata": {},
   "outputs": [],
   "source": [
    "try:\n",
    "    df = df[pd.Series(['ID', 'FLIGHT', 'CELEBRIDADE',\n",
    "       'OPINIAO'])]\n",
    "\n",
    "    del df['IP', 'ESTADO', 'IDADE', 'ESTADO_CIVIL',\n",
    "       'TEM_FILHOS', 'RENDA', 'ESCOLARIDADE', 'SEXO', 'AWARENESS', 'NOME',\n",
    "           'LEMBRANCA_DE_MARCA', 'GOSTO_MUITO', 'ME_IDENTIFICO',\n",
    "       'TENHO_RESPEITO', 'PRESTO_ATENCAO', 'CONFIO',\n",
    "       'MUITO_BOM_NAQUILO_QUE_FAZ', 'INTELIGENTE', 'DETERMINADO', 'HONESTO',\n",
    "       'ENGRAÇADO', 'LINDO', 'SEDUTOR', 'DO_POVO', 'CARA_DO_BRASIL',\n",
    "       'INOVADOR', 'GOSTA_DE_DESAFIOS', 'TENHO_VISTO_NA_MIDIA',\n",
    "       'BOA_PARA_PROPAGANDA', 'COMPRARIA_PRODUTOS_QUE_ANUNCIASSE',\n",
    "       'BOA_PARA_PROPAGANDA_PROJETOS_SOCIAIS',\n",
    "       'ME_ENVOLVERIA_COM_PROJETOS_SOCIAIS_QUE_ANUNCIASSE',\n",
    "       'INDICARIA_PARA_AMIGOS_MARCAS',\n",
    "       'COMENTARIA_COM_AMIGOS_PROJETOS_SOCIAIS_QUE_ANUNCIASSE']\n",
    "except:\n",
    "    pass"
   ]
  },
  {
   "cell_type": "code",
   "execution_count": 6,
   "metadata": {},
   "outputs": [],
   "source": [
    "df[\"IX\"] = df[\"ID\"]\n",
    "df = df.set_index(\"IX\")"
   ]
  },
  {
   "cell_type": "code",
   "execution_count": 7,
   "metadata": {},
   "outputs": [],
   "source": [
    "def loadDF(file, enc=\"UTF-8\", sep=','): return pd.read_csv(PATH+ r'\\{0}.txt'.format(file), encoding=enc, sep=sep)"
   ]
  },
  {
   "cell_type": "code",
   "execution_count": 8,
   "metadata": {},
   "outputs": [],
   "source": [
    "def writeDF(dfr, file, enc=\"UTF-8\", sep=','): return dfr.to_csv(PATH+ r'\\{0}.txt'.format(file), header=True, encoding=enc, sep=\",\", float_format=\"%.3f\")"
   ]
  },
  {
   "cell_type": "code",
   "execution_count": 9,
   "metadata": {},
   "outputs": [
    {
     "name": "stdout",
     "output_type": "stream",
     "text": [
      "            ID  FLIGHT          CELEBRIDADE  \\\n",
      "IX                                            \n",
      "1            1       8              Alcione   \n",
      "2            2       8              Alcione   \n",
      "3            3       8              Alcione   \n",
      "4            4       8              Alcione   \n",
      "5            5       8              Alcione   \n",
      "6            6       8              Alcione   \n",
      "7            7       8              Alcione   \n",
      "8            8       8              Alcione   \n",
      "9            9       8              Alcione   \n",
      "10          10       8              Alcione   \n",
      "11          11       8              Alcione   \n",
      "12          12       8              Alcione   \n",
      "13          13       8              Alcione   \n",
      "14          14       8              Alcione   \n",
      "15          15       8              Alcione   \n",
      "16          16       8              Alcione   \n",
      "17          17       8              Alcione   \n",
      "18          18       8              Alcione   \n",
      "19          19       8              Alcione   \n",
      "20          20       8              Alcione   \n",
      "21          21       8              Alcione   \n",
      "22          22       8              Alcione   \n",
      "23          23       8              Alcione   \n",
      "24          24       8              Alcione   \n",
      "25          25       8              Alcione   \n",
      "26          26       8              Alcione   \n",
      "27          27       8              Alcione   \n",
      "28          28       8              Alcione   \n",
      "29          29       8              Alcione   \n",
      "30          30       8              Alcione   \n",
      "...        ...     ...                  ...   \n",
      "342873  342873      21  Sérgio Sette Câmara   \n",
      "342874  342874      21  Sérgio Sette Câmara   \n",
      "342875  342875      21  Sérgio Sette Câmara   \n",
      "342876  342876      21  Sérgio Sette Câmara   \n",
      "342877  342877      21  Sérgio Sette Câmara   \n",
      "342878  342878      21  Sérgio Sette Câmara   \n",
      "342879  342879      21  Sérgio Sette Câmara   \n",
      "342880  342880      21  Sérgio Sette Câmara   \n",
      "342881  342881      21  Sérgio Sette Câmara   \n",
      "342882  342882      21  Sérgio Sette Câmara   \n",
      "342883  342883      21  Sérgio Sette Câmara   \n",
      "342884  342884      21  Sérgio Sette Câmara   \n",
      "342885  342885      21  Sérgio Sette Câmara   \n",
      "342886  342886      21  Sérgio Sette Câmara   \n",
      "342887  342887      21  Sérgio Sette Câmara   \n",
      "342888  342888      21  Sérgio Sette Câmara   \n",
      "342889  342889      21  Sérgio Sette Câmara   \n",
      "342890  342890      21  Sérgio Sette Câmara   \n",
      "342891  342891      21  Sérgio Sette Câmara   \n",
      "342892  342892      21  Sérgio Sette Câmara   \n",
      "342893  342893      21  Sérgio Sette Câmara   \n",
      "342894  342894      21  Sérgio Sette Câmara   \n",
      "342895  342895      21  Sérgio Sette Câmara   \n",
      "342896  342896      21  Sérgio Sette Câmara   \n",
      "342897  342897      21  Sérgio Sette Câmara   \n",
      "342898  342898      21  Sérgio Sette Câmara   \n",
      "342899  342899      21  Sérgio Sette Câmara   \n",
      "342900  342900      21  Sérgio Sette Câmara   \n",
      "342901  342901      21  Sérgio Sette Câmara   \n",
      "342902  342902      21  Sérgio Sette Câmara   \n",
      "\n",
      "                                                  OPINIAO  \n",
      "IX                                                         \n",
      "1                                           ótima cantora  \n",
      "2                            Ela.é.uma.esselente.cantora.  \n",
      "3       Canta muito bem, tem uma voz linda e acho uma ...  \n",
      "4             Adoro ela, sempre querida e muito simpatica  \n",
      "5                                           OTIMA CANTORa  \n",
      "6       Também uma mulher guerreira, batalhadora. Mulh...  \n",
      "7                                       Um ótima cantora.  \n",
      "8                Gosto dela, ela é uma pessoa carismática  \n",
      "9       Adoro suas músicas,amo sua voz,uma grande cantora  \n",
      "10                            Não escuto as musicas dela.  \n",
      "11                                    grande ícone da mpb  \n",
      "12      Cantora muito respeitada, voz belissima, sempr...  \n",
      "13      Não a conheço pessoalmente mas adoro as musica...  \n",
      "14                        nada,não gosto das musicas dela  \n",
      "15                                          Otima cantora  \n",
      "16                                     Uma ótima cantora.  \n",
      "17                   Corajosa, batalhadora, otima cantora  \n",
      "18                      PEssoa do bem e de muito sucesso.  \n",
      "19                  personalidade forte uma otima cantora  \n",
      "20                               adorooooo muito a marrom  \n",
      "21                                     Adoro o samba dela  \n",
      "22                                              Talentosa  \n",
      "23                         Ela é Maravilhosa!!! Adoro ela  \n",
      "24                                          Muito popular  \n",
      "25                                      UMA ÓTIMA CANTORA  \n",
      "26        é uma pessoa carismática, simpática e divertida  \n",
      "27                                           interessante  \n",
      "28                               òtima cantora e sambista  \n",
      "29                                     Uma ótima cantora.  \n",
      "30                                                  otima  \n",
      "...                                                   ...  \n",
      "342873                                                  0  \n",
      "342874                                                  0  \n",
      "342875                                                  0  \n",
      "342876                                                  0  \n",
      "342877                                                  0  \n",
      "342878                                                  0  \n",
      "342879                                                  0  \n",
      "342880                                                  0  \n",
      "342881                                                  0  \n",
      "342882                                                  0  \n",
      "342883                                                  0  \n",
      "342884                                                  0  \n",
      "342885                                                  0  \n",
      "342886                                                  0  \n",
      "342887                                                  0  \n",
      "342888                                                  0  \n",
      "342889                                                  0  \n",
      "342890                                                  0  \n",
      "342891                                                  0  \n",
      "342892                                                  0  \n",
      "342893                                                  0  \n",
      "342894                                                  0  \n",
      "342895                                                  0  \n",
      "342896                                                  0  \n",
      "342897                                                  0  \n",
      "342898                                                  0  \n",
      "342899                                                  0  \n",
      "342900                                                  0  \n",
      "342901                                                  0  \n",
      "342902                                                  0  \n",
      "\n",
      "[342902 rows x 4 columns]\n"
     ]
    }
   ],
   "source": [
    "print(df)"
   ]
  },
  {
   "cell_type": "code",
   "execution_count": 10,
   "metadata": {},
   "outputs": [],
   "source": [
    "df_nuvem = df.copy()"
   ]
  },
  {
   "cell_type": "code",
   "execution_count": 11,
   "metadata": {},
   "outputs": [
    {
     "name": "stdout",
     "output_type": "stream",
     "text": [
      "    ID  FLIGHT CELEBRIDADE                                            OPINIAO\n",
      "IX                                                                           \n",
      "1    1       8     Alcione                                      ótima cantora\n",
      "2    2       8     Alcione                       Ela.é.uma.esselente.cantora.\n",
      "3    3       8     Alcione  Canta muito bem, tem uma voz linda e acho uma ...\n",
      "4    4       8     Alcione        Adoro ela, sempre querida e muito simpatica\n",
      "5    5       8     Alcione                                      OTIMA CANTORa\n"
     ]
    }
   ],
   "source": [
    "print(df_nuvem.head())"
   ]
  },
  {
   "cell_type": "code",
   "execution_count": 12,
   "metadata": {
    "scrolled": true
   },
   "outputs": [
    {
     "data": {
      "text/plain": [
       "IX\n",
       "1                                             ótima cantora\n",
       "2                              ela.é.uma.esselente.cantora.\n",
       "3         canta muito bem, tem uma voz linda e acho uma ...\n",
       "4               adoro ela, sempre querida e muito simpatica\n",
       "5                                             otima cantora\n",
       "6         também uma mulher guerreira, batalhadora. mulh...\n",
       "7                                         um ótima cantora.\n",
       "8                  gosto dela, ela é uma pessoa carismática\n",
       "9         adoro suas músicas,amo sua voz,uma grande cantora\n",
       "10                              não escuto as musicas dela.\n",
       "11                                      grande ícone da mpb\n",
       "12        cantora muito respeitada, voz belissima, sempr...\n",
       "13        não a conheço pessoalmente mas adoro as musica...\n",
       "14                          nada,não gosto das musicas dela\n",
       "15                                            otima cantora\n",
       "16                                       uma ótima cantora.\n",
       "17                     corajosa, batalhadora, otima cantora\n",
       "18                        pessoa do bem e de muito sucesso.\n",
       "19                    personalidade forte uma otima cantora\n",
       "20                                 adorooooo muito a marrom\n",
       "21                                       adoro o samba dela\n",
       "22                                                talentosa\n",
       "23                           ela é maravilhosa!!! adoro ela\n",
       "24                                            muito popular\n",
       "25                                        uma ótima cantora\n",
       "26          é uma pessoa carismática, simpática e divertida\n",
       "27                                             interessante\n",
       "28                                 òtima cantora e sambista\n",
       "29                                       uma ótima cantora.\n",
       "30                                                    otima\n",
       "                                ...                        \n",
       "342873                                                    0\n",
       "342874                                                    0\n",
       "342875                                                    0\n",
       "342876                                                    0\n",
       "342877                                                    0\n",
       "342878                                                    0\n",
       "342879                                                    0\n",
       "342880                                                    0\n",
       "342881                                                    0\n",
       "342882                                                    0\n",
       "342883                                                    0\n",
       "342884                                                    0\n",
       "342885                                                    0\n",
       "342886                                                    0\n",
       "342887                                                    0\n",
       "342888                                                    0\n",
       "342889                                                    0\n",
       "342890                                                    0\n",
       "342891                                                    0\n",
       "342892                                                    0\n",
       "342893                                                    0\n",
       "342894                                                    0\n",
       "342895                                                    0\n",
       "342896                                                    0\n",
       "342897                                                    0\n",
       "342898                                                    0\n",
       "342899                                                    0\n",
       "342900                                                    0\n",
       "342901                                                    0\n",
       "342902                                                    0\n",
       "Name: OPINIAO, Length: 342902, dtype: object"
      ]
     },
     "execution_count": 12,
     "metadata": {},
     "output_type": "execute_result"
    }
   ],
   "source": [
    "df_nuvem = df_nuvem['OPINIAO'].str.lower()\n",
    "type(df_nuvem)\n",
    "df_nuvem"
   ]
  },
  {
   "cell_type": "code",
   "execution_count": 13,
   "metadata": {},
   "outputs": [],
   "source": [
    "#if OPT_GERAR_AUX_NUVEM == 1:\n",
    "#    writeDF(df_nuvem, 'auxNUVEM')\n",
    "#    print('Arquivo exportado')"
   ]
  }
 ],
 "metadata": {
  "kernelspec": {
   "display_name": "Python 3",
   "language": "python",
   "name": "python3"
  },
  "language_info": {
   "codemirror_mode": {
    "name": "ipython",
    "version": 3
   },
   "file_extension": ".py",
   "mimetype": "text/x-python",
   "name": "python",
   "nbconvert_exporter": "python",
   "pygments_lexer": "ipython3",
   "version": "3.6.5"
  }
 },
 "nbformat": 4,
 "nbformat_minor": 2
}
