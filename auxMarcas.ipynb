{
 "cells": [
  {
   "cell_type": "code",
   "execution_count": 1,
   "metadata": {},
   "outputs": [],
   "source": [
    "import numpy as np\n",
    "import pandas as pd"
   ]
  },
  {
   "cell_type": "code",
   "execution_count": 2,
   "metadata": {},
   "outputs": [],
   "source": [
    "OPT_GERAR_AUX_MARCAS = 1"
   ]
  },
  {
   "cell_type": "code",
   "execution_count": 3,
   "metadata": {},
   "outputs": [],
   "source": [
    "PATH = r'C:\\Users\\Kevin Nakasaki\\Documents\\KEVIN\\DT_PROJETOS\\PERSONA - SERIE HISTORICA\\Importacao'"
   ]
  },
  {
   "cell_type": "code",
   "execution_count": 4,
   "metadata": {},
   "outputs": [],
   "source": [
    "df = pd.read_csv(PATH + '\\SERIE_HISTORICA_v2.txt', sep='\\t', encoding= 'ISO-8859-1')"
   ]
  },
  {
   "cell_type": "code",
   "execution_count": 5,
   "metadata": {},
   "outputs": [],
   "source": [
    "try:\n",
    "    df = df[pd.Series(['ID', 'FLIGHT', 'CELEBRIDADE',\n",
    "       'LEMBRANCA_DE_MARCA'])]\n",
    "\n",
    "    del df['IP', 'ESTADO', 'IDADE', 'ESTADO_CIVIL',\n",
    "       'TEM_FILHOS', 'RENDA', 'ESCOLARIDADE', 'SEXO', 'AWARENESS', 'NOME',\n",
    "           'OPINIAO', 'GOSTO_MUITO', 'ME_IDENTIFICO',\n",
    "       'TENHO_RESPEITO', 'PRESTO_ATENCAO', 'CONFIO',\n",
    "       'MUITO_BOM_NAQUILO_QUE_FAZ', 'INTELIGENTE', 'DETERMINADO', 'HONESTO',\n",
    "       'ENGRAÇADO', 'LINDO', 'SEDUTOR', 'DO_POVO', 'CARA_DO_BRASIL',\n",
    "       'INOVADOR', 'GOSTA_DE_DESAFIOS', 'TENHO_VISTO_NA_MIDIA',\n",
    "       'BOA_PARA_PROPAGANDA', 'COMPRARIA_PRODUTOS_QUE_ANUNCIASSE',\n",
    "       'BOA_PARA_PROPAGANDA_PROJETOS_SOCIAIS',\n",
    "       'ME_ENVOLVERIA_COM_PROJETOS_SOCIAIS_QUE_ANUNCIASSE',\n",
    "       'INDICARIA_PARA_AMIGOS_MARCAS',\n",
    "       'COMENTARIA_COM_AMIGOS_PROJETOS_SOCIAIS_QUE_ANUNCIASSE']\n",
    "except:\n",
    "    pass"
   ]
  },
  {
   "cell_type": "code",
   "execution_count": 6,
   "metadata": {},
   "outputs": [],
   "source": [
    "df[\"IX\"] = df[\"ID\"]\n",
    "df = df.set_index(\"IX\")"
   ]
  },
  {
   "cell_type": "code",
   "execution_count": 7,
   "metadata": {},
   "outputs": [],
   "source": [
    "def loadDF(file, enc=\"UTF-8\", sep=','): return pd.read_csv(PATH+ r'\\{0}.txt'.format(file), encoding=enc, sep=sep)"
   ]
  },
  {
   "cell_type": "code",
   "execution_count": 8,
   "metadata": {},
   "outputs": [],
   "source": [
    "def writeDF(dfr, file, enc=\"UTF-8\", sep=','): return dfr.to_csv(PATH+ r'\\{0}.txt'.format(file), header=True, encoding=enc, sep=\",\", float_format=\"%.3f\")"
   ]
  },
  {
   "cell_type": "code",
   "execution_count": 9,
   "metadata": {},
   "outputs": [
    {
     "name": "stdout",
     "output_type": "stream",
     "text": [
      "            ID  FLIGHT          CELEBRIDADE  \\\n",
      "IX                                            \n",
      "1            1       8              Alcione   \n",
      "2            2       8              Alcione   \n",
      "3            3       8              Alcione   \n",
      "4            4       8              Alcione   \n",
      "5            5       8              Alcione   \n",
      "6            6       8              Alcione   \n",
      "7            7       8              Alcione   \n",
      "8            8       8              Alcione   \n",
      "9            9       8              Alcione   \n",
      "10          10       8              Alcione   \n",
      "11          11       8              Alcione   \n",
      "12          12       8              Alcione   \n",
      "13          13       8              Alcione   \n",
      "14          14       8              Alcione   \n",
      "15          15       8              Alcione   \n",
      "16          16       8              Alcione   \n",
      "17          17       8              Alcione   \n",
      "18          18       8              Alcione   \n",
      "19          19       8              Alcione   \n",
      "20          20       8              Alcione   \n",
      "21          21       8              Alcione   \n",
      "22          22       8              Alcione   \n",
      "23          23       8              Alcione   \n",
      "24          24       8              Alcione   \n",
      "25          25       8              Alcione   \n",
      "26          26       8              Alcione   \n",
      "27          27       8              Alcione   \n",
      "28          28       8              Alcione   \n",
      "29          29       8              Alcione   \n",
      "30          30       8              Alcione   \n",
      "...        ...     ...                  ...   \n",
      "342873  342873      21  Sérgio Sette Câmara   \n",
      "342874  342874      21  Sérgio Sette Câmara   \n",
      "342875  342875      21  Sérgio Sette Câmara   \n",
      "342876  342876      21  Sérgio Sette Câmara   \n",
      "342877  342877      21  Sérgio Sette Câmara   \n",
      "342878  342878      21  Sérgio Sette Câmara   \n",
      "342879  342879      21  Sérgio Sette Câmara   \n",
      "342880  342880      21  Sérgio Sette Câmara   \n",
      "342881  342881      21  Sérgio Sette Câmara   \n",
      "342882  342882      21  Sérgio Sette Câmara   \n",
      "342883  342883      21  Sérgio Sette Câmara   \n",
      "342884  342884      21  Sérgio Sette Câmara   \n",
      "342885  342885      21  Sérgio Sette Câmara   \n",
      "342886  342886      21  Sérgio Sette Câmara   \n",
      "342887  342887      21  Sérgio Sette Câmara   \n",
      "342888  342888      21  Sérgio Sette Câmara   \n",
      "342889  342889      21  Sérgio Sette Câmara   \n",
      "342890  342890      21  Sérgio Sette Câmara   \n",
      "342891  342891      21  Sérgio Sette Câmara   \n",
      "342892  342892      21  Sérgio Sette Câmara   \n",
      "342893  342893      21  Sérgio Sette Câmara   \n",
      "342894  342894      21  Sérgio Sette Câmara   \n",
      "342895  342895      21  Sérgio Sette Câmara   \n",
      "342896  342896      21  Sérgio Sette Câmara   \n",
      "342897  342897      21  Sérgio Sette Câmara   \n",
      "342898  342898      21  Sérgio Sette Câmara   \n",
      "342899  342899      21  Sérgio Sette Câmara   \n",
      "342900  342900      21  Sérgio Sette Câmara   \n",
      "342901  342901      21  Sérgio Sette Câmara   \n",
      "342902  342902      21  Sérgio Sette Câmara   \n",
      "\n",
      "                           LEMBRANCA_DE_MARCA  \n",
      "IX                                             \n",
      "1                                         não  \n",
      "2                                         Não  \n",
      "3                                         Não  \n",
      "4                                         nao  \n",
      "5                                         não  \n",
      "6                    Não me lembro de nenhum.  \n",
      "7                                         Não  \n",
      "8                                  Não lembro  \n",
      "9                                         Não  \n",
      "10                                        Não  \n",
      "11                                 não lembro  \n",
      "12                              não me lembro  \n",
      "13                                        Não  \n",
      "14                                        não  \n",
      "15                                         cd  \n",
      "16                                        Não  \n",
      "17                                 Não lembro  \n",
      "18                                        Não  \n",
      "19                      cantando samba recife  \n",
      "20                                        não  \n",
      "21                                 nao lembro  \n",
      "22                                        Não  \n",
      "23          Sim...da Campanha Maria da Penha,  \n",
      "24                                 nao lembro  \n",
      "25                            NAO, NÃO LEMBRO  \n",
      "26      Sim, mas não lembro qual a propaganda  \n",
      "27                                        sim  \n",
      "28                                        Sim  \n",
      "29                                        Não  \n",
      "30                                        nao  \n",
      "...                                       ...  \n",
      "342873                                      0  \n",
      "342874                                      0  \n",
      "342875                                      0  \n",
      "342876                                      0  \n",
      "342877                                      0  \n",
      "342878                                      0  \n",
      "342879                                      0  \n",
      "342880                                      0  \n",
      "342881                                      0  \n",
      "342882                                      0  \n",
      "342883                                      0  \n",
      "342884                                      0  \n",
      "342885                                      0  \n",
      "342886                                      0  \n",
      "342887                                      0  \n",
      "342888                                      0  \n",
      "342889                                      0  \n",
      "342890                                      0  \n",
      "342891                                      0  \n",
      "342892                                      0  \n",
      "342893                                      0  \n",
      "342894                                      0  \n",
      "342895                                      0  \n",
      "342896                                      0  \n",
      "342897                                      0  \n",
      "342898                                      0  \n",
      "342899                                      0  \n",
      "342900                                      0  \n",
      "342901                                      0  \n",
      "342902                                      0  \n",
      "\n",
      "[342902 rows x 4 columns]\n"
     ]
    }
   ],
   "source": [
    "print(df)"
   ]
  },
  {
   "cell_type": "code",
   "execution_count": 11,
   "metadata": {},
   "outputs": [],
   "source": [
    "df_nuvem_marcas = df.copy()"
   ]
  },
  {
   "cell_type": "code",
   "execution_count": 12,
   "metadata": {},
   "outputs": [
    {
     "name": "stdout",
     "output_type": "stream",
     "text": [
      "    ID  FLIGHT CELEBRIDADE LEMBRANCA_DE_MARCA\n",
      "IX                                           \n",
      "1    1       8     Alcione                não\n",
      "2    2       8     Alcione                Não\n",
      "3    3       8     Alcione                Não\n",
      "4    4       8     Alcione                nao\n",
      "5    5       8     Alcione                não\n"
     ]
    }
   ],
   "source": [
    "print(df_nuvem_marcas.head())"
   ]
  },
  {
   "cell_type": "code",
   "execution_count": 13,
   "metadata": {
    "scrolled": true
   },
   "outputs": [
    {
     "data": {
      "text/plain": [
       "IX\n",
       "1                                           não\n",
       "2                                           não\n",
       "3                                           não\n",
       "4                                           nao\n",
       "5                                           não\n",
       "6                      não me lembro de nenhum.\n",
       "7                                           não\n",
       "8                                    não lembro\n",
       "9                                           não\n",
       "10                                          não\n",
       "11                                   não lembro\n",
       "12                                não me lembro\n",
       "13                                          não\n",
       "14                                          não\n",
       "15                                           cd\n",
       "16                                          não\n",
       "17                                   não lembro\n",
       "18                                          não\n",
       "19                        cantando samba recife\n",
       "20                                          não\n",
       "21                                   nao lembro\n",
       "22                                          não\n",
       "23            sim...da campanha maria da penha,\n",
       "24                                   nao lembro\n",
       "25                              nao, não lembro\n",
       "26        sim, mas não lembro qual a propaganda\n",
       "27                                          sim\n",
       "28                                          sim\n",
       "29                                          não\n",
       "30                                          nao\n",
       "                          ...                  \n",
       "342873                                        0\n",
       "342874                                        0\n",
       "342875                                        0\n",
       "342876                                        0\n",
       "342877                                        0\n",
       "342878                                        0\n",
       "342879                                        0\n",
       "342880                                        0\n",
       "342881                                        0\n",
       "342882                                        0\n",
       "342883                                        0\n",
       "342884                                        0\n",
       "342885                                        0\n",
       "342886                                        0\n",
       "342887                                        0\n",
       "342888                                        0\n",
       "342889                                        0\n",
       "342890                                        0\n",
       "342891                                        0\n",
       "342892                                        0\n",
       "342893                                        0\n",
       "342894                                        0\n",
       "342895                                        0\n",
       "342896                                        0\n",
       "342897                                        0\n",
       "342898                                        0\n",
       "342899                                        0\n",
       "342900                                        0\n",
       "342901                                        0\n",
       "342902                                        0\n",
       "Name: LEMBRANCA_DE_MARCA, Length: 342902, dtype: object"
      ]
     },
     "execution_count": 13,
     "metadata": {},
     "output_type": "execute_result"
    }
   ],
   "source": [
    "df_nuvem_marcas = df_nuvem_marcas['LEMBRANCA_DE_MARCA'].str.lower()\n",
    "type(df_nuvem_marcas)\n",
    "df_nuvem_marcas"
   ]
  },
  {
   "cell_type": "code",
   "execution_count": 14,
   "metadata": {},
   "outputs": [
    {
     "name": "stdout",
     "output_type": "stream",
     "text": [
      "Arquivo exportado\n"
     ]
    }
   ],
   "source": [
    "if OPT_GERAR_AUX_MARCAS == 1:\n",
    "    writeDF(df_nuvem_marcas, 'auxMARCAS')\n",
    "    print('Arquivo exportado')"
   ]
  }
 ],
 "metadata": {
  "kernelspec": {
   "display_name": "Python 3",
   "language": "python",
   "name": "python3"
  },
  "language_info": {
   "codemirror_mode": {
    "name": "ipython",
    "version": 3
   },
   "file_extension": ".py",
   "mimetype": "text/x-python",
   "name": "python",
   "nbconvert_exporter": "python",
   "pygments_lexer": "ipython3",
   "version": "3.6.5"
  }
 },
 "nbformat": 4,
 "nbformat_minor": 2
}
